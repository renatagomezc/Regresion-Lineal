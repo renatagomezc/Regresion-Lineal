{
  "nbformat": 4,
  "nbformat_minor": 0,
  "metadata": {
    "colab": {
      "provenance": [],
      "toc_visible": true,
      "authorship_tag": "ABX9TyPgspnTcr4wtRJeu413YJPF",
      "include_colab_link": true
    },
    "kernelspec": {
      "name": "python3",
      "display_name": "Python 3"
    },
    "language_info": {
      "name": "python"
    }
  },
  "cells": [
    {
      "cell_type": "markdown",
      "metadata": {
        "id": "view-in-github",
        "colab_type": "text"
      },
      "source": [
        "<a href=\"https://colab.research.google.com/github/renatagomezc/Regresion-Lineal/blob/main/DF_Actividad_6_2_(Regresi%C3%B3n_Lineal_M%C3%BAltiple).ipynb\" target=\"_parent\"><img src=\"https://colab.research.google.com/assets/colab-badge.svg\" alt=\"Open In Colab\"/></a>"
      ]
    },
    {
      "cell_type": "markdown",
      "source": [
        "#**Actividad 6.2 (Regresión Lineal Múltiple) DF**"
      ],
      "metadata": {
        "id": "ipY6wPBBV6RT"
      }
    },
    {
      "cell_type": "markdown",
      "source": [
        "*Integrantes*\n",
        "- Paola Plascencia Rey\n",
        "- Nicole Aryam Rodriguez \n",
        "- Renata Pilar Gómez Castillo"
      ],
      "metadata": {
        "id": "VKG840gOV8Nr"
      }
    },
    {
      "cell_type": "code",
      "execution_count": 99,
      "metadata": {
        "id": "TUcO8O2aUt0a"
      },
      "outputs": [],
      "source": [
        "import pandas as pd\n",
        "import numpy as np\n",
        "import matplotlib.pyplot as plt\n",
        "import seaborn as sns"
      ]
    },
    {
      "cell_type": "code",
      "source": [
        "df= pd.read_csv('df_limpio.csv', index_col=0)\n",
        "df.head()"
      ],
      "metadata": {
        "colab": {
          "base_uri": "https://localhost:8080/",
          "height": 646
        },
        "id": "Jim49FWRXE0E",
        "outputId": "a7bb8a35-f2da-47d1-efe2-f9722493e298"
      },
      "execution_count": 100,
      "outputs": [
        {
          "output_type": "stream",
          "name": "stderr",
          "text": [
            "<ipython-input-100-75708f232c52>:1: DtypeWarning: Columns (20,21,22,23,24,25,26,27,28,29,30,31,32,33,34,35,36,37,38,39,40,41) have mixed types. Specify dtype option on import or set low_memory=False.\n",
            "  df= pd.read_csv('df_limpio.csv', index_col=0)\n"
          ]
        },
        {
          "output_type": "execute_result",
          "data": {
            "text/plain": [
              "     availability_60  availability_90  availability_365  number_of_reviews  \\\n",
              "0.0             19.0             49.0             324.0               21.0   \n",
              "1.0             41.0             71.0             346.0               61.0   \n",
              "2.0              0.0              0.0              87.0               39.0   \n",
              "3.0             58.0             88.0             363.0                0.0   \n",
              "4.0             59.0             89.0             357.0               64.0   \n",
              "\n",
              "     number_of_reviews_ltm  number_of_reviews_l30d  review_scores_rating  \\\n",
              "0.0                    0.0                     0.0                  4.95   \n",
              "1.0                    1.0                     0.0                  4.85   \n",
              "2.0                    2.0                     0.0                  4.57   \n",
              "3.0                    0.0                     0.0                  0.00   \n",
              "4.0                   12.0                     1.0                  4.58   \n",
              "\n",
              "     review_scores_accuracy  review_scores_cleanliness  review_scores_checkin  \\\n",
              "0.0                    4.71                       4.95                   5.00   \n",
              "1.0                    4.90                       4.88                   4.93   \n",
              "2.0                    4.82                       4.71                   4.92   \n",
              "3.0                    0.00                       0.00                   0.00   \n",
              "4.0                    4.56                       4.70                   4.87   \n",
              "\n",
              "     ...       property_type        room_type  bathrooms_text  \\\n",
              "0.0  ...         Entire loft  Entire home/apt       1.5 baths   \n",
              "1.0  ...  Entire guest suite  Entire home/apt          1 bath   \n",
              "2.0  ...  Entire rental unit  Entire home/apt         2 baths   \n",
              "3.0  ...        Entire villa  Entire home/apt          1 bath   \n",
              "4.0  ...         Entire home  Entire home/apt       5.5 baths   \n",
              "\n",
              "                                             amenities       price  \\\n",
              "0.0  [\"Wifi\", \"Hangers\", \"Fire extinguisher\", \"Sham...   $1,434.00   \n",
              "1.0  [\"Free street parking\", \"Cleaning products\", \"...     $830.00   \n",
              "2.0  [\"Wifi \\u2013 38 Mbps\", \"Central air condition...   $1,469.00   \n",
              "3.0  [\"Wifi\", \"Washer\", \"BBQ grill\", \"Indoor firepl...   $3,658.00   \n",
              "4.0  [\"Free street parking\", \"Security cameras on p...  $18,000.00   \n",
              "\n",
              "     has_availability  calendar_last_scraped  first_review  last_review  \\\n",
              "0.0                 t             2023-03-30    2014-01-03   2018-06-24   \n",
              "1.0                 t             2023-03-30    2014-01-01   2022-11-04   \n",
              "2.0                 t             2023-03-29    2012-10-31   2022-12-21   \n",
              "3.0                 t             2023-03-29            --           --   \n",
              "4.0                 t             2023-03-30    2011-11-09   2023-03-26   \n",
              "\n",
              "    instant_bookable  \n",
              "0.0                f  \n",
              "1.0                f  \n",
              "2.0                f  \n",
              "3.0                f  \n",
              "4.0                f  \n",
              "\n",
              "[5 rows x 75 columns]"
            ],
            "text/html": [
              "\n",
              "  <div id=\"df-e8ddb6f0-56fc-408d-83ff-f20290e6e130\">\n",
              "    <div class=\"colab-df-container\">\n",
              "      <div>\n",
              "<style scoped>\n",
              "    .dataframe tbody tr th:only-of-type {\n",
              "        vertical-align: middle;\n",
              "    }\n",
              "\n",
              "    .dataframe tbody tr th {\n",
              "        vertical-align: top;\n",
              "    }\n",
              "\n",
              "    .dataframe thead th {\n",
              "        text-align: right;\n",
              "    }\n",
              "</style>\n",
              "<table border=\"1\" class=\"dataframe\">\n",
              "  <thead>\n",
              "    <tr style=\"text-align: right;\">\n",
              "      <th></th>\n",
              "      <th>availability_60</th>\n",
              "      <th>availability_90</th>\n",
              "      <th>availability_365</th>\n",
              "      <th>number_of_reviews</th>\n",
              "      <th>number_of_reviews_ltm</th>\n",
              "      <th>number_of_reviews_l30d</th>\n",
              "      <th>review_scores_rating</th>\n",
              "      <th>review_scores_accuracy</th>\n",
              "      <th>review_scores_cleanliness</th>\n",
              "      <th>review_scores_checkin</th>\n",
              "      <th>...</th>\n",
              "      <th>property_type</th>\n",
              "      <th>room_type</th>\n",
              "      <th>bathrooms_text</th>\n",
              "      <th>amenities</th>\n",
              "      <th>price</th>\n",
              "      <th>has_availability</th>\n",
              "      <th>calendar_last_scraped</th>\n",
              "      <th>first_review</th>\n",
              "      <th>last_review</th>\n",
              "      <th>instant_bookable</th>\n",
              "    </tr>\n",
              "  </thead>\n",
              "  <tbody>\n",
              "    <tr>\n",
              "      <th>0.0</th>\n",
              "      <td>19.0</td>\n",
              "      <td>49.0</td>\n",
              "      <td>324.0</td>\n",
              "      <td>21.0</td>\n",
              "      <td>0.0</td>\n",
              "      <td>0.0</td>\n",
              "      <td>4.95</td>\n",
              "      <td>4.71</td>\n",
              "      <td>4.95</td>\n",
              "      <td>5.00</td>\n",
              "      <td>...</td>\n",
              "      <td>Entire loft</td>\n",
              "      <td>Entire home/apt</td>\n",
              "      <td>1.5 baths</td>\n",
              "      <td>[\"Wifi\", \"Hangers\", \"Fire extinguisher\", \"Sham...</td>\n",
              "      <td>$1,434.00</td>\n",
              "      <td>t</td>\n",
              "      <td>2023-03-30</td>\n",
              "      <td>2014-01-03</td>\n",
              "      <td>2018-06-24</td>\n",
              "      <td>f</td>\n",
              "    </tr>\n",
              "    <tr>\n",
              "      <th>1.0</th>\n",
              "      <td>41.0</td>\n",
              "      <td>71.0</td>\n",
              "      <td>346.0</td>\n",
              "      <td>61.0</td>\n",
              "      <td>1.0</td>\n",
              "      <td>0.0</td>\n",
              "      <td>4.85</td>\n",
              "      <td>4.90</td>\n",
              "      <td>4.88</td>\n",
              "      <td>4.93</td>\n",
              "      <td>...</td>\n",
              "      <td>Entire guest suite</td>\n",
              "      <td>Entire home/apt</td>\n",
              "      <td>1 bath</td>\n",
              "      <td>[\"Free street parking\", \"Cleaning products\", \"...</td>\n",
              "      <td>$830.00</td>\n",
              "      <td>t</td>\n",
              "      <td>2023-03-30</td>\n",
              "      <td>2014-01-01</td>\n",
              "      <td>2022-11-04</td>\n",
              "      <td>f</td>\n",
              "    </tr>\n",
              "    <tr>\n",
              "      <th>2.0</th>\n",
              "      <td>0.0</td>\n",
              "      <td>0.0</td>\n",
              "      <td>87.0</td>\n",
              "      <td>39.0</td>\n",
              "      <td>2.0</td>\n",
              "      <td>0.0</td>\n",
              "      <td>4.57</td>\n",
              "      <td>4.82</td>\n",
              "      <td>4.71</td>\n",
              "      <td>4.92</td>\n",
              "      <td>...</td>\n",
              "      <td>Entire rental unit</td>\n",
              "      <td>Entire home/apt</td>\n",
              "      <td>2 baths</td>\n",
              "      <td>[\"Wifi \\u2013 38 Mbps\", \"Central air condition...</td>\n",
              "      <td>$1,469.00</td>\n",
              "      <td>t</td>\n",
              "      <td>2023-03-29</td>\n",
              "      <td>2012-10-31</td>\n",
              "      <td>2022-12-21</td>\n",
              "      <td>f</td>\n",
              "    </tr>\n",
              "    <tr>\n",
              "      <th>3.0</th>\n",
              "      <td>58.0</td>\n",
              "      <td>88.0</td>\n",
              "      <td>363.0</td>\n",
              "      <td>0.0</td>\n",
              "      <td>0.0</td>\n",
              "      <td>0.0</td>\n",
              "      <td>0.00</td>\n",
              "      <td>0.00</td>\n",
              "      <td>0.00</td>\n",
              "      <td>0.00</td>\n",
              "      <td>...</td>\n",
              "      <td>Entire villa</td>\n",
              "      <td>Entire home/apt</td>\n",
              "      <td>1 bath</td>\n",
              "      <td>[\"Wifi\", \"Washer\", \"BBQ grill\", \"Indoor firepl...</td>\n",
              "      <td>$3,658.00</td>\n",
              "      <td>t</td>\n",
              "      <td>2023-03-29</td>\n",
              "      <td>--</td>\n",
              "      <td>--</td>\n",
              "      <td>f</td>\n",
              "    </tr>\n",
              "    <tr>\n",
              "      <th>4.0</th>\n",
              "      <td>59.0</td>\n",
              "      <td>89.0</td>\n",
              "      <td>357.0</td>\n",
              "      <td>64.0</td>\n",
              "      <td>12.0</td>\n",
              "      <td>1.0</td>\n",
              "      <td>4.58</td>\n",
              "      <td>4.56</td>\n",
              "      <td>4.70</td>\n",
              "      <td>4.87</td>\n",
              "      <td>...</td>\n",
              "      <td>Entire home</td>\n",
              "      <td>Entire home/apt</td>\n",
              "      <td>5.5 baths</td>\n",
              "      <td>[\"Free street parking\", \"Security cameras on p...</td>\n",
              "      <td>$18,000.00</td>\n",
              "      <td>t</td>\n",
              "      <td>2023-03-30</td>\n",
              "      <td>2011-11-09</td>\n",
              "      <td>2023-03-26</td>\n",
              "      <td>f</td>\n",
              "    </tr>\n",
              "  </tbody>\n",
              "</table>\n",
              "<p>5 rows × 75 columns</p>\n",
              "</div>\n",
              "      <button class=\"colab-df-convert\" onclick=\"convertToInteractive('df-e8ddb6f0-56fc-408d-83ff-f20290e6e130')\"\n",
              "              title=\"Convert this dataframe to an interactive table.\"\n",
              "              style=\"display:none;\">\n",
              "        \n",
              "  <svg xmlns=\"http://www.w3.org/2000/svg\" height=\"24px\"viewBox=\"0 0 24 24\"\n",
              "       width=\"24px\">\n",
              "    <path d=\"M0 0h24v24H0V0z\" fill=\"none\"/>\n",
              "    <path d=\"M18.56 5.44l.94 2.06.94-2.06 2.06-.94-2.06-.94-.94-2.06-.94 2.06-2.06.94zm-11 1L8.5 8.5l.94-2.06 2.06-.94-2.06-.94L8.5 2.5l-.94 2.06-2.06.94zm10 10l.94 2.06.94-2.06 2.06-.94-2.06-.94-.94-2.06-.94 2.06-2.06.94z\"/><path d=\"M17.41 7.96l-1.37-1.37c-.4-.4-.92-.59-1.43-.59-.52 0-1.04.2-1.43.59L10.3 9.45l-7.72 7.72c-.78.78-.78 2.05 0 2.83L4 21.41c.39.39.9.59 1.41.59.51 0 1.02-.2 1.41-.59l7.78-7.78 2.81-2.81c.8-.78.8-2.07 0-2.86zM5.41 20L4 18.59l7.72-7.72 1.47 1.35L5.41 20z\"/>\n",
              "  </svg>\n",
              "      </button>\n",
              "      \n",
              "  <style>\n",
              "    .colab-df-container {\n",
              "      display:flex;\n",
              "      flex-wrap:wrap;\n",
              "      gap: 12px;\n",
              "    }\n",
              "\n",
              "    .colab-df-convert {\n",
              "      background-color: #E8F0FE;\n",
              "      border: none;\n",
              "      border-radius: 50%;\n",
              "      cursor: pointer;\n",
              "      display: none;\n",
              "      fill: #1967D2;\n",
              "      height: 32px;\n",
              "      padding: 0 0 0 0;\n",
              "      width: 32px;\n",
              "    }\n",
              "\n",
              "    .colab-df-convert:hover {\n",
              "      background-color: #E2EBFA;\n",
              "      box-shadow: 0px 1px 2px rgba(60, 64, 67, 0.3), 0px 1px 3px 1px rgba(60, 64, 67, 0.15);\n",
              "      fill: #174EA6;\n",
              "    }\n",
              "\n",
              "    [theme=dark] .colab-df-convert {\n",
              "      background-color: #3B4455;\n",
              "      fill: #D2E3FC;\n",
              "    }\n",
              "\n",
              "    [theme=dark] .colab-df-convert:hover {\n",
              "      background-color: #434B5C;\n",
              "      box-shadow: 0px 1px 3px 1px rgba(0, 0, 0, 0.15);\n",
              "      filter: drop-shadow(0px 1px 2px rgba(0, 0, 0, 0.3));\n",
              "      fill: #FFFFFF;\n",
              "    }\n",
              "  </style>\n",
              "\n",
              "      <script>\n",
              "        const buttonEl =\n",
              "          document.querySelector('#df-e8ddb6f0-56fc-408d-83ff-f20290e6e130 button.colab-df-convert');\n",
              "        buttonEl.style.display =\n",
              "          google.colab.kernel.accessAllowed ? 'block' : 'none';\n",
              "\n",
              "        async function convertToInteractive(key) {\n",
              "          const element = document.querySelector('#df-e8ddb6f0-56fc-408d-83ff-f20290e6e130');\n",
              "          const dataTable =\n",
              "            await google.colab.kernel.invokeFunction('convertToInteractive',\n",
              "                                                     [key], {});\n",
              "          if (!dataTable) return;\n",
              "\n",
              "          const docLinkHtml = 'Like what you see? Visit the ' +\n",
              "            '<a target=\"_blank\" href=https://colab.research.google.com/notebooks/data_table.ipynb>data table notebook</a>'\n",
              "            + ' to learn more about interactive tables.';\n",
              "          element.innerHTML = '';\n",
              "          dataTable['output_type'] = 'display_data';\n",
              "          await google.colab.output.renderOutput(dataTable, element);\n",
              "          const docLink = document.createElement('div');\n",
              "          docLink.innerHTML = docLinkHtml;\n",
              "          element.appendChild(docLink);\n",
              "        }\n",
              "      </script>\n",
              "    </div>\n",
              "  </div>\n",
              "  "
            ]
          },
          "metadata": {},
          "execution_count": 100
        }
      ]
    },
    {
      "cell_type": "markdown",
      "source": [
        "**Valores Nulos y outliers**"
      ],
      "metadata": {
        "id": "jt_Fw8E6X8JD"
      }
    },
    {
      "cell_type": "code",
      "source": [
        "df.isnull().sum().sum()"
      ],
      "metadata": {
        "colab": {
          "base_uri": "https://localhost:8080/"
        },
        "id": "ims9h4E1Xy_F",
        "outputId": "6cf1e6ac-4ca5-462a-aafa-1cec124a6abe"
      },
      "execution_count": 101,
      "outputs": [
        {
          "output_type": "execute_result",
          "data": {
            "text/plain": [
              "0"
            ]
          },
          "metadata": {},
          "execution_count": 101
        }
      ]
    },
    {
      "cell_type": "markdown",
      "source": [
        "Estamos usando data ya procesada, por lo que los valores nulos y outliers ya fueron tratados"
      ],
      "metadata": {
        "id": "FUqlCAdLX-h8"
      }
    },
    {
      "cell_type": "markdown",
      "source": [
        "##**Entire home/Apt**"
      ],
      "metadata": {
        "id": "-aieRlAkXhTT"
      }
    },
    {
      "cell_type": "code",
      "source": [
        "entire=df[df['room_type']=='Entire home/apt']"
      ],
      "metadata": {
        "id": "WR4oMdZsXjxA"
      },
      "execution_count": 102,
      "outputs": []
    },
    {
      "cell_type": "code",
      "source": [
        "y_e = []\n",
        "x1_e=[]\n",
        "x2_e = []\n",
        "x3_e = []\n",
        "x4_e = []\n",
        "deter_e=[]\n",
        "corr_e=[]"
      ],
      "metadata": {
        "id": "vOaUHQlWcT4J"
      },
      "execution_count": 103,
      "outputs": []
    },
    {
      "cell_type": "markdown",
      "source": [
        "###**host_acceptance_rate vs host_response_rate, Price, number_of_reviews , review_scores_rating**"
      ],
      "metadata": {
        "id": "UkKYZcjuXqfv"
      }
    },
    {
      "cell_type": "code",
      "source": [
        "data = entire"
      ],
      "metadata": {
        "id": "U2ZI716mZJ73"
      },
      "execution_count": 104,
      "outputs": []
    },
    {
      "cell_type": "code",
      "source": [
        "data.host_acceptance_rate= data.host_acceptance_rate.replace({'\\%':''}, regex = True)\n",
        "data.host_acceptance_rate= data.host_acceptance_rate.replace({'\\,':''}, regex = True)\n",
        "data.host_acceptance_rate= data.host_acceptance_rate.replace({'--':'0'}, regex = True)\n",
        "data['host_acceptance_rate'] = data['host_acceptance_rate'].astype(float)\n",
        "\n",
        "data.host_response_rate= data.host_response_rate.replace({'\\%':''}, regex = True)\n",
        "data.host_response_rate= data.host_response_rate.replace({'\\,':''}, regex = True)\n",
        "data.host_response_rate= data.host_response_rate.replace({'--':'0'}, regex = True)\n",
        "data['host_response_rate'] = data['host_response_rate'].astype(float)\n",
        "\n",
        "data.price= data.price.replace({'\\$':''}, regex = True)\n",
        "data.price= data.price.replace({'\\,':''}, regex = True)\n",
        "data.price= data.price.replace({'--':'0'}, regex = True)\n",
        "data['price'] = data['price'].astype(float)\n"
      ],
      "metadata": {
        "colab": {
          "base_uri": "https://localhost:8080/"
        },
        "id": "6KitcmIoYsWN",
        "outputId": "1bb4cb5e-0634-4f44-d471-9b86fe8f462d"
      },
      "execution_count": 105,
      "outputs": [
        {
          "output_type": "stream",
          "name": "stderr",
          "text": [
            "<ipython-input-105-1c2dc9575a21>:1: SettingWithCopyWarning: \n",
            "A value is trying to be set on a copy of a slice from a DataFrame.\n",
            "Try using .loc[row_indexer,col_indexer] = value instead\n",
            "\n",
            "See the caveats in the documentation: https://pandas.pydata.org/pandas-docs/stable/user_guide/indexing.html#returning-a-view-versus-a-copy\n",
            "  data.host_acceptance_rate= data.host_acceptance_rate.replace({'\\%':''}, regex = True)\n",
            "<ipython-input-105-1c2dc9575a21>:2: SettingWithCopyWarning: \n",
            "A value is trying to be set on a copy of a slice from a DataFrame.\n",
            "Try using .loc[row_indexer,col_indexer] = value instead\n",
            "\n",
            "See the caveats in the documentation: https://pandas.pydata.org/pandas-docs/stable/user_guide/indexing.html#returning-a-view-versus-a-copy\n",
            "  data.host_acceptance_rate= data.host_acceptance_rate.replace({'\\,':''}, regex = True)\n",
            "<ipython-input-105-1c2dc9575a21>:3: SettingWithCopyWarning: \n",
            "A value is trying to be set on a copy of a slice from a DataFrame.\n",
            "Try using .loc[row_indexer,col_indexer] = value instead\n",
            "\n",
            "See the caveats in the documentation: https://pandas.pydata.org/pandas-docs/stable/user_guide/indexing.html#returning-a-view-versus-a-copy\n",
            "  data.host_acceptance_rate= data.host_acceptance_rate.replace({'--':'0'}, regex = True)\n",
            "<ipython-input-105-1c2dc9575a21>:4: SettingWithCopyWarning: \n",
            "A value is trying to be set on a copy of a slice from a DataFrame.\n",
            "Try using .loc[row_indexer,col_indexer] = value instead\n",
            "\n",
            "See the caveats in the documentation: https://pandas.pydata.org/pandas-docs/stable/user_guide/indexing.html#returning-a-view-versus-a-copy\n",
            "  data['host_acceptance_rate'] = data['host_acceptance_rate'].astype(float)\n",
            "<ipython-input-105-1c2dc9575a21>:6: SettingWithCopyWarning: \n",
            "A value is trying to be set on a copy of a slice from a DataFrame.\n",
            "Try using .loc[row_indexer,col_indexer] = value instead\n",
            "\n",
            "See the caveats in the documentation: https://pandas.pydata.org/pandas-docs/stable/user_guide/indexing.html#returning-a-view-versus-a-copy\n",
            "  data.host_response_rate= data.host_response_rate.replace({'\\%':''}, regex = True)\n",
            "<ipython-input-105-1c2dc9575a21>:7: SettingWithCopyWarning: \n",
            "A value is trying to be set on a copy of a slice from a DataFrame.\n",
            "Try using .loc[row_indexer,col_indexer] = value instead\n",
            "\n",
            "See the caveats in the documentation: https://pandas.pydata.org/pandas-docs/stable/user_guide/indexing.html#returning-a-view-versus-a-copy\n",
            "  data.host_response_rate= data.host_response_rate.replace({'\\,':''}, regex = True)\n",
            "<ipython-input-105-1c2dc9575a21>:8: SettingWithCopyWarning: \n",
            "A value is trying to be set on a copy of a slice from a DataFrame.\n",
            "Try using .loc[row_indexer,col_indexer] = value instead\n",
            "\n",
            "See the caveats in the documentation: https://pandas.pydata.org/pandas-docs/stable/user_guide/indexing.html#returning-a-view-versus-a-copy\n",
            "  data.host_response_rate= data.host_response_rate.replace({'--':'0'}, regex = True)\n",
            "<ipython-input-105-1c2dc9575a21>:9: SettingWithCopyWarning: \n",
            "A value is trying to be set on a copy of a slice from a DataFrame.\n",
            "Try using .loc[row_indexer,col_indexer] = value instead\n",
            "\n",
            "See the caveats in the documentation: https://pandas.pydata.org/pandas-docs/stable/user_guide/indexing.html#returning-a-view-versus-a-copy\n",
            "  data['host_response_rate'] = data['host_response_rate'].astype(float)\n",
            "<ipython-input-105-1c2dc9575a21>:11: SettingWithCopyWarning: \n",
            "A value is trying to be set on a copy of a slice from a DataFrame.\n",
            "Try using .loc[row_indexer,col_indexer] = value instead\n",
            "\n",
            "See the caveats in the documentation: https://pandas.pydata.org/pandas-docs/stable/user_guide/indexing.html#returning-a-view-versus-a-copy\n",
            "  data.price= data.price.replace({'\\$':''}, regex = True)\n",
            "<ipython-input-105-1c2dc9575a21>:12: SettingWithCopyWarning: \n",
            "A value is trying to be set on a copy of a slice from a DataFrame.\n",
            "Try using .loc[row_indexer,col_indexer] = value instead\n",
            "\n",
            "See the caveats in the documentation: https://pandas.pydata.org/pandas-docs/stable/user_guide/indexing.html#returning-a-view-versus-a-copy\n",
            "  data.price= data.price.replace({'\\,':''}, regex = True)\n",
            "<ipython-input-105-1c2dc9575a21>:13: SettingWithCopyWarning: \n",
            "A value is trying to be set on a copy of a slice from a DataFrame.\n",
            "Try using .loc[row_indexer,col_indexer] = value instead\n",
            "\n",
            "See the caveats in the documentation: https://pandas.pydata.org/pandas-docs/stable/user_guide/indexing.html#returning-a-view-versus-a-copy\n",
            "  data.price= data.price.replace({'--':'0'}, regex = True)\n",
            "<ipython-input-105-1c2dc9575a21>:14: SettingWithCopyWarning: \n",
            "A value is trying to be set on a copy of a slice from a DataFrame.\n",
            "Try using .loc[row_indexer,col_indexer] = value instead\n",
            "\n",
            "See the caveats in the documentation: https://pandas.pydata.org/pandas-docs/stable/user_guide/indexing.html#returning-a-view-versus-a-copy\n",
            "  data['price'] = data['price'].astype(float)\n"
          ]
        }
      ]
    },
    {
      "cell_type": "code",
      "source": [
        "y = data[['host_acceptance_rate']]\n",
        "x1 = data[['host_response_rate']]\n",
        "x2 = data[['price']]\n",
        "x3 = data[['number_of_reviews']]\n",
        "x4 = data[['review_scores_rating']]"
      ],
      "metadata": {
        "id": "_0MGYcO6YIs-"
      },
      "execution_count": 106,
      "outputs": []
    },
    {
      "cell_type": "code",
      "source": [
        "from turtle import color\n",
        "sns.scatterplot(x= x1.columns[0], y=y.columns[0], color=\"lightblue\", data=data)\n",
        "sns.scatterplot(x=x2.columns[0], y=y.columns[0], color=\"lightgreen\", data=data)\n",
        "sns.scatterplot(x=x3.columns[0], y=y.columns[0], color=\"pink\", data=data)\n",
        "sns.scatterplot(x=x4.columns[0], y=y.columns[0], color=\"orange\", data=data)"
      ],
      "metadata": {
        "colab": {
          "base_uri": "https://localhost:8080/",
          "height": 467
        },
        "id": "g2SdvBpmYHR4",
        "outputId": "645f1bbd-0612-441c-8a51-31caf1569c4b"
      },
      "execution_count": 107,
      "outputs": [
        {
          "output_type": "execute_result",
          "data": {
            "text/plain": [
              "<Axes: xlabel='host_response_rate', ylabel='host_acceptance_rate'>"
            ]
          },
          "metadata": {},
          "execution_count": 107
        },
        {
          "output_type": "display_data",
          "data": {
            "text/plain": [
              "<Figure size 640x480 with 1 Axes>"
            ],
            "image/png": "[encoded data removed]"
          },
          "metadata": {}
        }
      ]
    },
    {
      "cell_type": "code",
      "source": [
        "#Declaramos las variables dependientes e independientes para la regresión lineal\n",
        "Vars_Indep= data[[x1.columns[0],x2.columns[0],x3.columns[0],x4.columns[0]]]\n",
        "Var_Dep= y"
      ],
      "metadata": {
        "id": "rkcMRnSPaBC-"
      },
      "execution_count": 108,
      "outputs": []
    },
    {
      "cell_type": "code",
      "source": [
        "#Se define model como la función de regresión lineal\n",
        "from sklearn.linear_model import LinearRegression\n",
        "model= LinearRegression()"
      ],
      "metadata": {
        "id": "Jby7vWxVL2ZS"
      },
      "execution_count": 109,
      "outputs": []
    },
    {
      "cell_type": "code",
      "source": [
        "#Verificamos la función relacionada al modelo\n",
        "type(model)"
      ],
      "metadata": {
        "colab": {
          "base_uri": "https://localhost:8080/"
        },
        "id": "5cb3-qg0L4NV",
        "outputId": "9adc1164-6278-41fc-a676-1fc2393bdd45"
      },
      "execution_count": 110,
      "outputs": [
        {
          "output_type": "execute_result",
          "data": {
            "text/plain": [
              "sklearn.linear_model._base.LinearRegression"
            ]
          },
          "metadata": {},
          "execution_count": 110
        }
      ]
    },
    {
      "cell_type": "code",
      "source": [
        "#Ajustamos el modelo con las variables antes declaradas\n",
        "model.fit(X=Vars_Indep, y=Var_Dep)"
      ],
      "metadata": {
        "id": "ZJYORGSRL6CN",
        "colab": {
          "base_uri": "https://localhost:8080/",
          "height": 74
        },
        "outputId": "bf5ab413-0a5a-421a-edc5-91346c481c66"
      },
      "execution_count": 111,
      "outputs": [
        {
          "output_type": "execute_result",
          "data": {
            "text/plain": [
              "LinearRegression()"
            ],
            "text/html": [
              "<style>#sk-container-id-4 {color: black;background-color: white;}#sk-container-id-4 pre{padding: 0;}#sk-container-id-4 div.sk-toggleable {background-color: white;}#sk-container-id-4 label.sk-toggleable__label {cursor: pointer;display: block;width: 100%;margin-bottom: 0;padding: 0.3em;box-sizing: border-box;text-align: center;}#sk-container-id-4 label.sk-toggleable__label-arrow:before {content: \"▸\";float: left;margin-right: 0.25em;color: #696969;}#sk-container-id-4 label.sk-toggleable__label-arrow:hover:before {color: black;}#sk-container-id-4 div.sk-estimator:hover label.sk-toggleable__label-arrow:before {color: black;}#sk-container-id-4 div.sk-toggleable__content {max-height: 0;max-width: 0;overflow: hidden;text-align: left;background-color: #f0f8ff;}#sk-container-id-4 div.sk-toggleable__content pre {margin: 0.2em;color: black;border-radius: 0.25em;background-color: #f0f8ff;}#sk-container-id-4 input.sk-toggleable__control:checked~div.sk-toggleable__content {max-height: 200px;max-width: 100%;overflow: auto;}#sk-container-id-4 input.sk-toggleable__control:checked~label.sk-toggleable__label-arrow:before {content: \"▾\";}#sk-container-id-4 div.sk-estimator input.sk-toggleable__control:checked~label.sk-toggleable__label {background-color: #d4ebff;}#sk-container-id-4 div.sk-label input.sk-toggleable__control:checked~label.sk-toggleable__label {background-color: #d4ebff;}#sk-container-id-4 input.sk-hidden--visually {border: 0;clip: rect(1px 1px 1px 1px);clip: rect(1px, 1px, 1px, 1px);height: 1px;margin: -1px;overflow: hidden;padding: 0;position: absolute;width: 1px;}#sk-container-id-4 div.sk-estimator {font-family: monospace;background-color: #f0f8ff;border: 1px dotted black;border-radius: 0.25em;box-sizing: border-box;margin-bottom: 0.5em;}#sk-container-id-4 div.sk-estimator:hover {background-color: #d4ebff;}#sk-container-id-4 div.sk-parallel-item::after {content: \"\";width: 100%;border-bottom: 1px solid gray;flex-grow: 1;}#sk-container-id-4 div.sk-label:hover label.sk-toggleable__label {background-color: #d4ebff;}#sk-container-id-4 div.sk-serial::before {content: \"\";position: absolute;border-left: 1px solid gray;box-sizing: border-box;top: 0;bottom: 0;left: 50%;z-index: 0;}#sk-container-id-4 div.sk-serial {display: flex;flex-direction: column;align-items: center;background-color: white;padding-right: 0.2em;padding-left: 0.2em;position: relative;}#sk-container-id-4 div.sk-item {position: relative;z-index: 1;}#sk-container-id-4 div.sk-parallel {display: flex;align-items: stretch;justify-content: center;background-color: white;position: relative;}#sk-container-id-4 div.sk-item::before, #sk-container-id-4 div.sk-parallel-item::before {content: \"\";position: absolute;border-left: 1px solid gray;box-sizing: border-box;top: 0;bottom: 0;left: 50%;z-index: -1;}#sk-container-id-4 div.sk-parallel-item {display: flex;flex-direction: column;z-index: 1;position: relative;background-color: white;}#sk-container-id-4 div.sk-parallel-item:first-child::after {align-self: flex-end;width: 50%;}#sk-container-id-4 div.sk-parallel-item:last-child::after {align-self: flex-start;width: 50%;}#sk-container-id-4 div.sk-parallel-item:only-child::after {width: 0;}#sk-container-id-4 div.sk-dashed-wrapped {border: 1px dashed gray;margin: 0 0.4em 0.5em 0.4em;box-sizing: border-box;padding-bottom: 0.4em;background-color: white;}#sk-container-id-4 div.sk-label label {font-family: monospace;font-weight: bold;display: inline-block;line-height: 1.2em;}#sk-container-id-4 div.sk-label-container {text-align: center;}#sk-container-id-4 div.sk-container {/* jupyter's `normalize.less` sets `[hidden] { display: none; }` but bootstrap.min.css set `[hidden] { display: none !important; }` so we also need the `!important` here to be able to override the default hidden behavior on the sphinx rendered scikit-learn.org. See: https://github.com/scikit-learn/scikit-learn/issues/21755 */display: inline-block !important;position: relative;}#sk-container-id-4 div.sk-text-repr-fallback {display: none;}</style><div id=\"sk-container-id-4\" class=\"sk-top-container\"><div class=\"sk-text-repr-fallback\"><pre>LinearRegression()</pre><b>In a Jupyter environment, please rerun this cell to show the HTML representation or trust the notebook. <br />On GitHub, the HTML representation is unable to render, please try loading this page with nbviewer.org.</b></div><div class=\"sk-container\" hidden><div class=\"sk-item\"><div class=\"sk-estimator sk-toggleable\"><input class=\"sk-toggleable__control sk-hidden--visually\" id=\"sk-estimator-id-4\" type=\"checkbox\" checked><label for=\"sk-estimator-id-4\" class=\"sk-toggleable__label sk-toggleable__label-arrow\">LinearRegression</label><div class=\"sk-toggleable__content\"><pre>LinearRegression()</pre></div></div></div></div></div>"
            ]
          },
          "metadata": {},
          "execution_count": 111
        }
      ]
    },
    {
      "cell_type": "code",
      "source": [
        "#Verificamos los coeficientes obtenidos para el modelo ajustado\n",
        "model.__dict__"
      ],
      "metadata": {
        "id": "CKFTFN9ZL9ZO",
        "colab": {
          "base_uri": "https://localhost:8080/"
        },
        "outputId": "3edb587d-8a88-454f-8f6c-09eac9d5d33d"
      },
      "execution_count": 112,
      "outputs": [
        {
          "output_type": "execute_result",
          "data": {
            "text/plain": [
              "{'fit_intercept': True,\n",
              " 'copy_X': True,\n",
              " 'n_jobs': None,\n",
              " 'positive': False,\n",
              " 'feature_names_in_': array(['host_response_rate', 'price', 'number_of_reviews',\n",
              "        'review_scores_rating'], dtype=object),\n",
              " 'n_features_in_': 4,\n",
              " 'coef_': array([[5.99177882e-01, 7.76101609e-06, 1.42572122e-02, 2.18020923e+00]]),\n",
              " 'rank_': 4,\n",
              " 'singular_': array([1.82845450e+06, 4.04362398e+03, 3.11587494e+03, 1.87265956e+02]),\n",
              " 'intercept_': array([25.89532212])}"
            ]
          },
          "metadata": {},
          "execution_count": 112
        }
      ]
    },
    {
      "cell_type": "markdown",
      "source": [
        "####**Modelo matemático**\n",
        "\n",
        "Modelo matemático: y= 5.99177882e-01x1 + 7.76101609e-06x2 + 1.42572122e-02x3 + 2.18020923e+00x4 + 25.89532212"
      ],
      "metadata": {
        "id": "VrCYFniMMfji"
      }
    },
    {
      "cell_type": "code",
      "source": [
        "#Predecimos los valores de total de accidentes a partir de las variables: \"alcohol\", \"speeding\" y \"no_previous\"\n",
        "y_pred= model.predict(X=data[[x1.columns[0],x2.columns[0],x3.columns[0],x4.columns[0]]])\n",
        "y_pred"
      ],
      "metadata": {
        "id": "RU04vZYIM-bA",
        "colab": {
          "base_uri": "https://localhost:8080/"
        },
        "outputId": "52336e28-084d-482f-c45a-851116672dd7"
      },
      "execution_count": 113,
      "outputs": [
        {
          "output_type": "execute_result",
          "data": {
            "text/plain": [
              "array([[96.91567678],\n",
              "       [37.34546846],\n",
              "       [96.34409873],\n",
              "       ...,\n",
              "       [25.90711886],\n",
              "       [85.82242357],\n",
              "       [25.90867107]])"
            ]
          },
          "metadata": {},
          "execution_count": 113
        }
      ]
    },
    {
      "cell_type": "code",
      "source": [
        "#Insertamos la columna de predicciones en el DataFrame\n",
        "\n",
        "data['Predicciones']= y_pred\n",
        "data[[x1.columns[0],x2.columns[0],x3.columns[0],x4.columns[0],y.columns[0],'Predicciones']]\n"
      ],
      "metadata": {
        "id": "L3lDGuWSM_gf",
        "colab": {
          "base_uri": "https://localhost:8080/",
          "height": 527
        },
        "outputId": "1f6aa7a7-f2a2-43bf-c4d8-bf3c984c3fd0"
      },
      "execution_count": 114,
      "outputs": [
        {
          "output_type": "stream",
          "name": "stderr",
          "text": [
            "<ipython-input-114-0fbb012ffc02>:3: SettingWithCopyWarning: \n",
            "A value is trying to be set on a copy of a slice from a DataFrame.\n",
            "Try using .loc[row_indexer,col_indexer] = value instead\n",
            "\n",
            "See the caveats in the documentation: https://pandas.pydata.org/pandas-docs/stable/user_guide/indexing.html#returning-a-view-versus-a-copy\n",
            "  data['Predicciones']= y_pred\n"
          ]
        },
        {
          "output_type": "execute_result",
          "data": {
            "text/plain": [
              "         host_response_rate    price  number_of_reviews  review_scores_rating  \\\n",
              "0.0                   100.0   1434.0               21.0                  4.95   \n",
              "1.0                     0.0    830.0               61.0                  4.85   \n",
              "2.0                   100.0   1469.0               39.0                  4.57   \n",
              "3.0                     0.0   3658.0                0.0                  0.00   \n",
              "4.0                   100.0  18000.0               64.0                  4.58   \n",
              "...                     ...      ...                ...                   ...   \n",
              "24217.0               100.0    980.0                0.0                  0.00   \n",
              "24219.0               100.0    760.0                0.0                  0.00   \n",
              "24220.0                 0.0   1520.0                0.0                  0.00   \n",
              "24222.0               100.0   1200.0                0.0                  0.00   \n",
              "24223.0                 0.0   1720.0                0.0                  0.00   \n",
              "\n",
              "         host_acceptance_rate  Predicciones  \n",
              "0.0                       0.0     96.915677  \n",
              "1.0                       0.0     37.345468  \n",
              "2.0                      90.0     96.344099  \n",
              "3.0                       0.0     25.923712  \n",
              "4.0                      86.0     96.850628  \n",
              "...                       ...           ...  \n",
              "24217.0                 100.0     85.820716  \n",
              "24219.0                 100.0     85.819009  \n",
              "24220.0                   0.0     25.907119  \n",
              "24222.0                 100.0     85.822424  \n",
              "24223.0                 100.0     25.908671  \n",
              "\n",
              "[15601 rows x 6 columns]"
            ],
            "text/html": [
              "\n",
              "  <div id=\"df-1a6f9c9b-b89e-4d2f-8511-d7073eb5c5f6\">\n",
              "    <div class=\"colab-df-container\">\n",
              "      <div>\n",
              "<style scoped>\n",
              "    .dataframe tbody tr th:only-of-type {\n",
              "        vertical-align: middle;\n",
              "    }\n",
              "\n",
              "    .dataframe tbody tr th {\n",
              "        vertical-align: top;\n",
              "    }\n",
              "\n",
              "    .dataframe thead th {\n",
              "        text-align: right;\n",
              "    }\n",
              "</style>\n",
              "<table border=\"1\" class=\"dataframe\">\n",
              "  <thead>\n",
              "    <tr style=\"text-align: right;\">\n",
              "      <th></th>\n",
              "      <th>host_response_rate</th>\n",
              "      <th>price</th>\n",
              "      <th>number_of_reviews</th>\n",
              "      <th>review_scores_rating</th>\n",
              "      <th>host_acceptance_rate</th>\n",
              "      <th>Predicciones</th>\n",
              "    </tr>\n",
              "  </thead>\n",
              "  <tbody>\n",
              "    <tr>\n",
              "      <th>0.0</th>\n",
              "      <td>100.0</td>\n",
              "      <td>1434.0</td>\n",
              "      <td>21.0</td>\n",
              "      <td>4.95</td>\n",
              "      <td>0.0</td>\n",
              "      <td>96.915677</td>\n",
              "    </tr>\n",
              "    <tr>\n",
              "      <th>1.0</th>\n",
              "      <td>0.0</td>\n",
              "      <td>830.0</td>\n",
              "      <td>61.0</td>\n",
              "      <td>4.85</td>\n",
              "      <td>0.0</td>\n",
              "      <td>37.345468</td>\n",
              "    </tr>\n",
              "    <tr>\n",
              "      <th>2.0</th>\n",
              "      <td>100.0</td>\n",
              "      <td>1469.0</td>\n",
              "      <td>39.0</td>\n",
              "      <td>4.57</td>\n",
              "      <td>90.0</td>\n",
              "      <td>96.344099</td>\n",
              "    </tr>\n",
              "    <tr>\n",
              "      <th>3.0</th>\n",
              "      <td>0.0</td>\n",
              "      <td>3658.0</td>\n",
              "      <td>0.0</td>\n",
              "      <td>0.00</td>\n",
              "      <td>0.0</td>\n",
              "      <td>25.923712</td>\n",
              "    </tr>\n",
              "    <tr>\n",
              "      <th>4.0</th>\n",
              "      <td>100.0</td>\n",
              "      <td>18000.0</td>\n",
              "      <td>64.0</td>\n",
              "      <td>4.58</td>\n",
              "      <td>86.0</td>\n",
              "      <td>96.850628</td>\n",
              "    </tr>\n",
              "    <tr>\n",
              "      <th>...</th>\n",
              "      <td>...</td>\n",
              "      <td>...</td>\n",
              "      <td>...</td>\n",
              "      <td>...</td>\n",
              "      <td>...</td>\n",
              "      <td>...</td>\n",
              "    </tr>\n",
              "    <tr>\n",
              "      <th>24217.0</th>\n",
              "      <td>100.0</td>\n",
              "      <td>980.0</td>\n",
              "      <td>0.0</td>\n",
              "      <td>0.00</td>\n",
              "      <td>100.0</td>\n",
              "      <td>85.820716</td>\n",
              "    </tr>\n",
              "    <tr>\n",
              "      <th>24219.0</th>\n",
              "      <td>100.0</td>\n",
              "      <td>760.0</td>\n",
              "      <td>0.0</td>\n",
              "      <td>0.00</td>\n",
              "      <td>100.0</td>\n",
              "      <td>85.819009</td>\n",
              "    </tr>\n",
              "    <tr>\n",
              "      <th>24220.0</th>\n",
              "      <td>0.0</td>\n",
              "      <td>1520.0</td>\n",
              "      <td>0.0</td>\n",
              "      <td>0.00</td>\n",
              "      <td>0.0</td>\n",
              "      <td>25.907119</td>\n",
              "    </tr>\n",
              "    <tr>\n",
              "      <th>24222.0</th>\n",
              "      <td>100.0</td>\n",
              "      <td>1200.0</td>\n",
              "      <td>0.0</td>\n",
              "      <td>0.00</td>\n",
              "      <td>100.0</td>\n",
              "      <td>85.822424</td>\n",
              "    </tr>\n",
              "    <tr>\n",
              "      <th>24223.0</th>\n",
              "      <td>0.0</td>\n",
              "      <td>1720.0</td>\n",
              "      <td>0.0</td>\n",
              "      <td>0.00</td>\n",
              "      <td>100.0</td>\n",
              "      <td>25.908671</td>\n",
              "    </tr>\n",
              "  </tbody>\n",
              "</table>\n",
              "<p>15601 rows × 6 columns</p>\n",
              "</div>\n",
              "      <button class=\"colab-df-convert\" onclick=\"convertToInteractive('df-1a6f9c9b-b89e-4d2f-8511-d7073eb5c5f6')\"\n",
              "              title=\"Convert this dataframe to an interactive table.\"\n",
              "              style=\"display:none;\">\n",
              "        \n",
              "  <svg xmlns=\"http://www.w3.org/2000/svg\" height=\"24px\"viewBox=\"0 0 24 24\"\n",
              "       width=\"24px\">\n",
              "    <path d=\"M0 0h24v24H0V0z\" fill=\"none\"/>\n",
              "    <path d=\"M18.56 5.44l.94 2.06.94-2.06 2.06-.94-2.06-.94-.94-2.06-.94 2.06-2.06.94zm-11 1L8.5 8.5l.94-2.06 2.06-.94-2.06-.94L8.5 2.5l-.94 2.06-2.06.94zm10 10l.94 2.06.94-2.06 2.06-.94-2.06-.94-.94-2.06-.94 2.06-2.06.94z\"/><path d=\"M17.41 7.96l-1.37-1.37c-.4-.4-.92-.59-1.43-.59-.52 0-1.04.2-1.43.59L10.3 9.45l-7.72 7.72c-.78.78-.78 2.05 0 2.83L4 21.41c.39.39.9.59 1.41.59.51 0 1.02-.2 1.41-.59l7.78-7.78 2.81-2.81c.8-.78.8-2.07 0-2.86zM5.41 20L4 18.59l7.72-7.72 1.47 1.35L5.41 20z\"/>\n",
              "  </svg>\n",
              "      </button>\n",
              "      \n",
              "  <style>\n",
              "    .colab-df-container {\n",
              "      display:flex;\n",
              "      flex-wrap:wrap;\n",
              "      gap: 12px;\n",
              "    }\n",
              "\n",
              "    .colab-df-convert {\n",
              "      background-color: #E8F0FE;\n",
              "      border: none;\n",
              "      border-radius: 50%;\n",
              "      cursor: pointer;\n",
              "      display: none;\n",
              "      fill: #1967D2;\n",
              "      height: 32px;\n",
              "      padding: 0 0 0 0;\n",
              "      width: 32px;\n",
              "    }\n",
              "\n",
              "    .colab-df-convert:hover {\n",
              "      background-color: #E2EBFA;\n",
              "      box-shadow: 0px 1px 2px rgba(60, 64, 67, 0.3), 0px 1px 3px 1px rgba(60, 64, 67, 0.15);\n",
              "      fill: #174EA6;\n",
              "    }\n",
              "\n",
              "    [theme=dark] .colab-df-convert {\n",
              "      background-color: #3B4455;\n",
              "      fill: #D2E3FC;\n",
              "    }\n",
              "\n",
              "    [theme=dark] .colab-df-convert:hover {\n",
              "      background-color: #434B5C;\n",
              "      box-shadow: 0px 1px 3px 1px rgba(0, 0, 0, 0.15);\n",
              "      filter: drop-shadow(0px 1px 2px rgba(0, 0, 0, 0.3));\n",
              "      fill: #FFFFFF;\n",
              "    }\n",
              "  </style>\n",
              "\n",
              "      <script>\n",
              "        const buttonEl =\n",
              "          document.querySelector('#df-1a6f9c9b-b89e-4d2f-8511-d7073eb5c5f6 button.colab-df-convert');\n",
              "        buttonEl.style.display =\n",
              "          google.colab.kernel.accessAllowed ? 'block' : 'none';\n",
              "\n",
              "        async function convertToInteractive(key) {\n",
              "          const element = document.querySelector('#df-1a6f9c9b-b89e-4d2f-8511-d7073eb5c5f6');\n",
              "          const dataTable =\n",
              "            await google.colab.kernel.invokeFunction('convertToInteractive',\n",
              "                                                     [key], {});\n",
              "          if (!dataTable) return;\n",
              "\n",
              "          const docLinkHtml = 'Like what you see? Visit the ' +\n",
              "            '<a target=\"_blank\" href=https://colab.research.google.com/notebooks/data_table.ipynb>data table notebook</a>'\n",
              "            + ' to learn more about interactive tables.';\n",
              "          element.innerHTML = '';\n",
              "          dataTable['output_type'] = 'display_data';\n",
              "          await google.colab.output.renderOutput(dataTable, element);\n",
              "          const docLink = document.createElement('div');\n",
              "          docLink.innerHTML = docLinkHtml;\n",
              "          element.appendChild(docLink);\n",
              "        }\n",
              "      </script>\n",
              "    </div>\n",
              "  </div>\n",
              "  "
            ]
          },
          "metadata": {},
          "execution_count": 114
        }
      ]
    },
    {
      "cell_type": "code",
      "source": [
        "#Visualizamos la gráfica comparativa entre el total real y el total predecido\n",
        "sns.scatterplot(x=x2.columns[0], y=y.columns[0], color=\"lightgreen\", data=data)\n",
        "sns.scatterplot(x=x2.columns[0], y='Predicciones', color=\"purple\", data=data)"
      ],
      "metadata": {
        "id": "DUp4e5nDNA7z",
        "colab": {
          "base_uri": "https://localhost:8080/",
          "height": 466
        },
        "outputId": "bf92d68b-8746-473b-bfe6-ee81998ae506"
      },
      "execution_count": 115,
      "outputs": [
        {
          "output_type": "execute_result",
          "data": {
            "text/plain": [
              "<Axes: xlabel='price', ylabel='host_acceptance_rate'>"
            ]
          },
          "metadata": {},
          "execution_count": 115
        },
        {
          "output_type": "display_data",
          "data": {
            "text/plain": [
              "<Figure size 640x480 with 1 Axes>"
            ],
            "image/png": "[encoded data removed]"
          },
          "metadata": {}
        }
      ]
    },
    {
      "cell_type": "code",
      "source": [
        "y_e.append(y.columns[0])\n",
        "x1_e.append(x1.columns[0])\n",
        "x2_e.append(x2.columns[0])\n",
        "x3_e.append(x3.columns[0])\n",
        "x4_e.append(x4.columns[0])"
      ],
      "metadata": {
        "id": "YxxFKx2Nck6z"
      },
      "execution_count": 116,
      "outputs": []
    },
    {
      "cell_type": "code",
      "source": [
        "#Corroboramos cual es el coeficiente de Determinación de nuestro modelo\n",
        "coef_Deter=model.score(X=Vars_Indep, y=Var_Dep)\n",
        "deter_e.append(coef_Deter)\n",
        "coef_Deter"
      ],
      "metadata": {
        "colab": {
          "base_uri": "https://localhost:8080/"
        },
        "id": "AfdyhM6eNLL7",
        "outputId": "88b398e6-19e4-4676-bdd8-09dc9c3d27e4"
      },
      "execution_count": 117,
      "outputs": [
        {
          "output_type": "execute_result",
          "data": {
            "text/plain": [
              "0.49455673335652683"
            ]
          },
          "metadata": {},
          "execution_count": 117
        }
      ]
    },
    {
      "cell_type": "code",
      "source": [
        "#Corroboramos cual es el coeficiente de Correlación de nuestro modelo\n",
        "coef_Correl=np.sqrt(coef_Deter)\n",
        "corr_e.append(coef_Correl)\n",
        "coef_Correl"
      ],
      "metadata": {
        "colab": {
          "base_uri": "https://localhost:8080/"
        },
        "id": "FHBqTlkQNM3z",
        "outputId": "9c934b70-2daf-404a-d054-34576e72bdac"
      },
      "execution_count": 118,
      "outputs": [
        {
          "output_type": "execute_result",
          "data": {
            "text/plain": [
              "0.7032472775322538"
            ]
          },
          "metadata": {},
          "execution_count": 118
        }
      ]
    },
    {
      "cell_type": "markdown",
      "source": [
        "###**Price vs availability_365, host_response_rate, number_of_reviews, accommodates**"
      ],
      "metadata": {
        "id": "soOSR9Zldk6F"
      }
    },
    {
      "cell_type": "code",
      "source": [
        "data = entire"
      ],
      "metadata": {
        "id": "tqaqngK6dk6F"
      },
      "execution_count": 119,
      "outputs": []
    },
    {
      "cell_type": "code",
      "source": [
        "data['accommodates'] = data['accommodates'].astype(float)"
      ],
      "metadata": {
        "colab": {
          "base_uri": "https://localhost:8080/"
        },
        "id": "u4Ko7qzHdk6G",
        "outputId": "28a20cf3-961a-4f74-8a88-9da8f755e3b2"
      },
      "execution_count": 120,
      "outputs": [
        {
          "output_type": "stream",
          "name": "stderr",
          "text": [
            "<ipython-input-120-0c4d7e569382>:1: SettingWithCopyWarning: \n",
            "A value is trying to be set on a copy of a slice from a DataFrame.\n",
            "Try using .loc[row_indexer,col_indexer] = value instead\n",
            "\n",
            "See the caveats in the documentation: https://pandas.pydata.org/pandas-docs/stable/user_guide/indexing.html#returning-a-view-versus-a-copy\n",
            "  data['accommodates'] = data['accommodates'].astype(float)\n"
          ]
        }
      ]
    },
    {
      "cell_type": "code",
      "source": [
        "y = data[['price']]\n",
        "x1 = data[['availability_365']]\n",
        "x2 = data[['host_response_rate']]\n",
        "x3 = data[['number_of_reviews']]\n",
        "x4 = data[['accommodates']]"
      ],
      "metadata": {
        "id": "42rtWaefdk6G"
      },
      "execution_count": 121,
      "outputs": []
    },
    {
      "cell_type": "code",
      "source": [
        "from turtle import color\n",
        "sns.scatterplot(x= x1.columns[0], y=y.columns[0], color=\"lightblue\", data=data)\n",
        "sns.scatterplot(x=x2.columns[0], y=y.columns[0], color=\"lightgreen\", data=data)\n",
        "sns.scatterplot(x=x3.columns[0], y=y.columns[0], color=\"pink\", data=data)\n",
        "sns.scatterplot(x=x4.columns[0], y=y.columns[0], color=\"orange\", data=data)"
      ],
      "metadata": {
        "colab": {
          "base_uri": "https://localhost:8080/",
          "height": 467
        },
        "outputId": "1f213bc5-6f0a-445a-fa88-48e0836605bc",
        "id": "oSXnws01dk6G"
      },
      "execution_count": 122,
      "outputs": [
        {
          "output_type": "execute_result",
          "data": {
            "text/plain": [
              "<Axes: xlabel='availability_365', ylabel='price'>"
            ]
          },
          "metadata": {},
          "execution_count": 122
        },
        {
          "output_type": "display_data",
          "data": {
            "text/plain": [
              "<Figure size 640x480 with 1 Axes>"
            ],
            "image/png": "[encoded data removed]"
          },
          "metadata": {}
        }
      ]
    },
    {
      "cell_type": "code",
      "source": [
        "#Declaramos las variables dependientes e independientes para la regresión lineal\n",
        "Vars_Indep= data[[x1.columns[0],x2.columns[0],x3.columns[0],x4.columns[0]]]\n",
        "Var_Dep= y"
      ],
      "metadata": {
        "id": "-xbKyZIrdk6H"
      },
      "execution_count": 123,
      "outputs": []
    },
    {
      "cell_type": "code",
      "source": [
        "#Se define model como la función de regresión lineal\n",
        "from sklearn.linear_model import LinearRegression\n",
        "model= LinearRegression()"
      ],
      "metadata": {
        "id": "4q2GgucGdk6H"
      },
      "execution_count": 124,
      "outputs": []
    },
    {
      "cell_type": "code",
      "source": [
        "#Verificamos la función relacionada al modelo\n",
        "type(model)"
      ],
      "metadata": {
        "colab": {
          "base_uri": "https://localhost:8080/"
        },
        "outputId": "5f3e66bc-58fc-4594-dc3d-fa915db11ec6",
        "id": "JIUhO9nKdk6H"
      },
      "execution_count": 125,
      "outputs": [
        {
          "output_type": "execute_result",
          "data": {
            "text/plain": [
              "sklearn.linear_model._base.LinearRegression"
            ]
          },
          "metadata": {},
          "execution_count": 125
        }
      ]
    },
    {
      "cell_type": "code",
      "source": [
        "#Ajustamos el modelo con las variables antes declaradas\n",
        "model.fit(X=Vars_Indep, y=Var_Dep)"
      ],
      "metadata": {
        "colab": {
          "base_uri": "https://localhost:8080/",
          "height": 74
        },
        "outputId": "6f0844e0-2aa1-4a06-90af-49f42de02189",
        "id": "8O0bcNbzdk6I"
      },
      "execution_count": 126,
      "outputs": [
        {
          "output_type": "execute_result",
          "data": {
            "text/plain": [
              "LinearRegression()"
            ],
            "text/html": [
              "<style>#sk-container-id-5 {color: black;background-color: white;}#sk-container-id-5 pre{padding: 0;}#sk-container-id-5 div.sk-toggleable {background-color: white;}#sk-container-id-5 label.sk-toggleable__label {cursor: pointer;display: block;width: 100%;margin-bottom: 0;padding: 0.3em;box-sizing: border-box;text-align: center;}#sk-container-id-5 label.sk-toggleable__label-arrow:before {content: \"▸\";float: left;margin-right: 0.25em;color: #696969;}#sk-container-id-5 label.sk-toggleable__label-arrow:hover:before {color: black;}#sk-container-id-5 div.sk-estimator:hover label.sk-toggleable__label-arrow:before {color: black;}#sk-container-id-5 div.sk-toggleable__content {max-height: 0;max-width: 0;overflow: hidden;text-align: left;background-color: #f0f8ff;}#sk-container-id-5 div.sk-toggleable__content pre {margin: 0.2em;color: black;border-radius: 0.25em;background-color: #f0f8ff;}#sk-container-id-5 input.sk-toggleable__control:checked~div.sk-toggleable__content {max-height: 200px;max-width: 100%;overflow: auto;}#sk-container-id-5 input.sk-toggleable__control:checked~label.sk-toggleable__label-arrow:before {content: \"▾\";}#sk-container-id-5 div.sk-estimator input.sk-toggleable__control:checked~label.sk-toggleable__label {background-color: #d4ebff;}#sk-container-id-5 div.sk-label input.sk-toggleable__control:checked~label.sk-toggleable__label {background-color: #d4ebff;}#sk-container-id-5 input.sk-hidden--visually {border: 0;clip: rect(1px 1px 1px 1px);clip: rect(1px, 1px, 1px, 1px);height: 1px;margin: -1px;overflow: hidden;padding: 0;position: absolute;width: 1px;}#sk-container-id-5 div.sk-estimator {font-family: monospace;background-color: #f0f8ff;border: 1px dotted black;border-radius: 0.25em;box-sizing: border-box;margin-bottom: 0.5em;}#sk-container-id-5 div.sk-estimator:hover {background-color: #d4ebff;}#sk-container-id-5 div.sk-parallel-item::after {content: \"\";width: 100%;border-bottom: 1px solid gray;flex-grow: 1;}#sk-container-id-5 div.sk-label:hover label.sk-toggleable__label {background-color: #d4ebff;}#sk-container-id-5 div.sk-serial::before {content: \"\";position: absolute;border-left: 1px solid gray;box-sizing: border-box;top: 0;bottom: 0;left: 50%;z-index: 0;}#sk-container-id-5 div.sk-serial {display: flex;flex-direction: column;align-items: center;background-color: white;padding-right: 0.2em;padding-left: 0.2em;position: relative;}#sk-container-id-5 div.sk-item {position: relative;z-index: 1;}#sk-container-id-5 div.sk-parallel {display: flex;align-items: stretch;justify-content: center;background-color: white;position: relative;}#sk-container-id-5 div.sk-item::before, #sk-container-id-5 div.sk-parallel-item::before {content: \"\";position: absolute;border-left: 1px solid gray;box-sizing: border-box;top: 0;bottom: 0;left: 50%;z-index: -1;}#sk-container-id-5 div.sk-parallel-item {display: flex;flex-direction: column;z-index: 1;position: relative;background-color: white;}#sk-container-id-5 div.sk-parallel-item:first-child::after {align-self: flex-end;width: 50%;}#sk-container-id-5 div.sk-parallel-item:last-child::after {align-self: flex-start;width: 50%;}#sk-container-id-5 div.sk-parallel-item:only-child::after {width: 0;}#sk-container-id-5 div.sk-dashed-wrapped {border: 1px dashed gray;margin: 0 0.4em 0.5em 0.4em;box-sizing: border-box;padding-bottom: 0.4em;background-color: white;}#sk-container-id-5 div.sk-label label {font-family: monospace;font-weight: bold;display: inline-block;line-height: 1.2em;}#sk-container-id-5 div.sk-label-container {text-align: center;}#sk-container-id-5 div.sk-container {/* jupyter's `normalize.less` sets `[hidden] { display: none; }` but bootstrap.min.css set `[hidden] { display: none !important; }` so we also need the `!important` here to be able to override the default hidden behavior on the sphinx rendered scikit-learn.org. See: https://github.com/scikit-learn/scikit-learn/issues/21755 */display: inline-block !important;position: relative;}#sk-container-id-5 div.sk-text-repr-fallback {display: none;}</style><div id=\"sk-container-id-5\" class=\"sk-top-container\"><div class=\"sk-text-repr-fallback\"><pre>LinearRegression()</pre><b>In a Jupyter environment, please rerun this cell to show the HTML representation or trust the notebook. <br />On GitHub, the HTML representation is unable to render, please try loading this page with nbviewer.org.</b></div><div class=\"sk-container\" hidden><div class=\"sk-item\"><div class=\"sk-estimator sk-toggleable\"><input class=\"sk-toggleable__control sk-hidden--visually\" id=\"sk-estimator-id-5\" type=\"checkbox\" checked><label for=\"sk-estimator-id-5\" class=\"sk-toggleable__label sk-toggleable__label-arrow\">LinearRegression</label><div class=\"sk-toggleable__content\"><pre>LinearRegression()</pre></div></div></div></div></div>"
            ]
          },
          "metadata": {},
          "execution_count": 126
        }
      ]
    },
    {
      "cell_type": "code",
      "source": [
        "#Verificamos los coeficientes obtenidos para el modelo ajustado\n",
        "model.__dict__"
      ],
      "metadata": {
        "colab": {
          "base_uri": "https://localhost:8080/"
        },
        "outputId": "910e0673-b089-4007-d642-dc029fbf32fa",
        "id": "gzPrOEbZdk6I"
      },
      "execution_count": 127,
      "outputs": [
        {
          "output_type": "execute_result",
          "data": {
            "text/plain": [
              "{'fit_intercept': True,\n",
              " 'copy_X': True,\n",
              " 'n_jobs': None,\n",
              " 'positive': False,\n",
              " 'feature_names_in_': array(['availability_365', 'host_response_rate', 'number_of_reviews',\n",
              "        'accommodates'], dtype=object),\n",
              " 'n_features_in_': 4,\n",
              " 'coef_': array([[  1.08741413, -18.41726413,   5.6468833 , -22.80840339]]),\n",
              " 'rank_': 4,\n",
              " 'singular_': array([15394.40495035,  4024.35544861,  3102.6930539 ,   201.55641592]),\n",
              " 'intercept_': array([3419.47094962])}"
            ]
          },
          "metadata": {},
          "execution_count": 127
        }
      ]
    },
    {
      "cell_type": "markdown",
      "source": [
        "####**Modelo matemático**\n",
        "\n",
        "Modelo matemático: y=  1.08741413x1 + -18.41726413x2 +   5.6468833x3 + -22.80840339x4 + 3419.47094962"
      ],
      "metadata": {
        "id": "sKzJeR54dk6I"
      }
    },
    {
      "cell_type": "code",
      "source": [
        "#Predecimos los valores de total de accidentes a partir de las variables: \"alcohol\", \"speeding\" y \"no_previous\"\n",
        "y_pred= model.predict(X=data[[x1.columns[0],x2.columns[0],x3.columns[0],x4.columns[0]]])\n",
        "y_pred"
      ],
      "metadata": {
        "colab": {
          "base_uri": "https://localhost:8080/"
        },
        "outputId": "998595b5-3d63-4755-d9ce-6473ae5d7b52",
        "id": "x_hsgU1Udk6I"
      },
      "execution_count": 128,
      "outputs": [
        {
          "output_type": "execute_result",
          "data": {
            "text/plain": [
              "array([[1980.22605416],\n",
              "       [4094.55931344],\n",
              "       [1755.72759412],\n",
              "       ...,\n",
              "       [3656.71828396],\n",
              "       [1906.19819097],\n",
              "       [3673.00220256]])"
            ]
          },
          "metadata": {},
          "execution_count": 128
        }
      ]
    },
    {
      "cell_type": "code",
      "source": [
        "#Insertamos la columna de predicciones en el DataFrame\n",
        "data['Predicciones']= y_pred\n",
        "data[[x1.columns[0],x2.columns[0],x3.columns[0],x4.columns[0],y.columns[0],'Predicciones']]\n"
      ],
      "metadata": {
        "colab": {
          "base_uri": "https://localhost:8080/",
          "height": 527
        },
        "outputId": "060bc071-a60d-4481-c4d8-a63a62d61c13",
        "id": "31o66UOodk6J"
      },
      "execution_count": 129,
      "outputs": [
        {
          "output_type": "stream",
          "name": "stderr",
          "text": [
            "<ipython-input-129-9a0fc1fe72ec>:2: SettingWithCopyWarning: \n",
            "A value is trying to be set on a copy of a slice from a DataFrame.\n",
            "Try using .loc[row_indexer,col_indexer] = value instead\n",
            "\n",
            "See the caveats in the documentation: https://pandas.pydata.org/pandas-docs/stable/user_guide/indexing.html#returning-a-view-versus-a-copy\n",
            "  data['Predicciones']= y_pred\n"
          ]
        },
        {
          "output_type": "execute_result",
          "data": {
            "text/plain": [
              "         availability_365  host_response_rate  number_of_reviews  \\\n",
              "0.0                 324.0               100.0               21.0   \n",
              "1.0                 346.0                 0.0               61.0   \n",
              "2.0                  87.0               100.0               39.0   \n",
              "3.0                 363.0                 0.0                0.0   \n",
              "4.0                 357.0               100.0               64.0   \n",
              "...                   ...                 ...                ...   \n",
              "24217.0             342.0               100.0                0.0   \n",
              "24219.0             352.0               100.0                0.0   \n",
              "24220.0             365.0                 0.0                0.0   \n",
              "24222.0             344.0               100.0                0.0   \n",
              "24223.0             359.0                 0.0                0.0   \n",
              "\n",
              "         accommodates    price  Predicciones  \n",
              "0.0               3.0   1434.0   1980.226054  \n",
              "1.0               2.0    830.0   4094.559313  \n",
              "2.0               6.0   1469.0   1755.727594  \n",
              "3.0               2.0   3658.0   3768.585473  \n",
              "4.0               0.0  18000.0   2327.351912  \n",
              "...               ...      ...           ...  \n",
              "24217.0           2.0    980.0   1904.023363  \n",
              "24219.0           2.0    760.0   1914.897504  \n",
              "24220.0           7.0   1520.0   3656.718284  \n",
              "24222.0           2.0   1200.0   1906.198191  \n",
              "24223.0           6.0   1720.0   3673.002203  \n",
              "\n",
              "[15601 rows x 6 columns]"
            ],
            "text/html": [
              "\n",
              "  <div id=\"df-613e65c2-c685-4078-9adf-3390e0b94f6f\">\n",
              "    <div class=\"colab-df-container\">\n",
              "      <div>\n",
              "<style scoped>\n",
              "    .dataframe tbody tr th:only-of-type {\n",
              "        vertical-align: middle;\n",
              "    }\n",
              "\n",
              "    .dataframe tbody tr th {\n",
              "        vertical-align: top;\n",
              "    }\n",
              "\n",
              "    .dataframe thead th {\n",
              "        text-align: right;\n",
              "    }\n",
              "</style>\n",
              "<table border=\"1\" class=\"dataframe\">\n",
              "  <thead>\n",
              "    <tr style=\"text-align: right;\">\n",
              "      <th></th>\n",
              "      <th>availability_365</th>\n",
              "      <th>host_response_rate</th>\n",
              "      <th>number_of_reviews</th>\n",
              "      <th>accommodates</th>\n",
              "      <th>price</th>\n",
              "      <th>Predicciones</th>\n",
              "    </tr>\n",
              "  </thead>\n",
              "  <tbody>\n",
              "    <tr>\n",
              "      <th>0.0</th>\n",
              "      <td>324.0</td>\n",
              "      <td>100.0</td>\n",
              "      <td>21.0</td>\n",
              "      <td>3.0</td>\n",
              "      <td>1434.0</td>\n",
              "      <td>1980.226054</td>\n",
              "    </tr>\n",
              "    <tr>\n",
              "      <th>1.0</th>\n",
              "      <td>346.0</td>\n",
              "      <td>0.0</td>\n",
              "      <td>61.0</td>\n",
              "      <td>2.0</td>\n",
              "      <td>830.0</td>\n",
              "      <td>4094.559313</td>\n",
              "    </tr>\n",
              "    <tr>\n",
              "      <th>2.0</th>\n",
              "      <td>87.0</td>\n",
              "      <td>100.0</td>\n",
              "      <td>39.0</td>\n",
              "      <td>6.0</td>\n",
              "      <td>1469.0</td>\n",
              "      <td>1755.727594</td>\n",
              "    </tr>\n",
              "    <tr>\n",
              "      <th>3.0</th>\n",
              "      <td>363.0</td>\n",
              "      <td>0.0</td>\n",
              "      <td>0.0</td>\n",
              "      <td>2.0</td>\n",
              "      <td>3658.0</td>\n",
              "      <td>3768.585473</td>\n",
              "    </tr>\n",
              "    <tr>\n",
              "      <th>4.0</th>\n",
              "      <td>357.0</td>\n",
              "      <td>100.0</td>\n",
              "      <td>64.0</td>\n",
              "      <td>0.0</td>\n",
              "      <td>18000.0</td>\n",
              "      <td>2327.351912</td>\n",
              "    </tr>\n",
              "    <tr>\n",
              "      <th>...</th>\n",
              "      <td>...</td>\n",
              "      <td>...</td>\n",
              "      <td>...</td>\n",
              "      <td>...</td>\n",
              "      <td>...</td>\n",
              "      <td>...</td>\n",
              "    </tr>\n",
              "    <tr>\n",
              "      <th>24217.0</th>\n",
              "      <td>342.0</td>\n",
              "      <td>100.0</td>\n",
              "      <td>0.0</td>\n",
              "      <td>2.0</td>\n",
              "      <td>980.0</td>\n",
              "      <td>1904.023363</td>\n",
              "    </tr>\n",
              "    <tr>\n",
              "      <th>24219.0</th>\n",
              "      <td>352.0</td>\n",
              "      <td>100.0</td>\n",
              "      <td>0.0</td>\n",
              "      <td>2.0</td>\n",
              "      <td>760.0</td>\n",
              "      <td>1914.897504</td>\n",
              "    </tr>\n",
              "    <tr>\n",
              "      <th>24220.0</th>\n",
              "      <td>365.0</td>\n",
              "      <td>0.0</td>\n",
              "      <td>0.0</td>\n",
              "      <td>7.0</td>\n",
              "      <td>1520.0</td>\n",
              "      <td>3656.718284</td>\n",
              "    </tr>\n",
              "    <tr>\n",
              "      <th>24222.0</th>\n",
              "      <td>344.0</td>\n",
              "      <td>100.0</td>\n",
              "      <td>0.0</td>\n",
              "      <td>2.0</td>\n",
              "      <td>1200.0</td>\n",
              "      <td>1906.198191</td>\n",
              "    </tr>\n",
              "    <tr>\n",
              "      <th>24223.0</th>\n",
              "      <td>359.0</td>\n",
              "      <td>0.0</td>\n",
              "      <td>0.0</td>\n",
              "      <td>6.0</td>\n",
              "      <td>1720.0</td>\n",
              "      <td>3673.002203</td>\n",
              "    </tr>\n",
              "  </tbody>\n",
              "</table>\n",
              "<p>15601 rows × 6 columns</p>\n",
              "</div>\n",
              "      <button class=\"colab-df-convert\" onclick=\"convertToInteractive('df-613e65c2-c685-4078-9adf-3390e0b94f6f')\"\n",
              "              title=\"Convert this dataframe to an interactive table.\"\n",
              "              style=\"display:none;\">\n",
              "        \n",
              "  <svg xmlns=\"http://www.w3.org/2000/svg\" height=\"24px\"viewBox=\"0 0 24 24\"\n",
              "       width=\"24px\">\n",
              "    <path d=\"M0 0h24v24H0V0z\" fill=\"none\"/>\n",
              "    <path d=\"M18.56 5.44l.94 2.06.94-2.06 2.06-.94-2.06-.94-.94-2.06-.94 2.06-2.06.94zm-11 1L8.5 8.5l.94-2.06 2.06-.94-2.06-.94L8.5 2.5l-.94 2.06-2.06.94zm10 10l.94 2.06.94-2.06 2.06-.94-2.06-.94-.94-2.06-.94 2.06-2.06.94z\"/><path d=\"M17.41 7.96l-1.37-1.37c-.4-.4-.92-.59-1.43-.59-.52 0-1.04.2-1.43.59L10.3 9.45l-7.72 7.72c-.78.78-.78 2.05 0 2.83L4 21.41c.39.39.9.59 1.41.59.51 0 1.02-.2 1.41-.59l7.78-7.78 2.81-2.81c.8-.78.8-2.07 0-2.86zM5.41 20L4 18.59l7.72-7.72 1.47 1.35L5.41 20z\"/>\n",
              "  </svg>\n",
              "      </button>\n",
              "      \n",
              "  <style>\n",
              "    .colab-df-container {\n",
              "      display:flex;\n",
              "      flex-wrap:wrap;\n",
              "      gap: 12px;\n",
              "    }\n",
              "\n",
              "    .colab-df-convert {\n",
              "      background-color: #E8F0FE;\n",
              "      border: none;\n",
              "      border-radius: 50%;\n",
              "      cursor: pointer;\n",
              "      display: none;\n",
              "      fill: #1967D2;\n",
              "      height: 32px;\n",
              "      padding: 0 0 0 0;\n",
              "      width: 32px;\n",
              "    }\n",
              "\n",
              "    .colab-df-convert:hover {\n",
              "      background-color: #E2EBFA;\n",
              "      box-shadow: 0px 1px 2px rgba(60, 64, 67, 0.3), 0px 1px 3px 1px rgba(60, 64, 67, 0.15);\n",
              "      fill: #174EA6;\n",
              "    }\n",
              "\n",
              "    [theme=dark] .colab-df-convert {\n",
              "      background-color: #3B4455;\n",
              "      fill: #D2E3FC;\n",
              "    }\n",
              "\n",
              "    [theme=dark] .colab-df-convert:hover {\n",
              "      background-color: #434B5C;\n",
              "      box-shadow: 0px 1px 3px 1px rgba(0, 0, 0, 0.15);\n",
              "      filter: drop-shadow(0px 1px 2px rgba(0, 0, 0, 0.3));\n",
              "      fill: #FFFFFF;\n",
              "    }\n",
              "  </style>\n",
              "\n",
              "      <script>\n",
              "        const buttonEl =\n",
              "          document.querySelector('#df-613e65c2-c685-4078-9adf-3390e0b94f6f button.colab-df-convert');\n",
              "        buttonEl.style.display =\n",
              "          google.colab.kernel.accessAllowed ? 'block' : 'none';\n",
              "\n",
              "        async function convertToInteractive(key) {\n",
              "          const element = document.querySelector('#df-613e65c2-c685-4078-9adf-3390e0b94f6f');\n",
              "          const dataTable =\n",
              "            await google.colab.kernel.invokeFunction('convertToInteractive',\n",
              "                                                     [key], {});\n",
              "          if (!dataTable) return;\n",
              "\n",
              "          const docLinkHtml = 'Like what you see? Visit the ' +\n",
              "            '<a target=\"_blank\" href=https://colab.research.google.com/notebooks/data_table.ipynb>data table notebook</a>'\n",
              "            + ' to learn more about interactive tables.';\n",
              "          element.innerHTML = '';\n",
              "          dataTable['output_type'] = 'display_data';\n",
              "          await google.colab.output.renderOutput(dataTable, element);\n",
              "          const docLink = document.createElement('div');\n",
              "          docLink.innerHTML = docLinkHtml;\n",
              "          element.appendChild(docLink);\n",
              "        }\n",
              "      </script>\n",
              "    </div>\n",
              "  </div>\n",
              "  "
            ]
          },
          "metadata": {},
          "execution_count": 129
        }
      ]
    },
    {
      "cell_type": "code",
      "source": [
        "#Visualizamos la gráfica comparativa entre el total real y el total predecido\n",
        "sns.scatterplot(x=x2.columns[0], y=y.columns[0], color=\"lightgreen\", data=data)\n",
        "sns.scatterplot(x=x2.columns[0], y='Predicciones', color=\"purple\", data=data)"
      ],
      "metadata": {
        "colab": {
          "base_uri": "https://localhost:8080/",
          "height": 467
        },
        "outputId": "139598b4-13a8-4795-bba4-94cb7ea64ef4",
        "id": "D6V8AUSqdk6J"
      },
      "execution_count": 130,
      "outputs": [
        {
          "output_type": "execute_result",
          "data": {
            "text/plain": [
              "<Axes: xlabel='host_response_rate', ylabel='price'>"
            ]
          },
          "metadata": {},
          "execution_count": 130
        },
        {
          "output_type": "display_data",
          "data": {
            "text/plain": [
              "<Figure size 640x480 with 1 Axes>"
            ],
            "image/png": "[encoded data removed]"
          },
          "metadata": {}
        }
      ]
    },
    {
      "cell_type": "code",
      "source": [
        "y_e.append(y.columns[0])\n",
        "x1_e.append(x1.columns[0])\n",
        "x2_e.append(x2.columns[0])\n",
        "x3_e.append(x3.columns[0])\n",
        "x4_e.append(x4.columns[0])"
      ],
      "metadata": {
        "id": "u8zdi-wEdk6K"
      },
      "execution_count": 131,
      "outputs": []
    },
    {
      "cell_type": "code",
      "source": [
        "#Corroboramos cual es el coeficiente de Determinación de nuestro modelo\n",
        "coef_Deter=model.score(X=Vars_Indep, y=Var_Dep)\n",
        "deter_e.append(coef_Deter)\n",
        "coef_Deter"
      ],
      "metadata": {
        "colab": {
          "base_uri": "https://localhost:8080/"
        },
        "outputId": "4224272d-176d-4e09-c7be-1ba4bab3cd15",
        "id": "I3NKEUT7dk6K"
      },
      "execution_count": 132,
      "outputs": [
        {
          "output_type": "execute_result",
          "data": {
            "text/plain": [
              "0.0016102460395155394"
            ]
          },
          "metadata": {},
          "execution_count": 132
        }
      ]
    },
    {
      "cell_type": "code",
      "source": [
        "#Corroboramos cual es el coeficiente de Correlación de nuestro modelo\n",
        "coef_Correl=np.sqrt(coef_Deter)\n",
        "corr_e.append(coef_Correl)\n",
        "coef_Correl"
      ],
      "metadata": {
        "colab": {
          "base_uri": "https://localhost:8080/"
        },
        "outputId": "c00771c0-f596-4d00-ce0e-9daed1f77521",
        "id": "C4bLPfuOdk6K"
      },
      "execution_count": 133,
      "outputs": [
        {
          "output_type": "execute_result",
          "data": {
            "text/plain": [
              "0.04012787110619674"
            ]
          },
          "metadata": {},
          "execution_count": 133
        }
      ]
    },
    {
      "cell_type": "markdown",
      "source": [
        "###**host_acceptance_rate vs number_of_reviews,review_scores_cleanliness,review_scores_communication**"
      ],
      "metadata": {
        "id": "MymZBvx8e1Zl"
      }
    },
    {
      "cell_type": "code",
      "source": [
        "data = entire"
      ],
      "metadata": {
        "id": "2ieOfyLIe1Zm"
      },
      "execution_count": 134,
      "outputs": []
    },
    {
      "cell_type": "code",
      "source": [
        "y = data[['host_acceptance_rate']]\n",
        "x1 = data[['number_of_reviews']]\n",
        "x2 = data[['review_scores_cleanliness']]\n",
        "x3 = data[['review_scores_communication']]\n",
        "x4 = '--'"
      ],
      "metadata": {
        "id": "38rC86Kje1Zm"
      },
      "execution_count": 135,
      "outputs": []
    },
    {
      "cell_type": "code",
      "source": [
        "from turtle import color\n",
        "sns.scatterplot(x= x1.columns[0], y=y.columns[0], color=\"lightblue\", data=data)\n",
        "sns.scatterplot(x=x2.columns[0], y=y.columns[0], color=\"lightgreen\", data=data)\n",
        "sns.scatterplot(x=x3.columns[0], y=y.columns[0], color=\"pink\", data=data)"
      ],
      "metadata": {
        "colab": {
          "base_uri": "https://localhost:8080/",
          "height": 467
        },
        "outputId": "458f4040-703c-4245-c607-e68f294e8665",
        "id": "jx__qrTWe1Zm"
      },
      "execution_count": 136,
      "outputs": [
        {
          "output_type": "execute_result",
          "data": {
            "text/plain": [
              "<Axes: xlabel='number_of_reviews', ylabel='host_acceptance_rate'>"
            ]
          },
          "metadata": {},
          "execution_count": 136
        },
        {
          "output_type": "display_data",
          "data": {
            "text/plain": [
              "<Figure size 640x480 with 1 Axes>"
            ],
            "image/png": "[encoded data removed]"
          },
          "metadata": {}
        }
      ]
    },
    {
      "cell_type": "code",
      "source": [
        "#Declaramos las variables dependientes e independientes para la regresión lineal\n",
        "Vars_Indep= data[[x1.columns[0],x2.columns[0],x3.columns[0]]]\n",
        "Var_Dep= y"
      ],
      "metadata": {
        "id": "qgXktqPLe1Zn"
      },
      "execution_count": 137,
      "outputs": []
    },
    {
      "cell_type": "code",
      "source": [
        "#Se define model como la función de regresión lineal\n",
        "from sklearn.linear_model import LinearRegression\n",
        "model= LinearRegression()"
      ],
      "metadata": {
        "id": "s8h1VizJe1Zn"
      },
      "execution_count": 138,
      "outputs": []
    },
    {
      "cell_type": "code",
      "source": [
        "#Verificamos la función relacionada al modelo\n",
        "type(model)"
      ],
      "metadata": {
        "colab": {
          "base_uri": "https://localhost:8080/"
        },
        "outputId": "83618348-dbe8-4485-ad17-725ae17f3954",
        "id": "VnaR2Uh5e1Zn"
      },
      "execution_count": 139,
      "outputs": [
        {
          "output_type": "execute_result",
          "data": {
            "text/plain": [
              "sklearn.linear_model._base.LinearRegression"
            ]
          },
          "metadata": {},
          "execution_count": 139
        }
      ]
    },
    {
      "cell_type": "code",
      "source": [
        "#Ajustamos el modelo con las variables antes declaradas\n",
        "model.fit(X=Vars_Indep, y=Var_Dep)"
      ],
      "metadata": {
        "colab": {
          "base_uri": "https://localhost:8080/",
          "height": 74
        },
        "outputId": "947c553c-fb59-4bcb-b1c7-fb117b1980ba",
        "id": "2HTi3yZZe1Zn"
      },
      "execution_count": 140,
      "outputs": [
        {
          "output_type": "execute_result",
          "data": {
            "text/plain": [
              "LinearRegression()"
            ],
            "text/html": [
              "<style>#sk-container-id-6 {color: black;background-color: white;}#sk-container-id-6 pre{padding: 0;}#sk-container-id-6 div.sk-toggleable {background-color: white;}#sk-container-id-6 label.sk-toggleable__label {cursor: pointer;display: block;width: 100%;margin-bottom: 0;padding: 0.3em;box-sizing: border-box;text-align: center;}#sk-container-id-6 label.sk-toggleable__label-arrow:before {content: \"▸\";float: left;margin-right: 0.25em;color: #696969;}#sk-container-id-6 label.sk-toggleable__label-arrow:hover:before {color: black;}#sk-container-id-6 div.sk-estimator:hover label.sk-toggleable__label-arrow:before {color: black;}#sk-container-id-6 div.sk-toggleable__content {max-height: 0;max-width: 0;overflow: hidden;text-align: left;background-color: #f0f8ff;}#sk-container-id-6 div.sk-toggleable__content pre {margin: 0.2em;color: black;border-radius: 0.25em;background-color: #f0f8ff;}#sk-container-id-6 input.sk-toggleable__control:checked~div.sk-toggleable__content {max-height: 200px;max-width: 100%;overflow: auto;}#sk-container-id-6 input.sk-toggleable__control:checked~label.sk-toggleable__label-arrow:before {content: \"▾\";}#sk-container-id-6 div.sk-estimator input.sk-toggleable__control:checked~label.sk-toggleable__label {background-color: #d4ebff;}#sk-container-id-6 div.sk-label input.sk-toggleable__control:checked~label.sk-toggleable__label {background-color: #d4ebff;}#sk-container-id-6 input.sk-hidden--visually {border: 0;clip: rect(1px 1px 1px 1px);clip: rect(1px, 1px, 1px, 1px);height: 1px;margin: -1px;overflow: hidden;padding: 0;position: absolute;width: 1px;}#sk-container-id-6 div.sk-estimator {font-family: monospace;background-color: #f0f8ff;border: 1px dotted black;border-radius: 0.25em;box-sizing: border-box;margin-bottom: 0.5em;}#sk-container-id-6 div.sk-estimator:hover {background-color: #d4ebff;}#sk-container-id-6 div.sk-parallel-item::after {content: \"\";width: 100%;border-bottom: 1px solid gray;flex-grow: 1;}#sk-container-id-6 div.sk-label:hover label.sk-toggleable__label {background-color: #d4ebff;}#sk-container-id-6 div.sk-serial::before {content: \"\";position: absolute;border-left: 1px solid gray;box-sizing: border-box;top: 0;bottom: 0;left: 50%;z-index: 0;}#sk-container-id-6 div.sk-serial {display: flex;flex-direction: column;align-items: center;background-color: white;padding-right: 0.2em;padding-left: 0.2em;position: relative;}#sk-container-id-6 div.sk-item {position: relative;z-index: 1;}#sk-container-id-6 div.sk-parallel {display: flex;align-items: stretch;justify-content: center;background-color: white;position: relative;}#sk-container-id-6 div.sk-item::before, #sk-container-id-6 div.sk-parallel-item::before {content: \"\";position: absolute;border-left: 1px solid gray;box-sizing: border-box;top: 0;bottom: 0;left: 50%;z-index: -1;}#sk-container-id-6 div.sk-parallel-item {display: flex;flex-direction: column;z-index: 1;position: relative;background-color: white;}#sk-container-id-6 div.sk-parallel-item:first-child::after {align-self: flex-end;width: 50%;}#sk-container-id-6 div.sk-parallel-item:last-child::after {align-self: flex-start;width: 50%;}#sk-container-id-6 div.sk-parallel-item:only-child::after {width: 0;}#sk-container-id-6 div.sk-dashed-wrapped {border: 1px dashed gray;margin: 0 0.4em 0.5em 0.4em;box-sizing: border-box;padding-bottom: 0.4em;background-color: white;}#sk-container-id-6 div.sk-label label {font-family: monospace;font-weight: bold;display: inline-block;line-height: 1.2em;}#sk-container-id-6 div.sk-label-container {text-align: center;}#sk-container-id-6 div.sk-container {/* jupyter's `normalize.less` sets `[hidden] { display: none; }` but bootstrap.min.css set `[hidden] { display: none !important; }` so we also need the `!important` here to be able to override the default hidden behavior on the sphinx rendered scikit-learn.org. See: https://github.com/scikit-learn/scikit-learn/issues/21755 */display: inline-block !important;position: relative;}#sk-container-id-6 div.sk-text-repr-fallback {display: none;}</style><div id=\"sk-container-id-6\" class=\"sk-top-container\"><div class=\"sk-text-repr-fallback\"><pre>LinearRegression()</pre><b>In a Jupyter environment, please rerun this cell to show the HTML representation or trust the notebook. <br />On GitHub, the HTML representation is unable to render, please try loading this page with nbviewer.org.</b></div><div class=\"sk-container\" hidden><div class=\"sk-item\"><div class=\"sk-estimator sk-toggleable\"><input class=\"sk-toggleable__control sk-hidden--visually\" id=\"sk-estimator-id-6\" type=\"checkbox\" checked><label for=\"sk-estimator-id-6\" class=\"sk-toggleable__label sk-toggleable__label-arrow\">LinearRegression</label><div class=\"sk-toggleable__content\"><pre>LinearRegression()</pre></div></div></div></div></div>"
            ]
          },
          "metadata": {},
          "execution_count": 140
        }
      ]
    },
    {
      "cell_type": "code",
      "source": [
        "#Verificamos los coeficientes obtenidos para el modelo ajustado\n",
        "model.__dict__"
      ],
      "metadata": {
        "colab": {
          "base_uri": "https://localhost:8080/"
        },
        "outputId": "83a02dca-eeb7-4991-efcf-99c7c784095e",
        "id": "v4cOCKOFe1Zo"
      },
      "execution_count": 141,
      "outputs": [
        {
          "output_type": "execute_result",
          "data": {
            "text/plain": [
              "{'fit_intercept': True,\n",
              " 'copy_X': True,\n",
              " 'n_jobs': None,\n",
              " 'positive': False,\n",
              " 'feature_names_in_': array(['number_of_reviews', 'review_scores_cleanliness',\n",
              "        'review_scores_communication'], dtype=object),\n",
              " 'n_features_in_': 3,\n",
              " 'coef_': array([[0.05234199, 4.51944919, 0.64254629]]),\n",
              " 'rank_': 3,\n",
              " 'singular_': array([3183.85286555,  270.50282338,   60.55176563]),\n",
              " 'intercept_': array([64.5620382])}"
            ]
          },
          "metadata": {},
          "execution_count": 141
        }
      ]
    },
    {
      "cell_type": "markdown",
      "source": [
        "####**Modelo matemático**\n",
        "\n",
        "Modelo matemático: y=  0.05234199x1 + 4.51944919x2 + 0.64254629x3 + 64.5620382"
      ],
      "metadata": {
        "id": "FUcB5Oj2e1Zo"
      }
    },
    {
      "cell_type": "code",
      "source": [
        "#Predecimos los valores de total de accidentes a partir de las variables: \"alcohol\", \"speeding\" y \"no_previous\"\n",
        "y_pred= model.predict(X=data[[x1.columns[0],x2.columns[0],x3.columns[0]]])\n",
        "y_pred"
      ],
      "metadata": {
        "colab": {
          "base_uri": "https://localhost:8080/"
        },
        "outputId": "a76ab566-7b3d-44d9-97c4-87d2e95bd1a0",
        "id": "OQxDBDCPe1Zo"
      },
      "execution_count": 142,
      "outputs": [
        {
          "output_type": "execute_result",
          "data": {
            "text/plain": [
              "array([[91.21309761],\n",
              "       [93.02254306],\n",
              "       [91.05130922],\n",
              "       ...,\n",
              "       [64.5620382 ],\n",
              "       [64.5620382 ],\n",
              "       [64.5620382 ]])"
            ]
          },
          "metadata": {},
          "execution_count": 142
        }
      ]
    },
    {
      "cell_type": "code",
      "source": [
        "#Insertamos la columna de predicciones en el DataFrame\n",
        "data['Predicciones']= y_pred\n",
        "data[[x1.columns[0],x2.columns[0],x3.columns[0],y.columns[0],'Predicciones']]\n"
      ],
      "metadata": {
        "colab": {
          "base_uri": "https://localhost:8080/",
          "height": 527
        },
        "outputId": "b179e367-1ca9-4657-878a-395b4b4261f5",
        "id": "vvpwPL16e1Zo"
      },
      "execution_count": 143,
      "outputs": [
        {
          "output_type": "stream",
          "name": "stderr",
          "text": [
            "<ipython-input-143-d9a4cba03580>:2: SettingWithCopyWarning: \n",
            "A value is trying to be set on a copy of a slice from a DataFrame.\n",
            "Try using .loc[row_indexer,col_indexer] = value instead\n",
            "\n",
            "See the caveats in the documentation: https://pandas.pydata.org/pandas-docs/stable/user_guide/indexing.html#returning-a-view-versus-a-copy\n",
            "  data['Predicciones']= y_pred\n"
          ]
        },
        {
          "output_type": "execute_result",
          "data": {
            "text/plain": [
              "         number_of_reviews  review_scores_cleanliness  \\\n",
              "0.0                   21.0                       4.95   \n",
              "1.0                   61.0                       4.88   \n",
              "2.0                   39.0                       4.71   \n",
              "3.0                    0.0                       0.00   \n",
              "4.0                   64.0                       4.70   \n",
              "...                    ...                        ...   \n",
              "24217.0                0.0                       0.00   \n",
              "24219.0                0.0                       0.00   \n",
              "24220.0                0.0                       0.00   \n",
              "24222.0                0.0                       0.00   \n",
              "24223.0                0.0                       0.00   \n",
              "\n",
              "         review_scores_communication  host_acceptance_rate  Predicciones  \n",
              "0.0                             4.95                   0.0     91.213098  \n",
              "1.0                             5.00                   0.0     93.022543  \n",
              "2.0                             4.92                  90.0     91.051309  \n",
              "3.0                             0.00                   0.0     64.562038  \n",
              "4.0                             4.78                  86.0     92.224708  \n",
              "...                              ...                   ...           ...  \n",
              "24217.0                         0.00                 100.0     64.562038  \n",
              "24219.0                         0.00                 100.0     64.562038  \n",
              "24220.0                         0.00                   0.0     64.562038  \n",
              "24222.0                         0.00                 100.0     64.562038  \n",
              "24223.0                         0.00                 100.0     64.562038  \n",
              "\n",
              "[15601 rows x 5 columns]"
            ],
            "text/html": [
              "\n",
              "  <div id=\"df-2537b391-1d52-4c7a-8ff5-9a4d125be7ba\">\n",
              "    <div class=\"colab-df-container\">\n",
              "      <div>\n",
              "<style scoped>\n",
              "    .dataframe tbody tr th:only-of-type {\n",
              "        vertical-align: middle;\n",
              "    }\n",
              "\n",
              "    .dataframe tbody tr th {\n",
              "        vertical-align: top;\n",
              "    }\n",
              "\n",
              "    .dataframe thead th {\n",
              "        text-align: right;\n",
              "    }\n",
              "</style>\n",
              "<table border=\"1\" class=\"dataframe\">\n",
              "  <thead>\n",
              "    <tr style=\"text-align: right;\">\n",
              "      <th></th>\n",
              "      <th>number_of_reviews</th>\n",
              "      <th>review_scores_cleanliness</th>\n",
              "      <th>review_scores_communication</th>\n",
              "      <th>host_acceptance_rate</th>\n",
              "      <th>Predicciones</th>\n",
              "    </tr>\n",
              "  </thead>\n",
              "  <tbody>\n",
              "    <tr>\n",
              "      <th>0.0</th>\n",
              "      <td>21.0</td>\n",
              "      <td>4.95</td>\n",
              "      <td>4.95</td>\n",
              "      <td>0.0</td>\n",
              "      <td>91.213098</td>\n",
              "    </tr>\n",
              "    <tr>\n",
              "      <th>1.0</th>\n",
              "      <td>61.0</td>\n",
              "      <td>4.88</td>\n",
              "      <td>5.00</td>\n",
              "      <td>0.0</td>\n",
              "      <td>93.022543</td>\n",
              "    </tr>\n",
              "    <tr>\n",
              "      <th>2.0</th>\n",
              "      <td>39.0</td>\n",
              "      <td>4.71</td>\n",
              "      <td>4.92</td>\n",
              "      <td>90.0</td>\n",
              "      <td>91.051309</td>\n",
              "    </tr>\n",
              "    <tr>\n",
              "      <th>3.0</th>\n",
              "      <td>0.0</td>\n",
              "      <td>0.00</td>\n",
              "      <td>0.00</td>\n",
              "      <td>0.0</td>\n",
              "      <td>64.562038</td>\n",
              "    </tr>\n",
              "    <tr>\n",
              "      <th>4.0</th>\n",
              "      <td>64.0</td>\n",
              "      <td>4.70</td>\n",
              "      <td>4.78</td>\n",
              "      <td>86.0</td>\n",
              "      <td>92.224708</td>\n",
              "    </tr>\n",
              "    <tr>\n",
              "      <th>...</th>\n",
              "      <td>...</td>\n",
              "      <td>...</td>\n",
              "      <td>...</td>\n",
              "      <td>...</td>\n",
              "      <td>...</td>\n",
              "    </tr>\n",
              "    <tr>\n",
              "      <th>24217.0</th>\n",
              "      <td>0.0</td>\n",
              "      <td>0.00</td>\n",
              "      <td>0.00</td>\n",
              "      <td>100.0</td>\n",
              "      <td>64.562038</td>\n",
              "    </tr>\n",
              "    <tr>\n",
              "      <th>24219.0</th>\n",
              "      <td>0.0</td>\n",
              "      <td>0.00</td>\n",
              "      <td>0.00</td>\n",
              "      <td>100.0</td>\n",
              "      <td>64.562038</td>\n",
              "    </tr>\n",
              "    <tr>\n",
              "      <th>24220.0</th>\n",
              "      <td>0.0</td>\n",
              "      <td>0.00</td>\n",
              "      <td>0.00</td>\n",
              "      <td>0.0</td>\n",
              "      <td>64.562038</td>\n",
              "    </tr>\n",
              "    <tr>\n",
              "      <th>24222.0</th>\n",
              "      <td>0.0</td>\n",
              "      <td>0.00</td>\n",
              "      <td>0.00</td>\n",
              "      <td>100.0</td>\n",
              "      <td>64.562038</td>\n",
              "    </tr>\n",
              "    <tr>\n",
              "      <th>24223.0</th>\n",
              "      <td>0.0</td>\n",
              "      <td>0.00</td>\n",
              "      <td>0.00</td>\n",
              "      <td>100.0</td>\n",
              "      <td>64.562038</td>\n",
              "    </tr>\n",
              "  </tbody>\n",
              "</table>\n",
              "<p>15601 rows × 5 columns</p>\n",
              "</div>\n",
              "      <button class=\"colab-df-convert\" onclick=\"convertToInteractive('df-2537b391-1d52-4c7a-8ff5-9a4d125be7ba')\"\n",
              "              title=\"Convert this dataframe to an interactive table.\"\n",
              "              style=\"display:none;\">\n",
              "        \n",
              "  <svg xmlns=\"http://www.w3.org/2000/svg\" height=\"24px\"viewBox=\"0 0 24 24\"\n",
              "       width=\"24px\">\n",
              "    <path d=\"M0 0h24v24H0V0z\" fill=\"none\"/>\n",
              "    <path d=\"M18.56 5.44l.94 2.06.94-2.06 2.06-.94-2.06-.94-.94-2.06-.94 2.06-2.06.94zm-11 1L8.5 8.5l.94-2.06 2.06-.94-2.06-.94L8.5 2.5l-.94 2.06-2.06.94zm10 10l.94 2.06.94-2.06 2.06-.94-2.06-.94-.94-2.06-.94 2.06-2.06.94z\"/><path d=\"M17.41 7.96l-1.37-1.37c-.4-.4-.92-.59-1.43-.59-.52 0-1.04.2-1.43.59L10.3 9.45l-7.72 7.72c-.78.78-.78 2.05 0 2.83L4 21.41c.39.39.9.59 1.41.59.51 0 1.02-.2 1.41-.59l7.78-7.78 2.81-2.81c.8-.78.8-2.07 0-2.86zM5.41 20L4 18.59l7.72-7.72 1.47 1.35L5.41 20z\"/>\n",
              "  </svg>\n",
              "      </button>\n",
              "      \n",
              "  <style>\n",
              "    .colab-df-container {\n",
              "      display:flex;\n",
              "      flex-wrap:wrap;\n",
              "      gap: 12px;\n",
              "    }\n",
              "\n",
              "    .colab-df-convert {\n",
              "      background-color: #E8F0FE;\n",
              "      border: none;\n",
              "      border-radius: 50%;\n",
              "      cursor: pointer;\n",
              "      display: none;\n",
              "      fill: #1967D2;\n",
              "      height: 32px;\n",
              "      padding: 0 0 0 0;\n",
              "      width: 32px;\n",
              "    }\n",
              "\n",
              "    .colab-df-convert:hover {\n",
              "      background-color: #E2EBFA;\n",
              "      box-shadow: 0px 1px 2px rgba(60, 64, 67, 0.3), 0px 1px 3px 1px rgba(60, 64, 67, 0.15);\n",
              "      fill: #174EA6;\n",
              "    }\n",
              "\n",
              "    [theme=dark] .colab-df-convert {\n",
              "      background-color: #3B4455;\n",
              "      fill: #D2E3FC;\n",
              "    }\n",
              "\n",
              "    [theme=dark] .colab-df-convert:hover {\n",
              "      background-color: #434B5C;\n",
              "      box-shadow: 0px 1px 3px 1px rgba(0, 0, 0, 0.15);\n",
              "      filter: drop-shadow(0px 1px 2px rgba(0, 0, 0, 0.3));\n",
              "      fill: #FFFFFF;\n",
              "    }\n",
              "  </style>\n",
              "\n",
              "      <script>\n",
              "        const buttonEl =\n",
              "          document.querySelector('#df-2537b391-1d52-4c7a-8ff5-9a4d125be7ba button.colab-df-convert');\n",
              "        buttonEl.style.display =\n",
              "          google.colab.kernel.accessAllowed ? 'block' : 'none';\n",
              "\n",
              "        async function convertToInteractive(key) {\n",
              "          const element = document.querySelector('#df-2537b391-1d52-4c7a-8ff5-9a4d125be7ba');\n",
              "          const dataTable =\n",
              "            await google.colab.kernel.invokeFunction('convertToInteractive',\n",
              "                                                     [key], {});\n",
              "          if (!dataTable) return;\n",
              "\n",
              "          const docLinkHtml = 'Like what you see? Visit the ' +\n",
              "            '<a target=\"_blank\" href=https://colab.research.google.com/notebooks/data_table.ipynb>data table notebook</a>'\n",
              "            + ' to learn more about interactive tables.';\n",
              "          element.innerHTML = '';\n",
              "          dataTable['output_type'] = 'display_data';\n",
              "          await google.colab.output.renderOutput(dataTable, element);\n",
              "          const docLink = document.createElement('div');\n",
              "          docLink.innerHTML = docLinkHtml;\n",
              "          element.appendChild(docLink);\n",
              "        }\n",
              "      </script>\n",
              "    </div>\n",
              "  </div>\n",
              "  "
            ]
          },
          "metadata": {},
          "execution_count": 143
        }
      ]
    },
    {
      "cell_type": "code",
      "source": [
        "#Visualizamos la gráfica comparativa entre el total real y el total predecido\n",
        "sns.scatterplot(x=x2.columns[0], y=y.columns[0], color=\"lightgreen\", data=data)\n",
        "sns.scatterplot(x=x2.columns[0], y='Predicciones', color=\"purple\", data=data)"
      ],
      "metadata": {
        "colab": {
          "base_uri": "https://localhost:8080/",
          "height": 467
        },
        "outputId": "b12ee0ed-1804-4209-9d50-4f5e45b9971f",
        "id": "GbXlKApAe1Zp"
      },
      "execution_count": 144,
      "outputs": [
        {
          "output_type": "execute_result",
          "data": {
            "text/plain": [
              "<Axes: xlabel='review_scores_cleanliness', ylabel='host_acceptance_rate'>"
            ]
          },
          "metadata": {},
          "execution_count": 144
        },
        {
          "output_type": "display_data",
          "data": {
            "text/plain": [
              "<Figure size 640x480 with 1 Axes>"
            ],
            "image/png": "[encoded data removed]"
          },
          "metadata": {}
        }
      ]
    },
    {
      "cell_type": "code",
      "source": [
        "y_e.append(y.columns[0])\n",
        "x1_e.append(x1.columns[0])\n",
        "x2_e.append(x2.columns[0])\n",
        "x3_e.append(x3.columns[0])\n",
        "x4_e.append(x4)"
      ],
      "metadata": {
        "id": "qsojLsK2e1Zp"
      },
      "execution_count": 145,
      "outputs": []
    },
    {
      "cell_type": "code",
      "source": [
        "#Corroboramos cual es el coeficiente de Determinación de nuestro modelo\n",
        "coef_Deter=model.score(X=Vars_Indep, y=Var_Dep)\n",
        "deter_e.append(coef_Deter)\n",
        "coef_Deter"
      ],
      "metadata": {
        "colab": {
          "base_uri": "https://localhost:8080/"
        },
        "outputId": "672bf07a-6659-4c1d-98ae-59a2734b296f",
        "id": "t9rwfDHye1Zq"
      },
      "execution_count": 146,
      "outputs": [
        {
          "output_type": "execute_result",
          "data": {
            "text/plain": [
              "0.09238916780149542"
            ]
          },
          "metadata": {},
          "execution_count": 146
        }
      ]
    },
    {
      "cell_type": "code",
      "source": [
        "#Corroboramos cual es el coeficiente de Correlación de nuestro modelo\n",
        "coef_Correl=np.sqrt(coef_Deter)\n",
        "corr_e.append(coef_Correl)\n",
        "coef_Correl"
      ],
      "metadata": {
        "colab": {
          "base_uri": "https://localhost:8080/"
        },
        "outputId": "9379d8db-b879-4ed4-9e7b-0689002365ab",
        "id": "c-wCNMM6e1Zq"
      },
      "execution_count": 147,
      "outputs": [
        {
          "output_type": "execute_result",
          "data": {
            "text/plain": [
              "0.303955864890769"
            ]
          },
          "metadata": {},
          "execution_count": 147
        }
      ]
    },
    {
      "cell_type": "markdown",
      "source": [
        "##**Private room**"
      ],
      "metadata": {
        "id": "driuGmaLyR0e"
      }
    },
    {
      "cell_type": "code",
      "source": [
        "private=df[df['property_type']=='Private room']"
      ],
      "metadata": {
        "id": "0o5ar1EnyR0f"
      },
      "execution_count": 150,
      "outputs": []
    },
    {
      "cell_type": "markdown",
      "source": [
        "###**host_acceptance_rate vs host_response_rate, Price, number_of_reviews , review_scores_rating**"
      ],
      "metadata": {
        "id": "3L5SgJs6gBhq"
      }
    },
    {
      "cell_type": "code",
      "source": [
        "data = private"
      ],
      "metadata": {
        "id": "8Ce3j785gBhr"
      },
      "execution_count": 151,
      "outputs": []
    },
    {
      "cell_type": "code",
      "source": [
        "data.host_acceptance_rate= data.host_acceptance_rate.replace({'\\%':''}, regex = True)\n",
        "data.host_acceptance_rate= data.host_acceptance_rate.replace({'\\,':''}, regex = True)\n",
        "data.host_acceptance_rate= data.host_acceptance_rate.replace({'--':'0'}, regex = True)\n",
        "data['host_acceptance_rate'] = data['host_acceptance_rate'].astype(float)\n",
        "\n",
        "data.host_response_rate= data.host_response_rate.replace({'\\%':''}, regex = True)\n",
        "data.host_response_rate= data.host_response_rate.replace({'\\,':''}, regex = True)\n",
        "data.host_response_rate= data.host_response_rate.replace({'--':'0'}, regex = True)\n",
        "data['host_response_rate'] = data['host_response_rate'].astype(float)\n",
        "\n",
        "data.price= data.price.replace({'\\$':''}, regex = True)\n",
        "data.price= data.price.replace({'\\,':''}, regex = True)\n",
        "data.price= data.price.replace({'--':'0'}, regex = True)\n",
        "data['price'] = data['price'].astype(float)\n"
      ],
      "metadata": {
        "colab": {
          "base_uri": "https://localhost:8080/"
        },
        "outputId": "4342bc50-fa16-4dbe-c689-f291779084ea",
        "id": "8BfRHWLBgBhr"
      },
      "execution_count": 152,
      "outputs": [
        {
          "output_type": "stream",
          "name": "stderr",
          "text": [
            "<ipython-input-152-1c2dc9575a21>:1: SettingWithCopyWarning: \n",
            "A value is trying to be set on a copy of a slice from a DataFrame.\n",
            "Try using .loc[row_indexer,col_indexer] = value instead\n",
            "\n",
            "See the caveats in the documentation: https://pandas.pydata.org/pandas-docs/stable/user_guide/indexing.html#returning-a-view-versus-a-copy\n",
            "  data.host_acceptance_rate= data.host_acceptance_rate.replace({'\\%':''}, regex = True)\n",
            "<ipython-input-152-1c2dc9575a21>:2: SettingWithCopyWarning: \n",
            "A value is trying to be set on a copy of a slice from a DataFrame.\n",
            "Try using .loc[row_indexer,col_indexer] = value instead\n",
            "\n",
            "See the caveats in the documentation: https://pandas.pydata.org/pandas-docs/stable/user_guide/indexing.html#returning-a-view-versus-a-copy\n",
            "  data.host_acceptance_rate= data.host_acceptance_rate.replace({'\\,':''}, regex = True)\n",
            "<ipython-input-152-1c2dc9575a21>:3: SettingWithCopyWarning: \n",
            "A value is trying to be set on a copy of a slice from a DataFrame.\n",
            "Try using .loc[row_indexer,col_indexer] = value instead\n",
            "\n",
            "See the caveats in the documentation: https://pandas.pydata.org/pandas-docs/stable/user_guide/indexing.html#returning-a-view-versus-a-copy\n",
            "  data.host_acceptance_rate= data.host_acceptance_rate.replace({'--':'0'}, regex = True)\n",
            "<ipython-input-152-1c2dc9575a21>:4: SettingWithCopyWarning: \n",
            "A value is trying to be set on a copy of a slice from a DataFrame.\n",
            "Try using .loc[row_indexer,col_indexer] = value instead\n",
            "\n",
            "See the caveats in the documentation: https://pandas.pydata.org/pandas-docs/stable/user_guide/indexing.html#returning-a-view-versus-a-copy\n",
            "  data['host_acceptance_rate'] = data['host_acceptance_rate'].astype(float)\n",
            "<ipython-input-152-1c2dc9575a21>:6: SettingWithCopyWarning: \n",
            "A value is trying to be set on a copy of a slice from a DataFrame.\n",
            "Try using .loc[row_indexer,col_indexer] = value instead\n",
            "\n",
            "See the caveats in the documentation: https://pandas.pydata.org/pandas-docs/stable/user_guide/indexing.html#returning-a-view-versus-a-copy\n",
            "  data.host_response_rate= data.host_response_rate.replace({'\\%':''}, regex = True)\n",
            "<ipython-input-152-1c2dc9575a21>:7: SettingWithCopyWarning: \n",
            "A value is trying to be set on a copy of a slice from a DataFrame.\n",
            "Try using .loc[row_indexer,col_indexer] = value instead\n",
            "\n",
            "See the caveats in the documentation: https://pandas.pydata.org/pandas-docs/stable/user_guide/indexing.html#returning-a-view-versus-a-copy\n",
            "  data.host_response_rate= data.host_response_rate.replace({'\\,':''}, regex = True)\n",
            "<ipython-input-152-1c2dc9575a21>:8: SettingWithCopyWarning: \n",
            "A value is trying to be set on a copy of a slice from a DataFrame.\n",
            "Try using .loc[row_indexer,col_indexer] = value instead\n",
            "\n",
            "See the caveats in the documentation: https://pandas.pydata.org/pandas-docs/stable/user_guide/indexing.html#returning-a-view-versus-a-copy\n",
            "  data.host_response_rate= data.host_response_rate.replace({'--':'0'}, regex = True)\n",
            "<ipython-input-152-1c2dc9575a21>:9: SettingWithCopyWarning: \n",
            "A value is trying to be set on a copy of a slice from a DataFrame.\n",
            "Try using .loc[row_indexer,col_indexer] = value instead\n",
            "\n",
            "See the caveats in the documentation: https://pandas.pydata.org/pandas-docs/stable/user_guide/indexing.html#returning-a-view-versus-a-copy\n",
            "  data['host_response_rate'] = data['host_response_rate'].astype(float)\n",
            "<ipython-input-152-1c2dc9575a21>:11: SettingWithCopyWarning: \n",
            "A value is trying to be set on a copy of a slice from a DataFrame.\n",
            "Try using .loc[row_indexer,col_indexer] = value instead\n",
            "\n",
            "See the caveats in the documentation: https://pandas.pydata.org/pandas-docs/stable/user_guide/indexing.html#returning-a-view-versus-a-copy\n",
            "  data.price= data.price.replace({'\\$':''}, regex = True)\n",
            "<ipython-input-152-1c2dc9575a21>:12: SettingWithCopyWarning: \n",
            "A value is trying to be set on a copy of a slice from a DataFrame.\n",
            "Try using .loc[row_indexer,col_indexer] = value instead\n",
            "\n",
            "See the caveats in the documentation: https://pandas.pydata.org/pandas-docs/stable/user_guide/indexing.html#returning-a-view-versus-a-copy\n",
            "  data.price= data.price.replace({'\\,':''}, regex = True)\n",
            "<ipython-input-152-1c2dc9575a21>:13: SettingWithCopyWarning: \n",
            "A value is trying to be set on a copy of a slice from a DataFrame.\n",
            "Try using .loc[row_indexer,col_indexer] = value instead\n",
            "\n",
            "See the caveats in the documentation: https://pandas.pydata.org/pandas-docs/stable/user_guide/indexing.html#returning-a-view-versus-a-copy\n",
            "  data.price= data.price.replace({'--':'0'}, regex = True)\n",
            "<ipython-input-152-1c2dc9575a21>:14: SettingWithCopyWarning: \n",
            "A value is trying to be set on a copy of a slice from a DataFrame.\n",
            "Try using .loc[row_indexer,col_indexer] = value instead\n",
            "\n",
            "See the caveats in the documentation: https://pandas.pydata.org/pandas-docs/stable/user_guide/indexing.html#returning-a-view-versus-a-copy\n",
            "  data['price'] = data['price'].astype(float)\n"
          ]
        }
      ]
    },
    {
      "cell_type": "code",
      "source": [
        "y = data[['host_acceptance_rate']]\n",
        "x1 = data[['host_response_rate']]\n",
        "x2 = data[['price']]\n",
        "x3 = data[['number_of_reviews']]\n",
        "x4 = data[['review_scores_rating']]"
      ],
      "metadata": {
        "id": "LG5Q55omgBhs"
      },
      "execution_count": 153,
      "outputs": []
    },
    {
      "cell_type": "code",
      "source": [
        "from turtle import color\n",
        "sns.scatterplot(x= x1.columns[0], y=y.columns[0], color=\"lightblue\", data=data)\n",
        "sns.scatterplot(x=x2.columns[0], y=y.columns[0], color=\"lightgreen\", data=data)\n",
        "sns.scatterplot(x=x3.columns[0], y=y.columns[0], color=\"pink\", data=data)\n",
        "sns.scatterplot(x=x4.columns[0], y=y.columns[0], color=\"orange\", data=data)"
      ],
      "metadata": {
        "colab": {
          "base_uri": "https://localhost:8080/",
          "height": 467
        },
        "outputId": "c298e1b3-5ee6-4123-a149-222c0b21313e",
        "id": "S8sIVjdrgBht"
      },
      "execution_count": 154,
      "outputs": [
        {
          "output_type": "execute_result",
          "data": {
            "text/plain": [
              "<Axes: xlabel='host_response_rate', ylabel='host_acceptance_rate'>"
            ]
          },
          "metadata": {},
          "execution_count": 154
        },
        {
          "output_type": "display_data",
          "data": {
            "text/plain": [
              "<Figure size 640x480 with 1 Axes>"
            ],
            "image/png": "[encoded data removed]"
          },
          "metadata": {}
        }
      ]
    },
    {
      "cell_type": "code",
      "source": [
        "#Declaramos las variables dependientes e independientes para la regresión lineal\n",
        "Vars_Indep= data[[x1.columns[0],x2.columns[0],x3.columns[0],x4.columns[0]]]\n",
        "Var_Dep= y"
      ],
      "metadata": {
        "id": "VdjvOFWjgBht"
      },
      "execution_count": 155,
      "outputs": []
    },
    {
      "cell_type": "code",
      "source": [
        "#Se define model como la función de regresión lineal\n",
        "from sklearn.linear_model import LinearRegression\n",
        "model= LinearRegression()"
      ],
      "metadata": {
        "id": "9ehal0CfgBhu"
      },
      "execution_count": 156,
      "outputs": []
    },
    {
      "cell_type": "code",
      "source": [
        "#Verificamos la función relacionada al modelo\n",
        "type(model)"
      ],
      "metadata": {
        "colab": {
          "base_uri": "https://localhost:8080/"
        },
        "outputId": "ea14ec10-172d-4048-c035-c1f9c8e902f2",
        "id": "_0Hb8D9bgBhv"
      },
      "execution_count": 157,
      "outputs": [
        {
          "output_type": "execute_result",
          "data": {
            "text/plain": [
              "sklearn.linear_model._base.LinearRegression"
            ]
          },
          "metadata": {},
          "execution_count": 157
        }
      ]
    },
    {
      "cell_type": "code",
      "source": [
        "#Ajustamos el modelo con las variables antes declaradas\n",
        "model.fit(X=Vars_Indep, y=Var_Dep)"
      ],
      "metadata": {
        "colab": {
          "base_uri": "https://localhost:8080/",
          "height": 74
        },
        "outputId": "458b2305-8481-4f55-ca9d-dec467539986",
        "id": "73c1Vn3dgBhw"
      },
      "execution_count": 158,
      "outputs": [
        {
          "output_type": "execute_result",
          "data": {
            "text/plain": [
              "LinearRegression()"
            ],
            "text/html": [
              "<style>#sk-container-id-7 {color: black;background-color: white;}#sk-container-id-7 pre{padding: 0;}#sk-container-id-7 div.sk-toggleable {background-color: white;}#sk-container-id-7 label.sk-toggleable__label {cursor: pointer;display: block;width: 100%;margin-bottom: 0;padding: 0.3em;box-sizing: border-box;text-align: center;}#sk-container-id-7 label.sk-toggleable__label-arrow:before {content: \"▸\";float: left;margin-right: 0.25em;color: #696969;}#sk-container-id-7 label.sk-toggleable__label-arrow:hover:before {color: black;}#sk-container-id-7 div.sk-estimator:hover label.sk-toggleable__label-arrow:before {color: black;}#sk-container-id-7 div.sk-toggleable__content {max-height: 0;max-width: 0;overflow: hidden;text-align: left;background-color: #f0f8ff;}#sk-container-id-7 div.sk-toggleable__content pre {margin: 0.2em;color: black;border-radius: 0.25em;background-color: #f0f8ff;}#sk-container-id-7 input.sk-toggleable__control:checked~div.sk-toggleable__content {max-height: 200px;max-width: 100%;overflow: auto;}#sk-container-id-7 input.sk-toggleable__control:checked~label.sk-toggleable__label-arrow:before {content: \"▾\";}#sk-container-id-7 div.sk-estimator input.sk-toggleable__control:checked~label.sk-toggleable__label {background-color: #d4ebff;}#sk-container-id-7 div.sk-label input.sk-toggleable__control:checked~label.sk-toggleable__label {background-color: #d4ebff;}#sk-container-id-7 input.sk-hidden--visually {border: 0;clip: rect(1px 1px 1px 1px);clip: rect(1px, 1px, 1px, 1px);height: 1px;margin: -1px;overflow: hidden;padding: 0;position: absolute;width: 1px;}#sk-container-id-7 div.sk-estimator {font-family: monospace;background-color: #f0f8ff;border: 1px dotted black;border-radius: 0.25em;box-sizing: border-box;margin-bottom: 0.5em;}#sk-container-id-7 div.sk-estimator:hover {background-color: #d4ebff;}#sk-container-id-7 div.sk-parallel-item::after {content: \"\";width: 100%;border-bottom: 1px solid gray;flex-grow: 1;}#sk-container-id-7 div.sk-label:hover label.sk-toggleable__label {background-color: #d4ebff;}#sk-container-id-7 div.sk-serial::before {content: \"\";position: absolute;border-left: 1px solid gray;box-sizing: border-box;top: 0;bottom: 0;left: 50%;z-index: 0;}#sk-container-id-7 div.sk-serial {display: flex;flex-direction: column;align-items: center;background-color: white;padding-right: 0.2em;padding-left: 0.2em;position: relative;}#sk-container-id-7 div.sk-item {position: relative;z-index: 1;}#sk-container-id-7 div.sk-parallel {display: flex;align-items: stretch;justify-content: center;background-color: white;position: relative;}#sk-container-id-7 div.sk-item::before, #sk-container-id-7 div.sk-parallel-item::before {content: \"\";position: absolute;border-left: 1px solid gray;box-sizing: border-box;top: 0;bottom: 0;left: 50%;z-index: -1;}#sk-container-id-7 div.sk-parallel-item {display: flex;flex-direction: column;z-index: 1;position: relative;background-color: white;}#sk-container-id-7 div.sk-parallel-item:first-child::after {align-self: flex-end;width: 50%;}#sk-container-id-7 div.sk-parallel-item:last-child::after {align-self: flex-start;width: 50%;}#sk-container-id-7 div.sk-parallel-item:only-child::after {width: 0;}#sk-container-id-7 div.sk-dashed-wrapped {border: 1px dashed gray;margin: 0 0.4em 0.5em 0.4em;box-sizing: border-box;padding-bottom: 0.4em;background-color: white;}#sk-container-id-7 div.sk-label label {font-family: monospace;font-weight: bold;display: inline-block;line-height: 1.2em;}#sk-container-id-7 div.sk-label-container {text-align: center;}#sk-container-id-7 div.sk-container {/* jupyter's `normalize.less` sets `[hidden] { display: none; }` but bootstrap.min.css set `[hidden] { display: none !important; }` so we also need the `!important` here to be able to override the default hidden behavior on the sphinx rendered scikit-learn.org. See: https://github.com/scikit-learn/scikit-learn/issues/21755 */display: inline-block !important;position: relative;}#sk-container-id-7 div.sk-text-repr-fallback {display: none;}</style><div id=\"sk-container-id-7\" class=\"sk-top-container\"><div class=\"sk-text-repr-fallback\"><pre>LinearRegression()</pre><b>In a Jupyter environment, please rerun this cell to show the HTML representation or trust the notebook. <br />On GitHub, the HTML representation is unable to render, please try loading this page with nbviewer.org.</b></div><div class=\"sk-container\" hidden><div class=\"sk-item\"><div class=\"sk-estimator sk-toggleable\"><input class=\"sk-toggleable__control sk-hidden--visually\" id=\"sk-estimator-id-7\" type=\"checkbox\" checked><label for=\"sk-estimator-id-7\" class=\"sk-toggleable__label sk-toggleable__label-arrow\">LinearRegression</label><div class=\"sk-toggleable__content\"><pre>LinearRegression()</pre></div></div></div></div></div>"
            ]
          },
          "metadata": {},
          "execution_count": 158
        }
      ]
    },
    {
      "cell_type": "code",
      "source": [
        "#Verificamos los coeficientes obtenidos para el modelo ajustado\n",
        "model.__dict__"
      ],
      "metadata": {
        "colab": {
          "base_uri": "https://localhost:8080/"
        },
        "outputId": "6319e4f3-f527-4d74-c532-ee45e6dfba61",
        "id": "UeCemrWqgBhx"
      },
      "execution_count": 159,
      "outputs": [
        {
          "output_type": "execute_result",
          "data": {
            "text/plain": [
              "{'fit_intercept': True,\n",
              " 'copy_X': True,\n",
              " 'n_jobs': None,\n",
              " 'positive': False,\n",
              " 'feature_names_in_': array(['host_response_rate', 'price', 'number_of_reviews',\n",
              "        'review_scores_rating'], dtype=object),\n",
              " 'n_features_in_': 4,\n",
              " 'coef_': array([[-2.55209478e-02, -6.16903688e-05,  1.66799376e-03,\n",
              "          4.23663777e+00]]),\n",
              " 'rank_': 4,\n",
              " 'singular_': array([2.65954881e+04, 1.78333031e+02, 1.51540337e+02, 1.05971379e+01]),\n",
              " 'intercept_': array([78.73052448])}"
            ]
          },
          "metadata": {},
          "execution_count": 159
        }
      ]
    },
    {
      "cell_type": "markdown",
      "source": [
        "####**Modelo matemático**\n",
        "\n",
        "Modelo matemático: y= -2.55209478e-02x1 + -6.16903688e-05x2 + 1.66799376e-03x3 + 4.23663777e+00x4 + 78.73052448"
      ],
      "metadata": {
        "id": "Jun6X0ZNgBhz"
      }
    },
    {
      "cell_type": "code",
      "source": [
        "#Predecimos los valores de total de accidentes a partir de las variables: \"alcohol\", \"speeding\" y \"no_previous\"\n",
        "y_pred= model.predict(X=data[[x1.columns[0],x2.columns[0],x3.columns[0],x4.columns[0]]])\n",
        "y_pred"
      ],
      "metadata": {
        "colab": {
          "base_uri": "https://localhost:8080/"
        },
        "outputId": "d77c7686-31f6-4d6a-81fe-87dd6e9e6bd0",
        "id": "63nnb7_ygBh0"
      },
      "execution_count": 160,
      "outputs": [
        {
          "output_type": "execute_result",
          "data": {
            "text/plain": [
              "array([[76.10168689],\n",
              "       [97.04392943],\n",
              "       [77.44497913],\n",
              "       [97.62455263],\n",
              "       [94.49606499],\n",
              "       [97.07608158],\n",
              "       [94.47587812],\n",
              "       [94.81129279],\n",
              "       [96.92950123],\n",
              "       [78.66883411],\n",
              "       [95.67247928],\n",
              "       [96.83044925],\n",
              "       [97.34257977],\n",
              "       [96.87793662],\n",
              "       [96.75141781],\n",
              "       [97.34052987],\n",
              "       [96.83230899],\n",
              "       [97.31701878],\n",
              "       [95.4067922 ],\n",
              "       [96.46815219],\n",
              "       [96.35805292],\n",
              "       [96.97446744],\n",
              "       [96.60780948],\n",
              "       [96.91438444],\n",
              "       [93.09493993],\n",
              "       [95.65571334],\n",
              "       [76.15375356],\n",
              "       [97.34553385],\n",
              "       [95.69474373],\n",
              "       [99.71770194],\n",
              "       [96.38371158],\n",
              "       [94.83906127],\n",
              "       [78.54545338],\n",
              "       [97.25224389],\n",
              "       [97.30776522],\n",
              "       [76.08675782],\n",
              "       [95.47549566],\n",
              "       [97.01790393],\n",
              "       [96.21016967],\n",
              "       [76.15900901],\n",
              "       [95.21295743],\n",
              "       [97.33410936],\n",
              "       [76.1457955 ]])"
            ]
          },
          "metadata": {},
          "execution_count": 160
        }
      ]
    },
    {
      "cell_type": "code",
      "source": [
        "#Insertamos la columna de predicciones en el DataFrame\n",
        "\n",
        "data['Predicciones']= y_pred\n",
        "data[[x1.columns[0],x2.columns[0],x3.columns[0],x4.columns[0],y.columns[0],'Predicciones']]\n"
      ],
      "metadata": {
        "colab": {
          "base_uri": "https://localhost:8080/",
          "height": 1000
        },
        "outputId": "745c6415-a237-4e4d-8a20-77fc6dec6442",
        "id": "PGI8C_8mgBh1"
      },
      "execution_count": 161,
      "outputs": [
        {
          "output_type": "stream",
          "name": "stderr",
          "text": [
            "<ipython-input-161-0fbb012ffc02>:3: SettingWithCopyWarning: \n",
            "A value is trying to be set on a copy of a slice from a DataFrame.\n",
            "Try using .loc[row_indexer,col_indexer] = value instead\n",
            "\n",
            "See the caveats in the documentation: https://pandas.pydata.org/pandas-docs/stable/user_guide/indexing.html#returning-a-view-versus-a-copy\n",
            "  data['Predicciones']= y_pred\n"
          ]
        },
        {
          "output_type": "execute_result",
          "data": {
            "text/plain": [
              "         host_response_rate    price  number_of_reviews  review_scores_rating  \\\n",
              "21.0                  100.0   1244.0                0.0                  0.00   \n",
              "1062.0                100.0    748.0               15.0                  4.93   \n",
              "2670.0                 50.0    181.0                1.0                  0.00   \n",
              "2805.0                 50.0    400.0               17.0                  4.76   \n",
              "3065.0                100.0    600.0                6.0                  4.33   \n",
              "3257.0                100.0    508.0                0.0                  4.94   \n",
              "3359.0                100.0    765.0                0.0                  4.33   \n",
              "3372.0                100.0    822.0                0.0                  4.41   \n",
              "3455.0                100.0    375.0               85.0                  4.87   \n",
              "3571.0                  0.0   1000.0                0.0                  0.00   \n",
              "3605.0                100.0  27435.0                2.0                  5.00   \n",
              "4303.0                100.0    526.0               82.0                  4.85   \n",
              "5667.0                100.0    579.0               10.0                  5.00   \n",
              "6244.0                100.0   1757.0               29.0                  4.90   \n",
              "11127.0               100.0    320.0               27.0                  4.85   \n",
              "11919.0               100.0    450.0                4.0                  5.00   \n",
              "12298.0               100.0    339.0                0.0                  4.88   \n",
              "12711.0               100.0    750.0                1.0                  5.00   \n",
              "12840.0               100.0   1081.0               11.0                  4.55   \n",
              "12863.0               100.0    364.0               62.0                  4.77   \n",
              "13673.0               100.0    640.0               57.0                  4.75   \n",
              "13674.0               100.0    733.0               49.0                  4.90   \n",
              "13680.0               100.0    712.0               57.0                  4.81   \n",
              "13713.0               100.0    739.0               64.0                  4.88   \n",
              "14804.0               100.0    514.0                1.0                  4.00   \n",
              "14918.0               100.0   1491.0               23.0                  4.61   \n",
              "15030.0               100.0    400.0                0.0                  0.00   \n",
              "15092.0               100.0    450.0                7.0                  5.00   \n",
              "15357.0               100.0   1491.0               21.0                  4.62   \n",
              "16016.0                 0.0    771.0               38.0                  4.95   \n",
              "16934.0                99.0    243.0               17.0                  4.76   \n",
              "16935.0                99.0    234.0                5.0                  4.40   \n",
              "17154.0                 0.0   3000.0                0.0                  0.00   \n",
              "17251.0               100.0   1800.0                1.0                  5.00   \n",
              "18954.0               100.0    900.0                1.0                  5.00   \n",
              "19583.0               100.0   1486.0                0.0                  0.00   \n",
              "19757.0               100.0    600.0                9.0                  4.56   \n",
              "19920.0               100.0    402.0               12.0                  4.92   \n",
              "20376.0                90.0    220.0                3.0                  4.67   \n",
              "20856.0               100.0    450.0                5.0                  0.00   \n",
              "20858.0               100.0    600.0                4.0                  4.50   \n",
              "20864.0               100.0    500.0                2.0                  5.00   \n",
              "22715.0               100.0    529.0                0.0                  0.00   \n",
              "\n",
              "         host_acceptance_rate  Predicciones  \n",
              "21.0                      0.0     76.101687  \n",
              "1062.0                  100.0     97.043929  \n",
              "2670.0                  100.0     77.444979  \n",
              "2805.0                  100.0     97.624553  \n",
              "3065.0                  100.0     94.496065  \n",
              "3257.0                  100.0     97.076082  \n",
              "3359.0                   98.0     94.475878  \n",
              "3372.0                   98.0     94.811293  \n",
              "3455.0                   83.0     96.929501  \n",
              "3571.0                  100.0     78.668834  \n",
              "3605.0                  100.0     95.672479  \n",
              "4303.0                  100.0     96.830449  \n",
              "5667.0                  100.0     97.342580  \n",
              "6244.0                  100.0     96.877937  \n",
              "11127.0                  98.0     96.751418  \n",
              "11919.0                 100.0     97.340530  \n",
              "12298.0                 100.0     96.832309  \n",
              "12711.0                  94.0     97.317019  \n",
              "12840.0                 100.0     95.406792  \n",
              "12863.0                 100.0     96.468152  \n",
              "13673.0                  98.0     96.358053  \n",
              "13674.0                  98.0     96.974467  \n",
              "13680.0                  98.0     96.607809  \n",
              "13713.0                  98.0     96.914384  \n",
              "14804.0                 100.0     93.094940  \n",
              "14918.0                  99.0     95.655713  \n",
              "15030.0                  65.0     76.153754  \n",
              "15092.0                  38.0     97.345534  \n",
              "15357.0                  99.0     95.694744  \n",
              "16016.0                 100.0     99.717702  \n",
              "16934.0                 100.0     96.383712  \n",
              "16935.0                 100.0     94.839061  \n",
              "17154.0                  44.0     78.545453  \n",
              "17251.0                  82.0     97.252244  \n",
              "18954.0                 100.0     97.307765  \n",
              "19583.0                 100.0     76.086758  \n",
              "19757.0                 100.0     95.475496  \n",
              "19920.0                 100.0     97.017904  \n",
              "20376.0                 100.0     96.210170  \n",
              "20856.0                 100.0     76.159009  \n",
              "20858.0                 100.0     95.212957  \n",
              "20864.0                 100.0     97.334109  \n",
              "22715.0                 100.0     76.145795  "
            ],
            "text/html": [
              "\n",
              "  <div id=\"df-2e6b7b86-6ba9-42f1-ac74-0a3eecf5803f\">\n",
              "    <div class=\"colab-df-container\">\n",
              "      <div>\n",
              "<style scoped>\n",
              "    .dataframe tbody tr th:only-of-type {\n",
              "        vertical-align: middle;\n",
              "    }\n",
              "\n",
              "    .dataframe tbody tr th {\n",
              "        vertical-align: top;\n",
              "    }\n",
              "\n",
              "    .dataframe thead th {\n",
              "        text-align: right;\n",
              "    }\n",
              "</style>\n",
              "<table border=\"1\" class=\"dataframe\">\n",
              "  <thead>\n",
              "    <tr style=\"text-align: right;\">\n",
              "      <th></th>\n",
              "      <th>host_response_rate</th>\n",
              "      <th>price</th>\n",
              "      <th>number_of_reviews</th>\n",
              "      <th>review_scores_rating</th>\n",
              "      <th>host_acceptance_rate</th>\n",
              "      <th>Predicciones</th>\n",
              "    </tr>\n",
              "  </thead>\n",
              "  <tbody>\n",
              "    <tr>\n",
              "      <th>21.0</th>\n",
              "      <td>100.0</td>\n",
              "      <td>1244.0</td>\n",
              "      <td>0.0</td>\n",
              "      <td>0.00</td>\n",
              "      <td>0.0</td>\n",
              "      <td>76.101687</td>\n",
              "    </tr>\n",
              "    <tr>\n",
              "      <th>1062.0</th>\n",
              "      <td>100.0</td>\n",
              "      <td>748.0</td>\n",
              "      <td>15.0</td>\n",
              "      <td>4.93</td>\n",
              "      <td>100.0</td>\n",
              "      <td>97.043929</td>\n",
              "    </tr>\n",
              "    <tr>\n",
              "      <th>2670.0</th>\n",
              "      <td>50.0</td>\n",
              "      <td>181.0</td>\n",
              "      <td>1.0</td>\n",
              "      <td>0.00</td>\n",
              "      <td>100.0</td>\n",
              "      <td>77.444979</td>\n",
              "    </tr>\n",
              "    <tr>\n",
              "      <th>2805.0</th>\n",
              "      <td>50.0</td>\n",
              "      <td>400.0</td>\n",
              "      <td>17.0</td>\n",
              "      <td>4.76</td>\n",
              "      <td>100.0</td>\n",
              "      <td>97.624553</td>\n",
              "    </tr>\n",
              "    <tr>\n",
              "      <th>3065.0</th>\n",
              "      <td>100.0</td>\n",
              "      <td>600.0</td>\n",
              "      <td>6.0</td>\n",
              "      <td>4.33</td>\n",
              "      <td>100.0</td>\n",
              "      <td>94.496065</td>\n",
              "    </tr>\n",
              "    <tr>\n",
              "      <th>3257.0</th>\n",
              "      <td>100.0</td>\n",
              "      <td>508.0</td>\n",
              "      <td>0.0</td>\n",
              "      <td>4.94</td>\n",
              "      <td>100.0</td>\n",
              "      <td>97.076082</td>\n",
              "    </tr>\n",
              "    <tr>\n",
              "      <th>3359.0</th>\n",
              "      <td>100.0</td>\n",
              "      <td>765.0</td>\n",
              "      <td>0.0</td>\n",
              "      <td>4.33</td>\n",
              "      <td>98.0</td>\n",
              "      <td>94.475878</td>\n",
              "    </tr>\n",
              "    <tr>\n",
              "      <th>3372.0</th>\n",
              "      <td>100.0</td>\n",
              "      <td>822.0</td>\n",
              "      <td>0.0</td>\n",
              "      <td>4.41</td>\n",
              "      <td>98.0</td>\n",
              "      <td>94.811293</td>\n",
              "    </tr>\n",
              "    <tr>\n",
              "      <th>3455.0</th>\n",
              "      <td>100.0</td>\n",
              "      <td>375.0</td>\n",
              "      <td>85.0</td>\n",
              "      <td>4.87</td>\n",
              "      <td>83.0</td>\n",
              "      <td>96.929501</td>\n",
              "    </tr>\n",
              "    <tr>\n",
              "      <th>3571.0</th>\n",
              "      <td>0.0</td>\n",
              "      <td>1000.0</td>\n",
              "      <td>0.0</td>\n",
              "      <td>0.00</td>\n",
              "      <td>100.0</td>\n",
              "      <td>78.668834</td>\n",
              "    </tr>\n",
              "    <tr>\n",
              "      <th>3605.0</th>\n",
              "      <td>100.0</td>\n",
              "      <td>27435.0</td>\n",
              "      <td>2.0</td>\n",
              "      <td>5.00</td>\n",
              "      <td>100.0</td>\n",
              "      <td>95.672479</td>\n",
              "    </tr>\n",
              "    <tr>\n",
              "      <th>4303.0</th>\n",
              "      <td>100.0</td>\n",
              "      <td>526.0</td>\n",
              "      <td>82.0</td>\n",
              "      <td>4.85</td>\n",
              "      <td>100.0</td>\n",
              "      <td>96.830449</td>\n",
              "    </tr>\n",
              "    <tr>\n",
              "      <th>5667.0</th>\n",
              "      <td>100.0</td>\n",
              "      <td>579.0</td>\n",
              "      <td>10.0</td>\n",
              "      <td>5.00</td>\n",
              "      <td>100.0</td>\n",
              "      <td>97.342580</td>\n",
              "    </tr>\n",
              "    <tr>\n",
              "      <th>6244.0</th>\n",
              "      <td>100.0</td>\n",
              "      <td>1757.0</td>\n",
              "      <td>29.0</td>\n",
              "      <td>4.90</td>\n",
              "      <td>100.0</td>\n",
              "      <td>96.877937</td>\n",
              "    </tr>\n",
              "    <tr>\n",
              "      <th>11127.0</th>\n",
              "      <td>100.0</td>\n",
              "      <td>320.0</td>\n",
              "      <td>27.0</td>\n",
              "      <td>4.85</td>\n",
              "      <td>98.0</td>\n",
              "      <td>96.751418</td>\n",
              "    </tr>\n",
              "    <tr>\n",
              "      <th>11919.0</th>\n",
              "      <td>100.0</td>\n",
              "      <td>450.0</td>\n",
              "      <td>4.0</td>\n",
              "      <td>5.00</td>\n",
              "      <td>100.0</td>\n",
              "      <td>97.340530</td>\n",
              "    </tr>\n",
              "    <tr>\n",
              "      <th>12298.0</th>\n",
              "      <td>100.0</td>\n",
              "      <td>339.0</td>\n",
              "      <td>0.0</td>\n",
              "      <td>4.88</td>\n",
              "      <td>100.0</td>\n",
              "      <td>96.832309</td>\n",
              "    </tr>\n",
              "    <tr>\n",
              "      <th>12711.0</th>\n",
              "      <td>100.0</td>\n",
              "      <td>750.0</td>\n",
              "      <td>1.0</td>\n",
              "      <td>5.00</td>\n",
              "      <td>94.0</td>\n",
              "      <td>97.317019</td>\n",
              "    </tr>\n",
              "    <tr>\n",
              "      <th>12840.0</th>\n",
              "      <td>100.0</td>\n",
              "      <td>1081.0</td>\n",
              "      <td>11.0</td>\n",
              "      <td>4.55</td>\n",
              "      <td>100.0</td>\n",
              "      <td>95.406792</td>\n",
              "    </tr>\n",
              "    <tr>\n",
              "      <th>12863.0</th>\n",
              "      <td>100.0</td>\n",
              "      <td>364.0</td>\n",
              "      <td>62.0</td>\n",
              "      <td>4.77</td>\n",
              "      <td>100.0</td>\n",
              "      <td>96.468152</td>\n",
              "    </tr>\n",
              "    <tr>\n",
              "      <th>13673.0</th>\n",
              "      <td>100.0</td>\n",
              "      <td>640.0</td>\n",
              "      <td>57.0</td>\n",
              "      <td>4.75</td>\n",
              "      <td>98.0</td>\n",
              "      <td>96.358053</td>\n",
              "    </tr>\n",
              "    <tr>\n",
              "      <th>13674.0</th>\n",
              "      <td>100.0</td>\n",
              "      <td>733.0</td>\n",
              "      <td>49.0</td>\n",
              "      <td>4.90</td>\n",
              "      <td>98.0</td>\n",
              "      <td>96.974467</td>\n",
              "    </tr>\n",
              "    <tr>\n",
              "      <th>13680.0</th>\n",
              "      <td>100.0</td>\n",
              "      <td>712.0</td>\n",
              "      <td>57.0</td>\n",
              "      <td>4.81</td>\n",
              "      <td>98.0</td>\n",
              "      <td>96.607809</td>\n",
              "    </tr>\n",
              "    <tr>\n",
              "      <th>13713.0</th>\n",
              "      <td>100.0</td>\n",
              "      <td>739.0</td>\n",
              "      <td>64.0</td>\n",
              "      <td>4.88</td>\n",
              "      <td>98.0</td>\n",
              "      <td>96.914384</td>\n",
              "    </tr>\n",
              "    <tr>\n",
              "      <th>14804.0</th>\n",
              "      <td>100.0</td>\n",
              "      <td>514.0</td>\n",
              "      <td>1.0</td>\n",
              "      <td>4.00</td>\n",
              "      <td>100.0</td>\n",
              "      <td>93.094940</td>\n",
              "    </tr>\n",
              "    <tr>\n",
              "      <th>14918.0</th>\n",
              "      <td>100.0</td>\n",
              "      <td>1491.0</td>\n",
              "      <td>23.0</td>\n",
              "      <td>4.61</td>\n",
              "      <td>99.0</td>\n",
              "      <td>95.655713</td>\n",
              "    </tr>\n",
              "    <tr>\n",
              "      <th>15030.0</th>\n",
              "      <td>100.0</td>\n",
              "      <td>400.0</td>\n",
              "      <td>0.0</td>\n",
              "      <td>0.00</td>\n",
              "      <td>65.0</td>\n",
              "      <td>76.153754</td>\n",
              "    </tr>\n",
              "    <tr>\n",
              "      <th>15092.0</th>\n",
              "      <td>100.0</td>\n",
              "      <td>450.0</td>\n",
              "      <td>7.0</td>\n",
              "      <td>5.00</td>\n",
              "      <td>38.0</td>\n",
              "      <td>97.345534</td>\n",
              "    </tr>\n",
              "    <tr>\n",
              "      <th>15357.0</th>\n",
              "      <td>100.0</td>\n",
              "      <td>1491.0</td>\n",
              "      <td>21.0</td>\n",
              "      <td>4.62</td>\n",
              "      <td>99.0</td>\n",
              "      <td>95.694744</td>\n",
              "    </tr>\n",
              "    <tr>\n",
              "      <th>16016.0</th>\n",
              "      <td>0.0</td>\n",
              "      <td>771.0</td>\n",
              "      <td>38.0</td>\n",
              "      <td>4.95</td>\n",
              "      <td>100.0</td>\n",
              "      <td>99.717702</td>\n",
              "    </tr>\n",
              "    <tr>\n",
              "      <th>16934.0</th>\n",
              "      <td>99.0</td>\n",
              "      <td>243.0</td>\n",
              "      <td>17.0</td>\n",
              "      <td>4.76</td>\n",
              "      <td>100.0</td>\n",
              "      <td>96.383712</td>\n",
              "    </tr>\n",
              "    <tr>\n",
              "      <th>16935.0</th>\n",
              "      <td>99.0</td>\n",
              "      <td>234.0</td>\n",
              "      <td>5.0</td>\n",
              "      <td>4.40</td>\n",
              "      <td>100.0</td>\n",
              "      <td>94.839061</td>\n",
              "    </tr>\n",
              "    <tr>\n",
              "      <th>17154.0</th>\n",
              "      <td>0.0</td>\n",
              "      <td>3000.0</td>\n",
              "      <td>0.0</td>\n",
              "      <td>0.00</td>\n",
              "      <td>44.0</td>\n",
              "      <td>78.545453</td>\n",
              "    </tr>\n",
              "    <tr>\n",
              "      <th>17251.0</th>\n",
              "      <td>100.0</td>\n",
              "      <td>1800.0</td>\n",
              "      <td>1.0</td>\n",
              "      <td>5.00</td>\n",
              "      <td>82.0</td>\n",
              "      <td>97.252244</td>\n",
              "    </tr>\n",
              "    <tr>\n",
              "      <th>18954.0</th>\n",
              "      <td>100.0</td>\n",
              "      <td>900.0</td>\n",
              "      <td>1.0</td>\n",
              "      <td>5.00</td>\n",
              "      <td>100.0</td>\n",
              "      <td>97.307765</td>\n",
              "    </tr>\n",
              "    <tr>\n",
              "      <th>19583.0</th>\n",
              "      <td>100.0</td>\n",
              "      <td>1486.0</td>\n",
              "      <td>0.0</td>\n",
              "      <td>0.00</td>\n",
              "      <td>100.0</td>\n",
              "      <td>76.086758</td>\n",
              "    </tr>\n",
              "    <tr>\n",
              "      <th>19757.0</th>\n",
              "      <td>100.0</td>\n",
              "      <td>600.0</td>\n",
              "      <td>9.0</td>\n",
              "      <td>4.56</td>\n",
              "      <td>100.0</td>\n",
              "      <td>95.475496</td>\n",
              "    </tr>\n",
              "    <tr>\n",
              "      <th>19920.0</th>\n",
              "      <td>100.0</td>\n",
              "      <td>402.0</td>\n",
              "      <td>12.0</td>\n",
              "      <td>4.92</td>\n",
              "      <td>100.0</td>\n",
              "      <td>97.017904</td>\n",
              "    </tr>\n",
              "    <tr>\n",
              "      <th>20376.0</th>\n",
              "      <td>90.0</td>\n",
              "      <td>220.0</td>\n",
              "      <td>3.0</td>\n",
              "      <td>4.67</td>\n",
              "      <td>100.0</td>\n",
              "      <td>96.210170</td>\n",
              "    </tr>\n",
              "    <tr>\n",
              "      <th>20856.0</th>\n",
              "      <td>100.0</td>\n",
              "      <td>450.0</td>\n",
              "      <td>5.0</td>\n",
              "      <td>0.00</td>\n",
              "      <td>100.0</td>\n",
              "      <td>76.159009</td>\n",
              "    </tr>\n",
              "    <tr>\n",
              "      <th>20858.0</th>\n",
              "      <td>100.0</td>\n",
              "      <td>600.0</td>\n",
              "      <td>4.0</td>\n",
              "      <td>4.50</td>\n",
              "      <td>100.0</td>\n",
              "      <td>95.212957</td>\n",
              "    </tr>\n",
              "    <tr>\n",
              "      <th>20864.0</th>\n",
              "      <td>100.0</td>\n",
              "      <td>500.0</td>\n",
              "      <td>2.0</td>\n",
              "      <td>5.00</td>\n",
              "      <td>100.0</td>\n",
              "      <td>97.334109</td>\n",
              "    </tr>\n",
              "    <tr>\n",
              "      <th>22715.0</th>\n",
              "      <td>100.0</td>\n",
              "      <td>529.0</td>\n",
              "      <td>0.0</td>\n",
              "      <td>0.00</td>\n",
              "      <td>100.0</td>\n",
              "      <td>76.145795</td>\n",
              "    </tr>\n",
              "  </tbody>\n",
              "</table>\n",
              "</div>\n",
              "      <button class=\"colab-df-convert\" onclick=\"convertToInteractive('df-2e6b7b86-6ba9-42f1-ac74-0a3eecf5803f')\"\n",
              "              title=\"Convert this dataframe to an interactive table.\"\n",
              "              style=\"display:none;\">\n",
              "        \n",
              "  <svg xmlns=\"http://www.w3.org/2000/svg\" height=\"24px\"viewBox=\"0 0 24 24\"\n",
              "       width=\"24px\">\n",
              "    <path d=\"M0 0h24v24H0V0z\" fill=\"none\"/>\n",
              "    <path d=\"M18.56 5.44l.94 2.06.94-2.06 2.06-.94-2.06-.94-.94-2.06-.94 2.06-2.06.94zm-11 1L8.5 8.5l.94-2.06 2.06-.94-2.06-.94L8.5 2.5l-.94 2.06-2.06.94zm10 10l.94 2.06.94-2.06 2.06-.94-2.06-.94-.94-2.06-.94 2.06-2.06.94z\"/><path d=\"M17.41 7.96l-1.37-1.37c-.4-.4-.92-.59-1.43-.59-.52 0-1.04.2-1.43.59L10.3 9.45l-7.72 7.72c-.78.78-.78 2.05 0 2.83L4 21.41c.39.39.9.59 1.41.59.51 0 1.02-.2 1.41-.59l7.78-7.78 2.81-2.81c.8-.78.8-2.07 0-2.86zM5.41 20L4 18.59l7.72-7.72 1.47 1.35L5.41 20z\"/>\n",
              "  </svg>\n",
              "      </button>\n",
              "      \n",
              "  <style>\n",
              "    .colab-df-container {\n",
              "      display:flex;\n",
              "      flex-wrap:wrap;\n",
              "      gap: 12px;\n",
              "    }\n",
              "\n",
              "    .colab-df-convert {\n",
              "      background-color: #E8F0FE;\n",
              "      border: none;\n",
              "      border-radius: 50%;\n",
              "      cursor: pointer;\n",
              "      display: none;\n",
              "      fill: #1967D2;\n",
              "      height: 32px;\n",
              "      padding: 0 0 0 0;\n",
              "      width: 32px;\n",
              "    }\n",
              "\n",
              "    .colab-df-convert:hover {\n",
              "      background-color: #E2EBFA;\n",
              "      box-shadow: 0px 1px 2px rgba(60, 64, 67, 0.3), 0px 1px 3px 1px rgba(60, 64, 67, 0.15);\n",
              "      fill: #174EA6;\n",
              "    }\n",
              "\n",
              "    [theme=dark] .colab-df-convert {\n",
              "      background-color: #3B4455;\n",
              "      fill: #D2E3FC;\n",
              "    }\n",
              "\n",
              "    [theme=dark] .colab-df-convert:hover {\n",
              "      background-color: #434B5C;\n",
              "      box-shadow: 0px 1px 3px 1px rgba(0, 0, 0, 0.15);\n",
              "      filter: drop-shadow(0px 1px 2px rgba(0, 0, 0, 0.3));\n",
              "      fill: #FFFFFF;\n",
              "    }\n",
              "  </style>\n",
              "\n",
              "      <script>\n",
              "        const buttonEl =\n",
              "          document.querySelector('#df-2e6b7b86-6ba9-42f1-ac74-0a3eecf5803f button.colab-df-convert');\n",
              "        buttonEl.style.display =\n",
              "          google.colab.kernel.accessAllowed ? 'block' : 'none';\n",
              "\n",
              "        async function convertToInteractive(key) {\n",
              "          const element = document.querySelector('#df-2e6b7b86-6ba9-42f1-ac74-0a3eecf5803f');\n",
              "          const dataTable =\n",
              "            await google.colab.kernel.invokeFunction('convertToInteractive',\n",
              "                                                     [key], {});\n",
              "          if (!dataTable) return;\n",
              "\n",
              "          const docLinkHtml = 'Like what you see? Visit the ' +\n",
              "            '<a target=\"_blank\" href=https://colab.research.google.com/notebooks/data_table.ipynb>data table notebook</a>'\n",
              "            + ' to learn more about interactive tables.';\n",
              "          element.innerHTML = '';\n",
              "          dataTable['output_type'] = 'display_data';\n",
              "          await google.colab.output.renderOutput(dataTable, element);\n",
              "          const docLink = document.createElement('div');\n",
              "          docLink.innerHTML = docLinkHtml;\n",
              "          element.appendChild(docLink);\n",
              "        }\n",
              "      </script>\n",
              "    </div>\n",
              "  </div>\n",
              "  "
            ]
          },
          "metadata": {},
          "execution_count": 161
        }
      ]
    },
    {
      "cell_type": "code",
      "source": [
        "#Visualizamos la gráfica comparativa entre el total real y el total predecido\n",
        "sns.scatterplot(x=x2.columns[0], y=y.columns[0], color=\"lightgreen\", data=data)\n",
        "sns.scatterplot(x=x2.columns[0], y='Predicciones', color=\"purple\", data=data)"
      ],
      "metadata": {
        "colab": {
          "base_uri": "https://localhost:8080/",
          "height": 466
        },
        "outputId": "87559c6f-f253-4358-dcae-b6c6485f54d2",
        "id": "n5stsB4TgBh1"
      },
      "execution_count": 162,
      "outputs": [
        {
          "output_type": "execute_result",
          "data": {
            "text/plain": [
              "<Axes: xlabel='price', ylabel='host_acceptance_rate'>"
            ]
          },
          "metadata": {},
          "execution_count": 162
        },
        {
          "output_type": "display_data",
          "data": {
            "text/plain": [
              "<Figure size 640x480 with 1 Axes>"
            ],
            "image/png": "[encoded data removed]"
          },
          "metadata": {}
        }
      ]
    },
    {
      "cell_type": "code",
      "source": [
        "y_e.append(y.columns[0])\n",
        "x1_e.append(x1.columns[0])\n",
        "x2_e.append(x2.columns[0])\n",
        "x3_e.append(x3.columns[0])\n",
        "x4_e.append(x4.columns[0])"
      ],
      "metadata": {
        "id": "lzqdf8DhgBh2"
      },
      "execution_count": 163,
      "outputs": []
    },
    {
      "cell_type": "code",
      "source": [
        "#Corroboramos cual es el coeficiente de Determinación de nuestro modelo\n",
        "coef_Deter=model.score(X=Vars_Indep, y=Var_Dep)\n",
        "deter_e.append(coef_Deter)\n",
        "coef_Deter"
      ],
      "metadata": {
        "colab": {
          "base_uri": "https://localhost:8080/"
        },
        "outputId": "53284661-0769-4316-b31c-6fb810bb734c",
        "id": "bhN4CJpSgBh2"
      },
      "execution_count": 164,
      "outputs": [
        {
          "output_type": "execute_result",
          "data": {
            "text/plain": [
              "0.15233340912743176"
            ]
          },
          "metadata": {},
          "execution_count": 164
        }
      ]
    },
    {
      "cell_type": "code",
      "source": [
        "#Corroboramos cual es el coeficiente de Correlación de nuestro modelo\n",
        "coef_Correl=np.sqrt(coef_Deter)\n",
        "corr_e.append(coef_Correl)\n",
        "coef_Correl"
      ],
      "metadata": {
        "colab": {
          "base_uri": "https://localhost:8080/"
        },
        "outputId": "773bb77c-d863-4346-c148-526f88ceaa04",
        "id": "lADBJXbBgBh3"
      },
      "execution_count": 165,
      "outputs": [
        {
          "output_type": "execute_result",
          "data": {
            "text/plain": [
              "0.39029912775643216"
            ]
          },
          "metadata": {},
          "execution_count": 165
        }
      ]
    },
    {
      "cell_type": "markdown",
      "source": [
        "###**Price vs availability_365, host_response_rate, number_of_reviews, accommodates**"
      ],
      "metadata": {
        "id": "mitGEo7ygBh4"
      }
    },
    {
      "cell_type": "code",
      "source": [
        "data = private"
      ],
      "metadata": {
        "id": "81kHMfDrgBh5"
      },
      "execution_count": 166,
      "outputs": []
    },
    {
      "cell_type": "code",
      "source": [
        "data['accommodates'] = data['accommodates'].astype(float)"
      ],
      "metadata": {
        "colab": {
          "base_uri": "https://localhost:8080/"
        },
        "outputId": "89a75f39-9574-49d7-e5b2-120e9c4a8457",
        "id": "mQ3GHLIAgBh6"
      },
      "execution_count": 167,
      "outputs": [
        {
          "output_type": "stream",
          "name": "stderr",
          "text": [
            "<ipython-input-167-0c4d7e569382>:1: SettingWithCopyWarning: \n",
            "A value is trying to be set on a copy of a slice from a DataFrame.\n",
            "Try using .loc[row_indexer,col_indexer] = value instead\n",
            "\n",
            "See the caveats in the documentation: https://pandas.pydata.org/pandas-docs/stable/user_guide/indexing.html#returning-a-view-versus-a-copy\n",
            "  data['accommodates'] = data['accommodates'].astype(float)\n"
          ]
        }
      ]
    },
    {
      "cell_type": "code",
      "source": [
        "y = data[['price']]\n",
        "x1 = data[['availability_365']]\n",
        "x2 = data[['host_response_rate']]\n",
        "x3 = data[['number_of_reviews']]\n",
        "x4 = data[['accommodates']]"
      ],
      "metadata": {
        "id": "6s3-M4MggBh6"
      },
      "execution_count": 168,
      "outputs": []
    },
    {
      "cell_type": "code",
      "source": [
        "from turtle import color\n",
        "sns.scatterplot(x= x1.columns[0], y=y.columns[0], color=\"lightblue\", data=data)\n",
        "sns.scatterplot(x=x2.columns[0], y=y.columns[0], color=\"lightgreen\", data=data)\n",
        "sns.scatterplot(x=x3.columns[0], y=y.columns[0], color=\"pink\", data=data)\n",
        "sns.scatterplot(x=x4.columns[0], y=y.columns[0], color=\"orange\", data=data)"
      ],
      "metadata": {
        "colab": {
          "base_uri": "https://localhost:8080/",
          "height": 467
        },
        "outputId": "54d036f8-dada-4b89-f496-7ae9a014ebdb",
        "id": "38BTYXOIgBh7"
      },
      "execution_count": 169,
      "outputs": [
        {
          "output_type": "execute_result",
          "data": {
            "text/plain": [
              "<Axes: xlabel='availability_365', ylabel='price'>"
            ]
          },
          "metadata": {},
          "execution_count": 169
        },
        {
          "output_type": "display_data",
          "data": {
            "text/plain": [
              "<Figure size 640x480 with 1 Axes>"
            ],
            "image/png": "[encoded data removed]"
          },
          "metadata": {}
        }
      ]
    },
    {
      "cell_type": "code",
      "source": [
        "#Declaramos las variables dependientes e independientes para la regresión lineal\n",
        "Vars_Indep= data[[x1.columns[0],x2.columns[0],x3.columns[0],x4.columns[0]]]\n",
        "Var_Dep= y"
      ],
      "metadata": {
        "id": "jSxaDZWSgBh7"
      },
      "execution_count": 170,
      "outputs": []
    },
    {
      "cell_type": "code",
      "source": [
        "#Se define model como la función de regresión lineal\n",
        "from sklearn.linear_model import LinearRegression\n",
        "model= LinearRegression()"
      ],
      "metadata": {
        "id": "Fb2s7rkXgBh8"
      },
      "execution_count": 171,
      "outputs": []
    },
    {
      "cell_type": "code",
      "source": [
        "#Verificamos la función relacionada al modelo\n",
        "type(model)"
      ],
      "metadata": {
        "colab": {
          "base_uri": "https://localhost:8080/"
        },
        "outputId": "78dd3fa6-d8dc-4d34-c5c4-569a171d17df",
        "id": "2bCANoqvgBh8"
      },
      "execution_count": 172,
      "outputs": [
        {
          "output_type": "execute_result",
          "data": {
            "text/plain": [
              "sklearn.linear_model._base.LinearRegression"
            ]
          },
          "metadata": {},
          "execution_count": 172
        }
      ]
    },
    {
      "cell_type": "code",
      "source": [
        "#Ajustamos el modelo con las variables antes declaradas\n",
        "model.fit(X=Vars_Indep, y=Var_Dep)"
      ],
      "metadata": {
        "colab": {
          "base_uri": "https://localhost:8080/",
          "height": 74
        },
        "outputId": "fe99617a-c685-48c6-fb6f-85550a825609",
        "id": "y3y4kRzDgBh9"
      },
      "execution_count": 173,
      "outputs": [
        {
          "output_type": "execute_result",
          "data": {
            "text/plain": [
              "LinearRegression()"
            ],
            "text/html": [
              "<style>#sk-container-id-8 {color: black;background-color: white;}#sk-container-id-8 pre{padding: 0;}#sk-container-id-8 div.sk-toggleable {background-color: white;}#sk-container-id-8 label.sk-toggleable__label {cursor: pointer;display: block;width: 100%;margin-bottom: 0;padding: 0.3em;box-sizing: border-box;text-align: center;}#sk-container-id-8 label.sk-toggleable__label-arrow:before {content: \"▸\";float: left;margin-right: 0.25em;color: #696969;}#sk-container-id-8 label.sk-toggleable__label-arrow:hover:before {color: black;}#sk-container-id-8 div.sk-estimator:hover label.sk-toggleable__label-arrow:before {color: black;}#sk-container-id-8 div.sk-toggleable__content {max-height: 0;max-width: 0;overflow: hidden;text-align: left;background-color: #f0f8ff;}#sk-container-id-8 div.sk-toggleable__content pre {margin: 0.2em;color: black;border-radius: 0.25em;background-color: #f0f8ff;}#sk-container-id-8 input.sk-toggleable__control:checked~div.sk-toggleable__content {max-height: 200px;max-width: 100%;overflow: auto;}#sk-container-id-8 input.sk-toggleable__control:checked~label.sk-toggleable__label-arrow:before {content: \"▾\";}#sk-container-id-8 div.sk-estimator input.sk-toggleable__control:checked~label.sk-toggleable__label {background-color: #d4ebff;}#sk-container-id-8 div.sk-label input.sk-toggleable__control:checked~label.sk-toggleable__label {background-color: #d4ebff;}#sk-container-id-8 input.sk-hidden--visually {border: 0;clip: rect(1px 1px 1px 1px);clip: rect(1px, 1px, 1px, 1px);height: 1px;margin: -1px;overflow: hidden;padding: 0;position: absolute;width: 1px;}#sk-container-id-8 div.sk-estimator {font-family: monospace;background-color: #f0f8ff;border: 1px dotted black;border-radius: 0.25em;box-sizing: border-box;margin-bottom: 0.5em;}#sk-container-id-8 div.sk-estimator:hover {background-color: #d4ebff;}#sk-container-id-8 div.sk-parallel-item::after {content: \"\";width: 100%;border-bottom: 1px solid gray;flex-grow: 1;}#sk-container-id-8 div.sk-label:hover label.sk-toggleable__label {background-color: #d4ebff;}#sk-container-id-8 div.sk-serial::before {content: \"\";position: absolute;border-left: 1px solid gray;box-sizing: border-box;top: 0;bottom: 0;left: 50%;z-index: 0;}#sk-container-id-8 div.sk-serial {display: flex;flex-direction: column;align-items: center;background-color: white;padding-right: 0.2em;padding-left: 0.2em;position: relative;}#sk-container-id-8 div.sk-item {position: relative;z-index: 1;}#sk-container-id-8 div.sk-parallel {display: flex;align-items: stretch;justify-content: center;background-color: white;position: relative;}#sk-container-id-8 div.sk-item::before, #sk-container-id-8 div.sk-parallel-item::before {content: \"\";position: absolute;border-left: 1px solid gray;box-sizing: border-box;top: 0;bottom: 0;left: 50%;z-index: -1;}#sk-container-id-8 div.sk-parallel-item {display: flex;flex-direction: column;z-index: 1;position: relative;background-color: white;}#sk-container-id-8 div.sk-parallel-item:first-child::after {align-self: flex-end;width: 50%;}#sk-container-id-8 div.sk-parallel-item:last-child::after {align-self: flex-start;width: 50%;}#sk-container-id-8 div.sk-parallel-item:only-child::after {width: 0;}#sk-container-id-8 div.sk-dashed-wrapped {border: 1px dashed gray;margin: 0 0.4em 0.5em 0.4em;box-sizing: border-box;padding-bottom: 0.4em;background-color: white;}#sk-container-id-8 div.sk-label label {font-family: monospace;font-weight: bold;display: inline-block;line-height: 1.2em;}#sk-container-id-8 div.sk-label-container {text-align: center;}#sk-container-id-8 div.sk-container {/* jupyter's `normalize.less` sets `[hidden] { display: none; }` but bootstrap.min.css set `[hidden] { display: none !important; }` so we also need the `!important` here to be able to override the default hidden behavior on the sphinx rendered scikit-learn.org. See: https://github.com/scikit-learn/scikit-learn/issues/21755 */display: inline-block !important;position: relative;}#sk-container-id-8 div.sk-text-repr-fallback {display: none;}</style><div id=\"sk-container-id-8\" class=\"sk-top-container\"><div class=\"sk-text-repr-fallback\"><pre>LinearRegression()</pre><b>In a Jupyter environment, please rerun this cell to show the HTML representation or trust the notebook. <br />On GitHub, the HTML representation is unable to render, please try loading this page with nbviewer.org.</b></div><div class=\"sk-container\" hidden><div class=\"sk-item\"><div class=\"sk-estimator sk-toggleable\"><input class=\"sk-toggleable__control sk-hidden--visually\" id=\"sk-estimator-id-8\" type=\"checkbox\" checked><label for=\"sk-estimator-id-8\" class=\"sk-toggleable__label sk-toggleable__label-arrow\">LinearRegression</label><div class=\"sk-toggleable__content\"><pre>LinearRegression()</pre></div></div></div></div></div>"
            ]
          },
          "metadata": {},
          "execution_count": 173
        }
      ]
    },
    {
      "cell_type": "code",
      "source": [
        "#Verificamos los coeficientes obtenidos para el modelo ajustado\n",
        "model.__dict__"
      ],
      "metadata": {
        "colab": {
          "base_uri": "https://localhost:8080/"
        },
        "outputId": "8504a834-8809-4529-934a-194389b54374",
        "id": "ZkM1mB74gBh9"
      },
      "execution_count": 174,
      "outputs": [
        {
          "output_type": "execute_result",
          "data": {
            "text/plain": [
              "{'fit_intercept': True,\n",
              " 'copy_X': True,\n",
              " 'n_jobs': None,\n",
              " 'positive': False,\n",
              " 'feature_names_in_': array(['availability_365', 'host_response_rate', 'number_of_reviews',\n",
              "        'accommodates'], dtype=object),\n",
              " 'n_features_in_': 4,\n",
              " 'coef_': array([[    3.6362161 ,    -3.47218902,    -6.10765898, -2551.57008121]]),\n",
              " 'rank_': 4,\n",
              " 'singular_': array([865.03529277, 177.25724314, 147.35560219,   3.89381311]),\n",
              " 'intercept_': array([5173.27680266])}"
            ]
          },
          "metadata": {},
          "execution_count": 174
        }
      ]
    },
    {
      "cell_type": "markdown",
      "source": [
        "####**Modelo matemático**\n",
        "\n",
        "Modelo matemático: y=  3.6362161x1 +   -3.47218902x2 +    -6.10765898x3 + -2551.57008121x4 + 5173.27680266"
      ],
      "metadata": {
        "id": "VnNZshi9gBh9"
      }
    },
    {
      "cell_type": "code",
      "source": [
        "#Predecimos los valores de total de accidentes a partir de las variables: \"alcohol\", \"speeding\" y \"no_previous\"\n",
        "y_pred= model.predict(X=data[[x1.columns[0],x2.columns[0],x3.columns[0],x4.columns[0]]])\n",
        "y_pred"
      ],
      "metadata": {
        "colab": {
          "base_uri": "https://localhost:8080/"
        },
        "outputId": "eacb389d-1d39-467a-ad51-f9f25d6e841e",
        "id": "6SkuXoL9gBh-"
      },
      "execution_count": 175,
      "outputs": [
        {
          "output_type": "execute_result",
          "data": {
            "text/plain": [
              "array([[   42.90475492],\n",
              "       [  958.52172854],\n",
              "       [ 3743.7549737 ],\n",
              "       [ -109.12517875],\n",
              "       [ -313.72821536],\n",
              "       [  748.33067738],\n",
              "       [   35.63232273],\n",
              "       [   50.17718711],\n",
              "       [ -708.96408874],\n",
              "       [  721.01932129],\n",
              "       [ 6133.78902554],\n",
              "       [  509.31019962],\n",
              "       [ 2747.93499591],\n",
              "       [ 4965.28659073],\n",
              "       [ -169.27284686],\n",
              "       [ 2897.30364876],\n",
              "       [  882.87067291],\n",
              "       [ 1044.0289543 ],\n",
              "       [ 3218.1716454 ],\n",
              "       [ 3132.12643516],\n",
              "       [ -305.23180712],\n",
              "       [ -252.73431916],\n",
              "       [ -305.23180712],\n",
              "       [ -340.71298781],\n",
              "       [ 3577.41795503],\n",
              "       [  869.66207963],\n",
              "       [ 3601.70669449],\n",
              "       [ 3548.04443332],\n",
              "       [  860.06010102],\n",
              "       [  747.09962269],\n",
              "       [ 2490.48060633],\n",
              "       [ 2567.40873022],\n",
              "       [ 1397.35551499],\n",
              "       [  705.86085745],\n",
              "       [ 3595.59903551],\n",
              "       [-1646.88211173],\n",
              "       [  976.98660196],\n",
              "       [  965.9360572 ],\n",
              "       [ 3549.0175019 ],\n",
              "       [  -63.994078  ],\n",
              "       [ 1018.43354516],\n",
              "       [   12.50835647],\n",
              "       [ 1050.13661328]])"
            ]
          },
          "metadata": {},
          "execution_count": 175
        }
      ]
    },
    {
      "cell_type": "code",
      "source": [
        "#Insertamos la columna de predicciones en el DataFrame\n",
        "data['Predicciones']= y_pred\n",
        "data[[x1.columns[0],x2.columns[0],x3.columns[0],x4.columns[0],y.columns[0],'Predicciones']]\n"
      ],
      "metadata": {
        "colab": {
          "base_uri": "https://localhost:8080/",
          "height": 1000
        },
        "outputId": "d3f033cb-6bef-41d4-d14c-3fa339dea3ec",
        "id": "EgAsibE6gBh-"
      },
      "execution_count": 176,
      "outputs": [
        {
          "output_type": "stream",
          "name": "stderr",
          "text": [
            "<ipython-input-176-9a0fc1fe72ec>:2: SettingWithCopyWarning: \n",
            "A value is trying to be set on a copy of a slice from a DataFrame.\n",
            "Try using .loc[row_indexer,col_indexer] = value instead\n",
            "\n",
            "See the caveats in the documentation: https://pandas.pydata.org/pandas-docs/stable/user_guide/indexing.html#returning-a-view-versus-a-copy\n",
            "  data['Predicciones']= y_pred\n"
          ]
        },
        {
          "output_type": "execute_result",
          "data": {
            "text/plain": [
              "         availability_365  host_response_rate  number_of_reviews  \\\n",
              "21.0                 88.0               100.0                0.0   \n",
              "1062.0              365.0               100.0               15.0   \n",
              "2670.0              358.0                50.0                1.0   \n",
              "2805.0               27.0                50.0               17.0   \n",
              "3065.0                0.0               100.0                6.0   \n",
              "3257.0              282.0               100.0                0.0   \n",
              "3359.0               86.0               100.0                0.0   \n",
              "3372.0               90.0               100.0                0.0   \n",
              "3455.0               24.0               100.0               85.0   \n",
              "3571.0              179.0                 0.0                0.0   \n",
              "3605.0              363.0               100.0                2.0   \n",
              "4303.0              354.0               100.0               82.0   \n",
              "5667.0              147.0               100.0               10.0   \n",
              "6244.0               87.0               100.0               29.0   \n",
              "11127.0              75.0               100.0               27.0   \n",
              "11919.0             178.0               100.0                4.0   \n",
              "12298.0             319.0               100.0                0.0   \n",
              "12711.0             365.0               100.0                1.0   \n",
              "12840.0             278.0               100.0               11.0   \n",
              "12863.0             340.0               100.0               62.0   \n",
              "13673.0              88.0               100.0               57.0   \n",
              "13674.0              89.0               100.0               49.0   \n",
              "13680.0              88.0               100.0               57.0   \n",
              "13713.0              90.0               100.0               64.0   \n",
              "14804.0             360.0               100.0                1.0   \n",
              "14918.0             354.0               100.0               23.0   \n",
              "15030.0             365.0               100.0                0.0   \n",
              "15092.0             362.0               100.0                7.0   \n",
              "15357.0             348.0               100.0               21.0   \n",
              "16016.0             250.0                 0.0               38.0   \n",
              "16934.0              87.0                99.0               17.0   \n",
              "16935.0              88.0                99.0                5.0   \n",
              "17154.0             365.0                 0.0                0.0   \n",
              "17251.0             272.0               100.0                1.0   \n",
              "18954.0             365.0               100.0                1.0   \n",
              "19583.0             325.0               100.0                0.0   \n",
              "19757.0             360.0               100.0                9.0   \n",
              "19920.0             362.0               100.0               12.0   \n",
              "20376.0             346.0                90.0                3.0   \n",
              "20856.0              67.0               100.0                5.0   \n",
              "20858.0             363.0               100.0                4.0   \n",
              "20864.0              83.0               100.0                2.0   \n",
              "22715.0             365.0               100.0                0.0   \n",
              "\n",
              "         accommodates    price  Predicciones  \n",
              "21.0              2.0   1244.0     42.904755  \n",
              "1062.0            2.0    748.0    958.521729  \n",
              "2670.0            1.0    181.0   3743.754974  \n",
              "2805.0            2.0    400.0   -109.125179  \n",
              "3065.0            2.0    600.0   -313.728215  \n",
              "3257.0            2.0    508.0    748.330677  \n",
              "3359.0            2.0    765.0     35.632323  \n",
              "3372.0            2.0    822.0     50.177187  \n",
              "3455.0            2.0    375.0   -708.964089  \n",
              "3571.0            2.0   1000.0    721.019321  \n",
              "3605.0            0.0  27435.0   6133.789026  \n",
              "4303.0            2.0    526.0    509.310200  \n",
              "5667.0            1.0    579.0   2747.934996  \n",
              "6244.0            0.0   1757.0   4965.286591  \n",
              "11127.0           2.0    320.0   -169.272847  \n",
              "11919.0           1.0    450.0   2897.303649  \n",
              "12298.0           2.0    339.0    882.870673  \n",
              "12711.0           2.0    750.0   1044.028954  \n",
              "12840.0           1.0   1081.0   3218.171645  \n",
              "12863.0           1.0    364.0   3132.126435  \n",
              "13673.0           2.0    640.0   -305.231807  \n",
              "13674.0           2.0    733.0   -252.734319  \n",
              "13680.0           2.0    712.0   -305.231807  \n",
              "13713.0           2.0    739.0   -340.712988  \n",
              "14804.0           1.0    514.0   3577.417955  \n",
              "14918.0           2.0   1491.0    869.662080  \n",
              "15030.0           1.0    400.0   3601.706694  \n",
              "15092.0           1.0    450.0   3548.044433  \n",
              "15357.0           2.0   1491.0    860.060101  \n",
              "16016.0           2.0    771.0    747.099623  \n",
              "16934.0           1.0    243.0   2490.480606  \n",
              "16935.0           1.0    234.0   2567.408730  \n",
              "17154.0           2.0   3000.0   1397.355515  \n",
              "17251.0           2.0   1800.0    705.860857  \n",
              "18954.0           1.0    900.0   3595.599036  \n",
              "19583.0           3.0   1486.0  -1646.882112  \n",
              "19757.0           2.0    600.0    976.986602  \n",
              "19920.0           2.0    402.0    965.936057  \n",
              "20376.0           1.0    220.0   3549.017502  \n",
              "20856.0           2.0    450.0    -63.994078  \n",
              "20858.0           2.0    600.0   1018.433545  \n",
              "20864.0           2.0    500.0     12.508356  \n",
              "22715.0           2.0    529.0   1050.136613  "
            ],
            "text/html": [
              "\n",
              "  <div id=\"df-c6111ae1-2688-40a2-9aac-f4f264047058\">\n",
              "    <div class=\"colab-df-container\">\n",
              "      <div>\n",
              "<style scoped>\n",
              "    .dataframe tbody tr th:only-of-type {\n",
              "        vertical-align: middle;\n",
              "    }\n",
              "\n",
              "    .dataframe tbody tr th {\n",
              "        vertical-align: top;\n",
              "    }\n",
              "\n",
              "    .dataframe thead th {\n",
              "        text-align: right;\n",
              "    }\n",
              "</style>\n",
              "<table border=\"1\" class=\"dataframe\">\n",
              "  <thead>\n",
              "    <tr style=\"text-align: right;\">\n",
              "      <th></th>\n",
              "      <th>availability_365</th>\n",
              "      <th>host_response_rate</th>\n",
              "      <th>number_of_reviews</th>\n",
              "      <th>accommodates</th>\n",
              "      <th>price</th>\n",
              "      <th>Predicciones</th>\n",
              "    </tr>\n",
              "  </thead>\n",
              "  <tbody>\n",
              "    <tr>\n",
              "      <th>21.0</th>\n",
              "      <td>88.0</td>\n",
              "      <td>100.0</td>\n",
              "      <td>0.0</td>\n",
              "      <td>2.0</td>\n",
              "      <td>1244.0</td>\n",
              "      <td>42.904755</td>\n",
              "    </tr>\n",
              "    <tr>\n",
              "      <th>1062.0</th>\n",
              "      <td>365.0</td>\n",
              "      <td>100.0</td>\n",
              "      <td>15.0</td>\n",
              "      <td>2.0</td>\n",
              "      <td>748.0</td>\n",
              "      <td>958.521729</td>\n",
              "    </tr>\n",
              "    <tr>\n",
              "      <th>2670.0</th>\n",
              "      <td>358.0</td>\n",
              "      <td>50.0</td>\n",
              "      <td>1.0</td>\n",
              "      <td>1.0</td>\n",
              "      <td>181.0</td>\n",
              "      <td>3743.754974</td>\n",
              "    </tr>\n",
              "    <tr>\n",
              "      <th>2805.0</th>\n",
              "      <td>27.0</td>\n",
              "      <td>50.0</td>\n",
              "      <td>17.0</td>\n",
              "      <td>2.0</td>\n",
              "      <td>400.0</td>\n",
              "      <td>-109.125179</td>\n",
              "    </tr>\n",
              "    <tr>\n",
              "      <th>3065.0</th>\n",
              "      <td>0.0</td>\n",
              "      <td>100.0</td>\n",
              "      <td>6.0</td>\n",
              "      <td>2.0</td>\n",
              "      <td>600.0</td>\n",
              "      <td>-313.728215</td>\n",
              "    </tr>\n",
              "    <tr>\n",
              "      <th>3257.0</th>\n",
              "      <td>282.0</td>\n",
              "      <td>100.0</td>\n",
              "      <td>0.0</td>\n",
              "      <td>2.0</td>\n",
              "      <td>508.0</td>\n",
              "      <td>748.330677</td>\n",
              "    </tr>\n",
              "    <tr>\n",
              "      <th>3359.0</th>\n",
              "      <td>86.0</td>\n",
              "      <td>100.0</td>\n",
              "      <td>0.0</td>\n",
              "      <td>2.0</td>\n",
              "      <td>765.0</td>\n",
              "      <td>35.632323</td>\n",
              "    </tr>\n",
              "    <tr>\n",
              "      <th>3372.0</th>\n",
              "      <td>90.0</td>\n",
              "      <td>100.0</td>\n",
              "      <td>0.0</td>\n",
              "      <td>2.0</td>\n",
              "      <td>822.0</td>\n",
              "      <td>50.177187</td>\n",
              "    </tr>\n",
              "    <tr>\n",
              "      <th>3455.0</th>\n",
              "      <td>24.0</td>\n",
              "      <td>100.0</td>\n",
              "      <td>85.0</td>\n",
              "      <td>2.0</td>\n",
              "      <td>375.0</td>\n",
              "      <td>-708.964089</td>\n",
              "    </tr>\n",
              "    <tr>\n",
              "      <th>3571.0</th>\n",
              "      <td>179.0</td>\n",
              "      <td>0.0</td>\n",
              "      <td>0.0</td>\n",
              "      <td>2.0</td>\n",
              "      <td>1000.0</td>\n",
              "      <td>721.019321</td>\n",
              "    </tr>\n",
              "    <tr>\n",
              "      <th>3605.0</th>\n",
              "      <td>363.0</td>\n",
              "      <td>100.0</td>\n",
              "      <td>2.0</td>\n",
              "      <td>0.0</td>\n",
              "      <td>27435.0</td>\n",
              "      <td>6133.789026</td>\n",
              "    </tr>\n",
              "    <tr>\n",
              "      <th>4303.0</th>\n",
              "      <td>354.0</td>\n",
              "      <td>100.0</td>\n",
              "      <td>82.0</td>\n",
              "      <td>2.0</td>\n",
              "      <td>526.0</td>\n",
              "      <td>509.310200</td>\n",
              "    </tr>\n",
              "    <tr>\n",
              "      <th>5667.0</th>\n",
              "      <td>147.0</td>\n",
              "      <td>100.0</td>\n",
              "      <td>10.0</td>\n",
              "      <td>1.0</td>\n",
              "      <td>579.0</td>\n",
              "      <td>2747.934996</td>\n",
              "    </tr>\n",
              "    <tr>\n",
              "      <th>6244.0</th>\n",
              "      <td>87.0</td>\n",
              "      <td>100.0</td>\n",
              "      <td>29.0</td>\n",
              "      <td>0.0</td>\n",
              "      <td>1757.0</td>\n",
              "      <td>4965.286591</td>\n",
              "    </tr>\n",
              "    <tr>\n",
              "      <th>11127.0</th>\n",
              "      <td>75.0</td>\n",
              "      <td>100.0</td>\n",
              "      <td>27.0</td>\n",
              "      <td>2.0</td>\n",
              "      <td>320.0</td>\n",
              "      <td>-169.272847</td>\n",
              "    </tr>\n",
              "    <tr>\n",
              "      <th>11919.0</th>\n",
              "      <td>178.0</td>\n",
              "      <td>100.0</td>\n",
              "      <td>4.0</td>\n",
              "      <td>1.0</td>\n",
              "      <td>450.0</td>\n",
              "      <td>2897.303649</td>\n",
              "    </tr>\n",
              "    <tr>\n",
              "      <th>12298.0</th>\n",
              "      <td>319.0</td>\n",
              "      <td>100.0</td>\n",
              "      <td>0.0</td>\n",
              "      <td>2.0</td>\n",
              "      <td>339.0</td>\n",
              "      <td>882.870673</td>\n",
              "    </tr>\n",
              "    <tr>\n",
              "      <th>12711.0</th>\n",
              "      <td>365.0</td>\n",
              "      <td>100.0</td>\n",
              "      <td>1.0</td>\n",
              "      <td>2.0</td>\n",
              "      <td>750.0</td>\n",
              "      <td>1044.028954</td>\n",
              "    </tr>\n",
              "    <tr>\n",
              "      <th>12840.0</th>\n",
              "      <td>278.0</td>\n",
              "      <td>100.0</td>\n",
              "      <td>11.0</td>\n",
              "      <td>1.0</td>\n",
              "      <td>1081.0</td>\n",
              "      <td>3218.171645</td>\n",
              "    </tr>\n",
              "    <tr>\n",
              "      <th>12863.0</th>\n",
              "      <td>340.0</td>\n",
              "      <td>100.0</td>\n",
              "      <td>62.0</td>\n",
              "      <td>1.0</td>\n",
              "      <td>364.0</td>\n",
              "      <td>3132.126435</td>\n",
              "    </tr>\n",
              "    <tr>\n",
              "      <th>13673.0</th>\n",
              "      <td>88.0</td>\n",
              "      <td>100.0</td>\n",
              "      <td>57.0</td>\n",
              "      <td>2.0</td>\n",
              "      <td>640.0</td>\n",
              "      <td>-305.231807</td>\n",
              "    </tr>\n",
              "    <tr>\n",
              "      <th>13674.0</th>\n",
              "      <td>89.0</td>\n",
              "      <td>100.0</td>\n",
              "      <td>49.0</td>\n",
              "      <td>2.0</td>\n",
              "      <td>733.0</td>\n",
              "      <td>-252.734319</td>\n",
              "    </tr>\n",
              "    <tr>\n",
              "      <th>13680.0</th>\n",
              "      <td>88.0</td>\n",
              "      <td>100.0</td>\n",
              "      <td>57.0</td>\n",
              "      <td>2.0</td>\n",
              "      <td>712.0</td>\n",
              "      <td>-305.231807</td>\n",
              "    </tr>\n",
              "    <tr>\n",
              "      <th>13713.0</th>\n",
              "      <td>90.0</td>\n",
              "      <td>100.0</td>\n",
              "      <td>64.0</td>\n",
              "      <td>2.0</td>\n",
              "      <td>739.0</td>\n",
              "      <td>-340.712988</td>\n",
              "    </tr>\n",
              "    <tr>\n",
              "      <th>14804.0</th>\n",
              "      <td>360.0</td>\n",
              "      <td>100.0</td>\n",
              "      <td>1.0</td>\n",
              "      <td>1.0</td>\n",
              "      <td>514.0</td>\n",
              "      <td>3577.417955</td>\n",
              "    </tr>\n",
              "    <tr>\n",
              "      <th>14918.0</th>\n",
              "      <td>354.0</td>\n",
              "      <td>100.0</td>\n",
              "      <td>23.0</td>\n",
              "      <td>2.0</td>\n",
              "      <td>1491.0</td>\n",
              "      <td>869.662080</td>\n",
              "    </tr>\n",
              "    <tr>\n",
              "      <th>15030.0</th>\n",
              "      <td>365.0</td>\n",
              "      <td>100.0</td>\n",
              "      <td>0.0</td>\n",
              "      <td>1.0</td>\n",
              "      <td>400.0</td>\n",
              "      <td>3601.706694</td>\n",
              "    </tr>\n",
              "    <tr>\n",
              "      <th>15092.0</th>\n",
              "      <td>362.0</td>\n",
              "      <td>100.0</td>\n",
              "      <td>7.0</td>\n",
              "      <td>1.0</td>\n",
              "      <td>450.0</td>\n",
              "      <td>3548.044433</td>\n",
              "    </tr>\n",
              "    <tr>\n",
              "      <th>15357.0</th>\n",
              "      <td>348.0</td>\n",
              "      <td>100.0</td>\n",
              "      <td>21.0</td>\n",
              "      <td>2.0</td>\n",
              "      <td>1491.0</td>\n",
              "      <td>860.060101</td>\n",
              "    </tr>\n",
              "    <tr>\n",
              "      <th>16016.0</th>\n",
              "      <td>250.0</td>\n",
              "      <td>0.0</td>\n",
              "      <td>38.0</td>\n",
              "      <td>2.0</td>\n",
              "      <td>771.0</td>\n",
              "      <td>747.099623</td>\n",
              "    </tr>\n",
              "    <tr>\n",
              "      <th>16934.0</th>\n",
              "      <td>87.0</td>\n",
              "      <td>99.0</td>\n",
              "      <td>17.0</td>\n",
              "      <td>1.0</td>\n",
              "      <td>243.0</td>\n",
              "      <td>2490.480606</td>\n",
              "    </tr>\n",
              "    <tr>\n",
              "      <th>16935.0</th>\n",
              "      <td>88.0</td>\n",
              "      <td>99.0</td>\n",
              "      <td>5.0</td>\n",
              "      <td>1.0</td>\n",
              "      <td>234.0</td>\n",
              "      <td>2567.408730</td>\n",
              "    </tr>\n",
              "    <tr>\n",
              "      <th>17154.0</th>\n",
              "      <td>365.0</td>\n",
              "      <td>0.0</td>\n",
              "      <td>0.0</td>\n",
              "      <td>2.0</td>\n",
              "      <td>3000.0</td>\n",
              "      <td>1397.355515</td>\n",
              "    </tr>\n",
              "    <tr>\n",
              "      <th>17251.0</th>\n",
              "      <td>272.0</td>\n",
              "      <td>100.0</td>\n",
              "      <td>1.0</td>\n",
              "      <td>2.0</td>\n",
              "      <td>1800.0</td>\n",
              "      <td>705.860857</td>\n",
              "    </tr>\n",
              "    <tr>\n",
              "      <th>18954.0</th>\n",
              "      <td>365.0</td>\n",
              "      <td>100.0</td>\n",
              "      <td>1.0</td>\n",
              "      <td>1.0</td>\n",
              "      <td>900.0</td>\n",
              "      <td>3595.599036</td>\n",
              "    </tr>\n",
              "    <tr>\n",
              "      <th>19583.0</th>\n",
              "      <td>325.0</td>\n",
              "      <td>100.0</td>\n",
              "      <td>0.0</td>\n",
              "      <td>3.0</td>\n",
              "      <td>1486.0</td>\n",
              "      <td>-1646.882112</td>\n",
              "    </tr>\n",
              "    <tr>\n",
              "      <th>19757.0</th>\n",
              "      <td>360.0</td>\n",
              "      <td>100.0</td>\n",
              "      <td>9.0</td>\n",
              "      <td>2.0</td>\n",
              "      <td>600.0</td>\n",
              "      <td>976.986602</td>\n",
              "    </tr>\n",
              "    <tr>\n",
              "      <th>19920.0</th>\n",
              "      <td>362.0</td>\n",
              "      <td>100.0</td>\n",
              "      <td>12.0</td>\n",
              "      <td>2.0</td>\n",
              "      <td>402.0</td>\n",
              "      <td>965.936057</td>\n",
              "    </tr>\n",
              "    <tr>\n",
              "      <th>20376.0</th>\n",
              "      <td>346.0</td>\n",
              "      <td>90.0</td>\n",
              "      <td>3.0</td>\n",
              "      <td>1.0</td>\n",
              "      <td>220.0</td>\n",
              "      <td>3549.017502</td>\n",
              "    </tr>\n",
              "    <tr>\n",
              "      <th>20856.0</th>\n",
              "      <td>67.0</td>\n",
              "      <td>100.0</td>\n",
              "      <td>5.0</td>\n",
              "      <td>2.0</td>\n",
              "      <td>450.0</td>\n",
              "      <td>-63.994078</td>\n",
              "    </tr>\n",
              "    <tr>\n",
              "      <th>20858.0</th>\n",
              "      <td>363.0</td>\n",
              "      <td>100.0</td>\n",
              "      <td>4.0</td>\n",
              "      <td>2.0</td>\n",
              "      <td>600.0</td>\n",
              "      <td>1018.433545</td>\n",
              "    </tr>\n",
              "    <tr>\n",
              "      <th>20864.0</th>\n",
              "      <td>83.0</td>\n",
              "      <td>100.0</td>\n",
              "      <td>2.0</td>\n",
              "      <td>2.0</td>\n",
              "      <td>500.0</td>\n",
              "      <td>12.508356</td>\n",
              "    </tr>\n",
              "    <tr>\n",
              "      <th>22715.0</th>\n",
              "      <td>365.0</td>\n",
              "      <td>100.0</td>\n",
              "      <td>0.0</td>\n",
              "      <td>2.0</td>\n",
              "      <td>529.0</td>\n",
              "      <td>1050.136613</td>\n",
              "    </tr>\n",
              "  </tbody>\n",
              "</table>\n",
              "</div>\n",
              "      <button class=\"colab-df-convert\" onclick=\"convertToInteractive('df-c6111ae1-2688-40a2-9aac-f4f264047058')\"\n",
              "              title=\"Convert this dataframe to an interactive table.\"\n",
              "              style=\"display:none;\">\n",
              "        \n",
              "  <svg xmlns=\"http://www.w3.org/2000/svg\" height=\"24px\"viewBox=\"0 0 24 24\"\n",
              "       width=\"24px\">\n",
              "    <path d=\"M0 0h24v24H0V0z\" fill=\"none\"/>\n",
              "    <path d=\"M18.56 5.44l.94 2.06.94-2.06 2.06-.94-2.06-.94-.94-2.06-.94 2.06-2.06.94zm-11 1L8.5 8.5l.94-2.06 2.06-.94-2.06-.94L8.5 2.5l-.94 2.06-2.06.94zm10 10l.94 2.06.94-2.06 2.06-.94-2.06-.94-.94-2.06-.94 2.06-2.06.94z\"/><path d=\"M17.41 7.96l-1.37-1.37c-.4-.4-.92-.59-1.43-.59-.52 0-1.04.2-1.43.59L10.3 9.45l-7.72 7.72c-.78.78-.78 2.05 0 2.83L4 21.41c.39.39.9.59 1.41.59.51 0 1.02-.2 1.41-.59l7.78-7.78 2.81-2.81c.8-.78.8-2.07 0-2.86zM5.41 20L4 18.59l7.72-7.72 1.47 1.35L5.41 20z\"/>\n",
              "  </svg>\n",
              "      </button>\n",
              "      \n",
              "  <style>\n",
              "    .colab-df-container {\n",
              "      display:flex;\n",
              "      flex-wrap:wrap;\n",
              "      gap: 12px;\n",
              "    }\n",
              "\n",
              "    .colab-df-convert {\n",
              "      background-color: #E8F0FE;\n",
              "      border: none;\n",
              "      border-radius: 50%;\n",
              "      cursor: pointer;\n",
              "      display: none;\n",
              "      fill: #1967D2;\n",
              "      height: 32px;\n",
              "      padding: 0 0 0 0;\n",
              "      width: 32px;\n",
              "    }\n",
              "\n",
              "    .colab-df-convert:hover {\n",
              "      background-color: #E2EBFA;\n",
              "      box-shadow: 0px 1px 2px rgba(60, 64, 67, 0.3), 0px 1px 3px 1px rgba(60, 64, 67, 0.15);\n",
              "      fill: #174EA6;\n",
              "    }\n",
              "\n",
              "    [theme=dark] .colab-df-convert {\n",
              "      background-color: #3B4455;\n",
              "      fill: #D2E3FC;\n",
              "    }\n",
              "\n",
              "    [theme=dark] .colab-df-convert:hover {\n",
              "      background-color: #434B5C;\n",
              "      box-shadow: 0px 1px 3px 1px rgba(0, 0, 0, 0.15);\n",
              "      filter: drop-shadow(0px 1px 2px rgba(0, 0, 0, 0.3));\n",
              "      fill: #FFFFFF;\n",
              "    }\n",
              "  </style>\n",
              "\n",
              "      <script>\n",
              "        const buttonEl =\n",
              "          document.querySelector('#df-c6111ae1-2688-40a2-9aac-f4f264047058 button.colab-df-convert');\n",
              "        buttonEl.style.display =\n",
              "          google.colab.kernel.accessAllowed ? 'block' : 'none';\n",
              "\n",
              "        async function convertToInteractive(key) {\n",
              "          const element = document.querySelector('#df-c6111ae1-2688-40a2-9aac-f4f264047058');\n",
              "          const dataTable =\n",
              "            await google.colab.kernel.invokeFunction('convertToInteractive',\n",
              "                                                     [key], {});\n",
              "          if (!dataTable) return;\n",
              "\n",
              "          const docLinkHtml = 'Like what you see? Visit the ' +\n",
              "            '<a target=\"_blank\" href=https://colab.research.google.com/notebooks/data_table.ipynb>data table notebook</a>'\n",
              "            + ' to learn more about interactive tables.';\n",
              "          element.innerHTML = '';\n",
              "          dataTable['output_type'] = 'display_data';\n",
              "          await google.colab.output.renderOutput(dataTable, element);\n",
              "          const docLink = document.createElement('div');\n",
              "          docLink.innerHTML = docLinkHtml;\n",
              "          element.appendChild(docLink);\n",
              "        }\n",
              "      </script>\n",
              "    </div>\n",
              "  </div>\n",
              "  "
            ]
          },
          "metadata": {},
          "execution_count": 176
        }
      ]
    },
    {
      "cell_type": "code",
      "source": [
        "#Visualizamos la gráfica comparativa entre el total real y el total predecido\n",
        "sns.scatterplot(x=x2.columns[0], y=y.columns[0], color=\"lightgreen\", data=data)\n",
        "sns.scatterplot(x=x2.columns[0], y='Predicciones', color=\"purple\", data=data)"
      ],
      "metadata": {
        "colab": {
          "base_uri": "https://localhost:8080/",
          "height": 467
        },
        "outputId": "a890ee73-d4ff-4348-a8a8-2d15d94bac7d",
        "id": "QkJg0dqrgBh_"
      },
      "execution_count": 177,
      "outputs": [
        {
          "output_type": "execute_result",
          "data": {
            "text/plain": [
              "<Axes: xlabel='host_response_rate', ylabel='price'>"
            ]
          },
          "metadata": {},
          "execution_count": 177
        },
        {
          "output_type": "display_data",
          "data": {
            "text/plain": [
              "<Figure size 640x480 with 1 Axes>"
            ],
            "image/png": "[encoded data removed]"
          },
          "metadata": {}
        }
      ]
    },
    {
      "cell_type": "code",
      "source": [
        "y_e.append(y.columns[0])\n",
        "x1_e.append(x1.columns[0])\n",
        "x2_e.append(x2.columns[0])\n",
        "x3_e.append(x3.columns[0])\n",
        "x4_e.append(x4.columns[0])"
      ],
      "metadata": {
        "id": "i505iKYmgBh_"
      },
      "execution_count": 178,
      "outputs": []
    },
    {
      "cell_type": "code",
      "source": [
        "#Corroboramos cual es el coeficiente de Determinación de nuestro modelo\n",
        "coef_Deter=model.score(X=Vars_Indep, y=Var_Dep)\n",
        "deter_e.append(coef_Deter)\n",
        "coef_Deter"
      ],
      "metadata": {
        "colab": {
          "base_uri": "https://localhost:8080/"
        },
        "outputId": "6b352416-2b2c-41c0-af0b-871233c3d234",
        "id": "2GeyvSHigBh_"
      },
      "execution_count": 179,
      "outputs": [
        {
          "output_type": "execute_result",
          "data": {
            "text/plain": [
              "0.1754643966300229"
            ]
          },
          "metadata": {},
          "execution_count": 179
        }
      ]
    },
    {
      "cell_type": "code",
      "source": [
        "#Corroboramos cual es el coeficiente de Correlación de nuestro modelo\n",
        "coef_Correl=np.sqrt(coef_Deter)\n",
        "corr_e.append(coef_Correl)\n",
        "coef_Correl"
      ],
      "metadata": {
        "colab": {
          "base_uri": "https://localhost:8080/"
        },
        "outputId": "871dd939-062a-41e5-fadb-a375f64f0c2d",
        "id": "pF12eYvagBiA"
      },
      "execution_count": 180,
      "outputs": [
        {
          "output_type": "execute_result",
          "data": {
            "text/plain": [
              "0.41888470565302677"
            ]
          },
          "metadata": {},
          "execution_count": 180
        }
      ]
    },
    {
      "cell_type": "markdown",
      "source": [
        "###**host_acceptance_rate vs number_of_reviews,review_scores_cleanliness,review_scores_communication**"
      ],
      "metadata": {
        "id": "pnCOrtpFgBiA"
      }
    },
    {
      "cell_type": "code",
      "source": [
        "data = private"
      ],
      "metadata": {
        "id": "KUYJFnQMgBiA"
      },
      "execution_count": 181,
      "outputs": []
    },
    {
      "cell_type": "code",
      "source": [
        "y = data[['host_acceptance_rate']]\n",
        "x1 = data[['number_of_reviews']]\n",
        "x2 = data[['review_scores_cleanliness']]\n",
        "x3 = data[['review_scores_communication']]\n",
        "x4 = '--'"
      ],
      "metadata": {
        "id": "hn9LTmdHgBiB"
      },
      "execution_count": 182,
      "outputs": []
    },
    {
      "cell_type": "code",
      "source": [
        "from turtle import color\n",
        "sns.scatterplot(x= x1.columns[0], y=y.columns[0], color=\"lightblue\", data=data)\n",
        "sns.scatterplot(x=x2.columns[0], y=y.columns[0], color=\"lightgreen\", data=data)\n",
        "sns.scatterplot(x=x3.columns[0], y=y.columns[0], color=\"pink\", data=data)"
      ],
      "metadata": {
        "colab": {
          "base_uri": "https://localhost:8080/",
          "height": 467
        },
        "outputId": "276ee6d3-1e6b-4d10-91db-a3712346b1df",
        "id": "V027tYNEgBiB"
      },
      "execution_count": 183,
      "outputs": [
        {
          "output_type": "execute_result",
          "data": {
            "text/plain": [
              "<Axes: xlabel='number_of_reviews', ylabel='host_acceptance_rate'>"
            ]
          },
          "metadata": {},
          "execution_count": 183
        },
        {
          "output_type": "display_data",
          "data": {
            "text/plain": [
              "<Figure size 640x480 with 1 Axes>"
            ],
            "image/png": "[encoded data removed]"
          },
          "metadata": {}
        }
      ]
    },
    {
      "cell_type": "code",
      "source": [
        "#Declaramos las variables dependientes e independientes para la regresión lineal\n",
        "Vars_Indep= data[[x1.columns[0],x2.columns[0],x3.columns[0]]]\n",
        "Var_Dep= y"
      ],
      "metadata": {
        "id": "Lw8EEk3sgBiB"
      },
      "execution_count": 184,
      "outputs": []
    },
    {
      "cell_type": "code",
      "source": [
        "#Se define model como la función de regresión lineal\n",
        "from sklearn.linear_model import LinearRegression\n",
        "model= LinearRegression()"
      ],
      "metadata": {
        "id": "OU4roYvQgBiC"
      },
      "execution_count": 185,
      "outputs": []
    },
    {
      "cell_type": "code",
      "source": [
        "#Verificamos la función relacionada al modelo\n",
        "type(model)"
      ],
      "metadata": {
        "colab": {
          "base_uri": "https://localhost:8080/"
        },
        "outputId": "d4959e81-f785-44fe-f77d-4b0f45f45b93",
        "id": "KnfAwEXzgBiC"
      },
      "execution_count": 186,
      "outputs": [
        {
          "output_type": "execute_result",
          "data": {
            "text/plain": [
              "sklearn.linear_model._base.LinearRegression"
            ]
          },
          "metadata": {},
          "execution_count": 186
        }
      ]
    },
    {
      "cell_type": "code",
      "source": [
        "#Ajustamos el modelo con las variables antes declaradas\n",
        "model.fit(X=Vars_Indep, y=Var_Dep)"
      ],
      "metadata": {
        "colab": {
          "base_uri": "https://localhost:8080/",
          "height": 74
        },
        "outputId": "9fc5561a-4c3b-4682-8d09-2db7c7e36d35",
        "id": "QE_xDpZagBiC"
      },
      "execution_count": 187,
      "outputs": [
        {
          "output_type": "execute_result",
          "data": {
            "text/plain": [
              "LinearRegression()"
            ],
            "text/html": [
              "<style>#sk-container-id-9 {color: black;background-color: white;}#sk-container-id-9 pre{padding: 0;}#sk-container-id-9 div.sk-toggleable {background-color: white;}#sk-container-id-9 label.sk-toggleable__label {cursor: pointer;display: block;width: 100%;margin-bottom: 0;padding: 0.3em;box-sizing: border-box;text-align: center;}#sk-container-id-9 label.sk-toggleable__label-arrow:before {content: \"▸\";float: left;margin-right: 0.25em;color: #696969;}#sk-container-id-9 label.sk-toggleable__label-arrow:hover:before {color: black;}#sk-container-id-9 div.sk-estimator:hover label.sk-toggleable__label-arrow:before {color: black;}#sk-container-id-9 div.sk-toggleable__content {max-height: 0;max-width: 0;overflow: hidden;text-align: left;background-color: #f0f8ff;}#sk-container-id-9 div.sk-toggleable__content pre {margin: 0.2em;color: black;border-radius: 0.25em;background-color: #f0f8ff;}#sk-container-id-9 input.sk-toggleable__control:checked~div.sk-toggleable__content {max-height: 200px;max-width: 100%;overflow: auto;}#sk-container-id-9 input.sk-toggleable__control:checked~label.sk-toggleable__label-arrow:before {content: \"▾\";}#sk-container-id-9 div.sk-estimator input.sk-toggleable__control:checked~label.sk-toggleable__label {background-color: #d4ebff;}#sk-container-id-9 div.sk-label input.sk-toggleable__control:checked~label.sk-toggleable__label {background-color: #d4ebff;}#sk-container-id-9 input.sk-hidden--visually {border: 0;clip: rect(1px 1px 1px 1px);clip: rect(1px, 1px, 1px, 1px);height: 1px;margin: -1px;overflow: hidden;padding: 0;position: absolute;width: 1px;}#sk-container-id-9 div.sk-estimator {font-family: monospace;background-color: #f0f8ff;border: 1px dotted black;border-radius: 0.25em;box-sizing: border-box;margin-bottom: 0.5em;}#sk-container-id-9 div.sk-estimator:hover {background-color: #d4ebff;}#sk-container-id-9 div.sk-parallel-item::after {content: \"\";width: 100%;border-bottom: 1px solid gray;flex-grow: 1;}#sk-container-id-9 div.sk-label:hover label.sk-toggleable__label {background-color: #d4ebff;}#sk-container-id-9 div.sk-serial::before {content: \"\";position: absolute;border-left: 1px solid gray;box-sizing: border-box;top: 0;bottom: 0;left: 50%;z-index: 0;}#sk-container-id-9 div.sk-serial {display: flex;flex-direction: column;align-items: center;background-color: white;padding-right: 0.2em;padding-left: 0.2em;position: relative;}#sk-container-id-9 div.sk-item {position: relative;z-index: 1;}#sk-container-id-9 div.sk-parallel {display: flex;align-items: stretch;justify-content: center;background-color: white;position: relative;}#sk-container-id-9 div.sk-item::before, #sk-container-id-9 div.sk-parallel-item::before {content: \"\";position: absolute;border-left: 1px solid gray;box-sizing: border-box;top: 0;bottom: 0;left: 50%;z-index: -1;}#sk-container-id-9 div.sk-parallel-item {display: flex;flex-direction: column;z-index: 1;position: relative;background-color: white;}#sk-container-id-9 div.sk-parallel-item:first-child::after {align-self: flex-end;width: 50%;}#sk-container-id-9 div.sk-parallel-item:last-child::after {align-self: flex-start;width: 50%;}#sk-container-id-9 div.sk-parallel-item:only-child::after {width: 0;}#sk-container-id-9 div.sk-dashed-wrapped {border: 1px dashed gray;margin: 0 0.4em 0.5em 0.4em;box-sizing: border-box;padding-bottom: 0.4em;background-color: white;}#sk-container-id-9 div.sk-label label {font-family: monospace;font-weight: bold;display: inline-block;line-height: 1.2em;}#sk-container-id-9 div.sk-label-container {text-align: center;}#sk-container-id-9 div.sk-container {/* jupyter's `normalize.less` sets `[hidden] { display: none; }` but bootstrap.min.css set `[hidden] { display: none !important; }` so we also need the `!important` here to be able to override the default hidden behavior on the sphinx rendered scikit-learn.org. See: https://github.com/scikit-learn/scikit-learn/issues/21755 */display: inline-block !important;position: relative;}#sk-container-id-9 div.sk-text-repr-fallback {display: none;}</style><div id=\"sk-container-id-9\" class=\"sk-top-container\"><div class=\"sk-text-repr-fallback\"><pre>LinearRegression()</pre><b>In a Jupyter environment, please rerun this cell to show the HTML representation or trust the notebook. <br />On GitHub, the HTML representation is unable to render, please try loading this page with nbviewer.org.</b></div><div class=\"sk-container\" hidden><div class=\"sk-item\"><div class=\"sk-estimator sk-toggleable\"><input class=\"sk-toggleable__control sk-hidden--visually\" id=\"sk-estimator-id-9\" type=\"checkbox\" checked><label for=\"sk-estimator-id-9\" class=\"sk-toggleable__label sk-toggleable__label-arrow\">LinearRegression</label><div class=\"sk-toggleable__content\"><pre>LinearRegression()</pre></div></div></div></div></div>"
            ]
          },
          "metadata": {},
          "execution_count": 187
        }
      ]
    },
    {
      "cell_type": "code",
      "source": [
        "#Verificamos los coeficientes obtenidos para el modelo ajustado\n",
        "model.__dict__"
      ],
      "metadata": {
        "colab": {
          "base_uri": "https://localhost:8080/"
        },
        "outputId": "ef1afa6b-608f-448a-9218-00fd5208fece",
        "id": "sKk8qVkpgBiD"
      },
      "execution_count": 188,
      "outputs": [
        {
          "output_type": "execute_result",
          "data": {
            "text/plain": [
              "{'fit_intercept': True,\n",
              " 'copy_X': True,\n",
              " 'n_jobs': None,\n",
              " 'positive': False,\n",
              " 'feature_names_in_': array(['number_of_reviews', 'review_scores_cleanliness',\n",
              "        'review_scores_communication'], dtype=object),\n",
              " 'n_features_in_': 3,\n",
              " 'coef_': array([[-7.88954951e-04,  5.11336456e+00, -3.18639614e-01]]),\n",
              " 'rank_': 3,\n",
              " 'singular_': array([154.65627594,  15.70725774,   3.53269309]),\n",
              " 'intercept_': array([73.38142413])}"
            ]
          },
          "metadata": {},
          "execution_count": 188
        }
      ]
    },
    {
      "cell_type": "markdown",
      "source": [
        "####**Modelo matemático**\n",
        "\n",
        "Modelo matemático: y=  -7.88954951e-04x1 +  5.11336456e+00x2 + -3.18639614e-01x3 + 73.38142413"
      ],
      "metadata": {
        "id": "SrYw6nexgBiD"
      }
    },
    {
      "cell_type": "code",
      "source": [
        "#Predecimos los valores de total de accidentes a partir de las variables: \"alcohol\", \"speeding\" y \"no_previous\"\n",
        "y_pred= model.predict(X=data[[x1.columns[0],x2.columns[0],x3.columns[0]]])\n",
        "y_pred"
      ],
      "metadata": {
        "colab": {
          "base_uri": "https://localhost:8080/"
        },
        "outputId": "a7f5e656-337c-494c-e8bb-b31f3bc3e88c",
        "id": "hR47pQw1gBiD"
      },
      "execution_count": 189,
      "outputs": [
        {
          "output_type": "execute_result",
          "data": {
            "text/plain": [
              "array([[73.38142413],\n",
              "       [96.98527903],\n",
              "       [73.38063517],\n",
              "       [95.62843255],\n",
              "       [96.32764223],\n",
              "       [97.07373817],\n",
              "       [94.65755993],\n",
              "       [94.44983896],\n",
              "       [96.61672621],\n",
              "       [73.38142413],\n",
              "       [97.51279077],\n",
              "       [96.43686327],\n",
              "       [97.34715933],\n",
              "       [97.18832743],\n",
              "       [96.98855716],\n",
              "       [97.35189306],\n",
              "       [96.91077805],\n",
              "       [97.35425992],\n",
              "       [96.54067501],\n",
              "       [96.25781828],\n",
              "       [96.74745704],\n",
              "       [97.1118555 ],\n",
              "       [96.85624843],\n",
              "       [97.20866126],\n",
              "       [98.94745799],\n",
              "       [95.61732603],\n",
              "       [73.38142413],\n",
              "       [97.34952619],\n",
              "       [96.4115511 ],\n",
              "       [97.09489153],\n",
              "       [96.78538803],\n",
              "       [94.47426913],\n",
              "       [73.38142413],\n",
              "       [97.35425992],\n",
              "       [97.35425992],\n",
              "       [73.38142413],\n",
              "       [94.10043221],\n",
              "       [96.96200342],\n",
              "       [97.35268201],\n",
              "       [93.3878683 ],\n",
              "       [96.23287172],\n",
              "       [97.35347097],\n",
              "       [73.38142413]])"
            ]
          },
          "metadata": {},
          "execution_count": 189
        }
      ]
    },
    {
      "cell_type": "code",
      "source": [
        "#Insertamos la columna de predicciones en el DataFrame\n",
        "data['Predicciones']= y_pred\n",
        "data[[x1.columns[0],x2.columns[0],x3.columns[0],y.columns[0],'Predicciones']]\n"
      ],
      "metadata": {
        "colab": {
          "base_uri": "https://localhost:8080/",
          "height": 1000
        },
        "outputId": "3442a54e-f2c8-4076-f693-b46b523febbb",
        "id": "pb4MDxejgBiE"
      },
      "execution_count": 190,
      "outputs": [
        {
          "output_type": "stream",
          "name": "stderr",
          "text": [
            "<ipython-input-190-d9a4cba03580>:2: SettingWithCopyWarning: \n",
            "A value is trying to be set on a copy of a slice from a DataFrame.\n",
            "Try using .loc[row_indexer,col_indexer] = value instead\n",
            "\n",
            "See the caveats in the documentation: https://pandas.pydata.org/pandas-docs/stable/user_guide/indexing.html#returning-a-view-versus-a-copy\n",
            "  data['Predicciones']= y_pred\n"
          ]
        },
        {
          "output_type": "execute_result",
          "data": {
            "text/plain": [
              "         number_of_reviews  review_scores_cleanliness  \\\n",
              "21.0                   0.0                       0.00   \n",
              "1062.0                15.0                       4.93   \n",
              "2670.0                 1.0                       0.00   \n",
              "2805.0                17.0                       4.65   \n",
              "3065.0                 6.0                       4.80   \n",
              "3257.0                 0.0                       4.94   \n",
              "3359.0                 0.0                       4.46   \n",
              "3372.0                 0.0                       4.42   \n",
              "3455.0                85.0                       4.86   \n",
              "3571.0                 0.0                       0.00   \n",
              "3605.0                 2.0                       5.00   \n",
              "4303.0                82.0                       4.82   \n",
              "5667.0                10.0                       5.00   \n",
              "6244.0                29.0                       4.97   \n",
              "11127.0               27.0                       4.93   \n",
              "11919.0                4.0                       5.00   \n",
              "12298.0                0.0                       4.91   \n",
              "12711.0                1.0                       5.00   \n",
              "12840.0               11.0                       4.82   \n",
              "12863.0               62.0                       4.79   \n",
              "13673.0               57.0                       4.88   \n",
              "13674.0               49.0                       4.96   \n",
              "13680.0               57.0                       4.91   \n",
              "13713.0               64.0                       4.98   \n",
              "14804.0                1.0                       5.00   \n",
              "14918.0               23.0                       4.65   \n",
              "15030.0                0.0                       0.00   \n",
              "15092.0                7.0                       5.00   \n",
              "15357.0               21.0                       4.81   \n",
              "16016.0               38.0                       4.95   \n",
              "16934.0               17.0                       4.88   \n",
              "16935.0                5.0                       4.40   \n",
              "17154.0                0.0                       0.00   \n",
              "17251.0                1.0                       5.00   \n",
              "18954.0                1.0                       5.00   \n",
              "19583.0                0.0                       0.00   \n",
              "19757.0                9.0                       4.33   \n",
              "19920.0               12.0                       4.92   \n",
              "20376.0                3.0                       5.00   \n",
              "20856.0                5.0                       4.20   \n",
              "20858.0                4.0                       4.75   \n",
              "20864.0                2.0                       5.00   \n",
              "22715.0                0.0                       0.00   \n",
              "\n",
              "         review_scores_communication  host_acceptance_rate  Predicciones  \n",
              "21.0                            0.00                   0.0     73.381424  \n",
              "1062.0                          5.00                 100.0     96.985279  \n",
              "2670.0                          0.00                 100.0     73.380635  \n",
              "2805.0                          4.76                 100.0     95.628433  \n",
              "3065.0                          5.00                 100.0     96.327642  \n",
              "3257.0                          4.92                 100.0     97.073738  \n",
              "3359.0                          4.80                  98.0     94.657560  \n",
              "3372.0                          4.81                  98.0     94.449839  \n",
              "3455.0                          4.86                  83.0     96.616726  \n",
              "3571.0                          0.00                 100.0     73.381424  \n",
              "3605.0                          4.50                 100.0     97.512791  \n",
              "4303.0                          4.79                 100.0     96.436863  \n",
              "5667.0                          5.00                 100.0     97.347159  \n",
              "6244.0                          4.97                 100.0     97.188327  \n",
              "11127.0                         4.96                  98.0     96.988557  \n",
              "11919.0                         5.00                 100.0     97.351893  \n",
              "12298.0                         4.95                 100.0     96.910778  \n",
              "12711.0                         5.00                  94.0     97.354260  \n",
              "12840.0                         4.64                 100.0     96.540675  \n",
              "12863.0                         4.92                 100.0     96.257818  \n",
              "13673.0                         4.84                  98.0     96.747457  \n",
              "13674.0                         5.00                  98.0     97.111856  \n",
              "13680.0                         4.98                  98.0     96.856248  \n",
              "13713.0                         4.98                  98.0     97.208661  \n",
              "14804.0                         0.00                 100.0     98.947458  \n",
              "14918.0                         4.78                  99.0     95.617326  \n",
              "15030.0                         0.00                  65.0     73.381424  \n",
              "15092.0                         5.00                  38.0     97.349526  \n",
              "15357.0                         4.86                  99.0     96.411551  \n",
              "16016.0                         4.92                 100.0     97.094892  \n",
              "16934.0                         4.82                 100.0     96.785388  \n",
              "16935.0                         4.40                 100.0     94.474269  \n",
              "17154.0                         0.00                  44.0     73.381424  \n",
              "17251.0                         5.00                  82.0     97.354260  \n",
              "18954.0                         5.00                 100.0     97.354260  \n",
              "19583.0                         0.00                 100.0     73.381424  \n",
              "19757.0                         4.44                 100.0     94.100432  \n",
              "19920.0                         4.92                 100.0     96.962003  \n",
              "20376.0                         5.00                 100.0     97.352682  \n",
              "20856.0                         4.60                 100.0     93.387868  \n",
              "20858.0                         4.50                 100.0     96.232872  \n",
              "20864.0                         5.00                 100.0     97.353471  \n",
              "22715.0                         0.00                 100.0     73.381424  "
            ],
            "text/html": [
              "\n",
              "  <div id=\"df-305ca932-6d5e-4757-9c93-6812d3e939e3\">\n",
              "    <div class=\"colab-df-container\">\n",
              "      <div>\n",
              "<style scoped>\n",
              "    .dataframe tbody tr th:only-of-type {\n",
              "        vertical-align: middle;\n",
              "    }\n",
              "\n",
              "    .dataframe tbody tr th {\n",
              "        vertical-align: top;\n",
              "    }\n",
              "\n",
              "    .dataframe thead th {\n",
              "        text-align: right;\n",
              "    }\n",
              "</style>\n",
              "<table border=\"1\" class=\"dataframe\">\n",
              "  <thead>\n",
              "    <tr style=\"text-align: right;\">\n",
              "      <th></th>\n",
              "      <th>number_of_reviews</th>\n",
              "      <th>review_scores_cleanliness</th>\n",
              "      <th>review_scores_communication</th>\n",
              "      <th>host_acceptance_rate</th>\n",
              "      <th>Predicciones</th>\n",
              "    </tr>\n",
              "  </thead>\n",
              "  <tbody>\n",
              "    <tr>\n",
              "      <th>21.0</th>\n",
              "      <td>0.0</td>\n",
              "      <td>0.00</td>\n",
              "      <td>0.00</td>\n",
              "      <td>0.0</td>\n",
              "      <td>73.381424</td>\n",
              "    </tr>\n",
              "    <tr>\n",
              "      <th>1062.0</th>\n",
              "      <td>15.0</td>\n",
              "      <td>4.93</td>\n",
              "      <td>5.00</td>\n",
              "      <td>100.0</td>\n",
              "      <td>96.985279</td>\n",
              "    </tr>\n",
              "    <tr>\n",
              "      <th>2670.0</th>\n",
              "      <td>1.0</td>\n",
              "      <td>0.00</td>\n",
              "      <td>0.00</td>\n",
              "      <td>100.0</td>\n",
              "      <td>73.380635</td>\n",
              "    </tr>\n",
              "    <tr>\n",
              "      <th>2805.0</th>\n",
              "      <td>17.0</td>\n",
              "      <td>4.65</td>\n",
              "      <td>4.76</td>\n",
              "      <td>100.0</td>\n",
              "      <td>95.628433</td>\n",
              "    </tr>\n",
              "    <tr>\n",
              "      <th>3065.0</th>\n",
              "      <td>6.0</td>\n",
              "      <td>4.80</td>\n",
              "      <td>5.00</td>\n",
              "      <td>100.0</td>\n",
              "      <td>96.327642</td>\n",
              "    </tr>\n",
              "    <tr>\n",
              "      <th>3257.0</th>\n",
              "      <td>0.0</td>\n",
              "      <td>4.94</td>\n",
              "      <td>4.92</td>\n",
              "      <td>100.0</td>\n",
              "      <td>97.073738</td>\n",
              "    </tr>\n",
              "    <tr>\n",
              "      <th>3359.0</th>\n",
              "      <td>0.0</td>\n",
              "      <td>4.46</td>\n",
              "      <td>4.80</td>\n",
              "      <td>98.0</td>\n",
              "      <td>94.657560</td>\n",
              "    </tr>\n",
              "    <tr>\n",
              "      <th>3372.0</th>\n",
              "      <td>0.0</td>\n",
              "      <td>4.42</td>\n",
              "      <td>4.81</td>\n",
              "      <td>98.0</td>\n",
              "      <td>94.449839</td>\n",
              "    </tr>\n",
              "    <tr>\n",
              "      <th>3455.0</th>\n",
              "      <td>85.0</td>\n",
              "      <td>4.86</td>\n",
              "      <td>4.86</td>\n",
              "      <td>83.0</td>\n",
              "      <td>96.616726</td>\n",
              "    </tr>\n",
              "    <tr>\n",
              "      <th>3571.0</th>\n",
              "      <td>0.0</td>\n",
              "      <td>0.00</td>\n",
              "      <td>0.00</td>\n",
              "      <td>100.0</td>\n",
              "      <td>73.381424</td>\n",
              "    </tr>\n",
              "    <tr>\n",
              "      <th>3605.0</th>\n",
              "      <td>2.0</td>\n",
              "      <td>5.00</td>\n",
              "      <td>4.50</td>\n",
              "      <td>100.0</td>\n",
              "      <td>97.512791</td>\n",
              "    </tr>\n",
              "    <tr>\n",
              "      <th>4303.0</th>\n",
              "      <td>82.0</td>\n",
              "      <td>4.82</td>\n",
              "      <td>4.79</td>\n",
              "      <td>100.0</td>\n",
              "      <td>96.436863</td>\n",
              "    </tr>\n",
              "    <tr>\n",
              "      <th>5667.0</th>\n",
              "      <td>10.0</td>\n",
              "      <td>5.00</td>\n",
              "      <td>5.00</td>\n",
              "      <td>100.0</td>\n",
              "      <td>97.347159</td>\n",
              "    </tr>\n",
              "    <tr>\n",
              "      <th>6244.0</th>\n",
              "      <td>29.0</td>\n",
              "      <td>4.97</td>\n",
              "      <td>4.97</td>\n",
              "      <td>100.0</td>\n",
              "      <td>97.188327</td>\n",
              "    </tr>\n",
              "    <tr>\n",
              "      <th>11127.0</th>\n",
              "      <td>27.0</td>\n",
              "      <td>4.93</td>\n",
              "      <td>4.96</td>\n",
              "      <td>98.0</td>\n",
              "      <td>96.988557</td>\n",
              "    </tr>\n",
              "    <tr>\n",
              "      <th>11919.0</th>\n",
              "      <td>4.0</td>\n",
              "      <td>5.00</td>\n",
              "      <td>5.00</td>\n",
              "      <td>100.0</td>\n",
              "      <td>97.351893</td>\n",
              "    </tr>\n",
              "    <tr>\n",
              "      <th>12298.0</th>\n",
              "      <td>0.0</td>\n",
              "      <td>4.91</td>\n",
              "      <td>4.95</td>\n",
              "      <td>100.0</td>\n",
              "      <td>96.910778</td>\n",
              "    </tr>\n",
              "    <tr>\n",
              "      <th>12711.0</th>\n",
              "      <td>1.0</td>\n",
              "      <td>5.00</td>\n",
              "      <td>5.00</td>\n",
              "      <td>94.0</td>\n",
              "      <td>97.354260</td>\n",
              "    </tr>\n",
              "    <tr>\n",
              "      <th>12840.0</th>\n",
              "      <td>11.0</td>\n",
              "      <td>4.82</td>\n",
              "      <td>4.64</td>\n",
              "      <td>100.0</td>\n",
              "      <td>96.540675</td>\n",
              "    </tr>\n",
              "    <tr>\n",
              "      <th>12863.0</th>\n",
              "      <td>62.0</td>\n",
              "      <td>4.79</td>\n",
              "      <td>4.92</td>\n",
              "      <td>100.0</td>\n",
              "      <td>96.257818</td>\n",
              "    </tr>\n",
              "    <tr>\n",
              "      <th>13673.0</th>\n",
              "      <td>57.0</td>\n",
              "      <td>4.88</td>\n",
              "      <td>4.84</td>\n",
              "      <td>98.0</td>\n",
              "      <td>96.747457</td>\n",
              "    </tr>\n",
              "    <tr>\n",
              "      <th>13674.0</th>\n",
              "      <td>49.0</td>\n",
              "      <td>4.96</td>\n",
              "      <td>5.00</td>\n",
              "      <td>98.0</td>\n",
              "      <td>97.111856</td>\n",
              "    </tr>\n",
              "    <tr>\n",
              "      <th>13680.0</th>\n",
              "      <td>57.0</td>\n",
              "      <td>4.91</td>\n",
              "      <td>4.98</td>\n",
              "      <td>98.0</td>\n",
              "      <td>96.856248</td>\n",
              "    </tr>\n",
              "    <tr>\n",
              "      <th>13713.0</th>\n",
              "      <td>64.0</td>\n",
              "      <td>4.98</td>\n",
              "      <td>4.98</td>\n",
              "      <td>98.0</td>\n",
              "      <td>97.208661</td>\n",
              "    </tr>\n",
              "    <tr>\n",
              "      <th>14804.0</th>\n",
              "      <td>1.0</td>\n",
              "      <td>5.00</td>\n",
              "      <td>0.00</td>\n",
              "      <td>100.0</td>\n",
              "      <td>98.947458</td>\n",
              "    </tr>\n",
              "    <tr>\n",
              "      <th>14918.0</th>\n",
              "      <td>23.0</td>\n",
              "      <td>4.65</td>\n",
              "      <td>4.78</td>\n",
              "      <td>99.0</td>\n",
              "      <td>95.617326</td>\n",
              "    </tr>\n",
              "    <tr>\n",
              "      <th>15030.0</th>\n",
              "      <td>0.0</td>\n",
              "      <td>0.00</td>\n",
              "      <td>0.00</td>\n",
              "      <td>65.0</td>\n",
              "      <td>73.381424</td>\n",
              "    </tr>\n",
              "    <tr>\n",
              "      <th>15092.0</th>\n",
              "      <td>7.0</td>\n",
              "      <td>5.00</td>\n",
              "      <td>5.00</td>\n",
              "      <td>38.0</td>\n",
              "      <td>97.349526</td>\n",
              "    </tr>\n",
              "    <tr>\n",
              "      <th>15357.0</th>\n",
              "      <td>21.0</td>\n",
              "      <td>4.81</td>\n",
              "      <td>4.86</td>\n",
              "      <td>99.0</td>\n",
              "      <td>96.411551</td>\n",
              "    </tr>\n",
              "    <tr>\n",
              "      <th>16016.0</th>\n",
              "      <td>38.0</td>\n",
              "      <td>4.95</td>\n",
              "      <td>4.92</td>\n",
              "      <td>100.0</td>\n",
              "      <td>97.094892</td>\n",
              "    </tr>\n",
              "    <tr>\n",
              "      <th>16934.0</th>\n",
              "      <td>17.0</td>\n",
              "      <td>4.88</td>\n",
              "      <td>4.82</td>\n",
              "      <td>100.0</td>\n",
              "      <td>96.785388</td>\n",
              "    </tr>\n",
              "    <tr>\n",
              "      <th>16935.0</th>\n",
              "      <td>5.0</td>\n",
              "      <td>4.40</td>\n",
              "      <td>4.40</td>\n",
              "      <td>100.0</td>\n",
              "      <td>94.474269</td>\n",
              "    </tr>\n",
              "    <tr>\n",
              "      <th>17154.0</th>\n",
              "      <td>0.0</td>\n",
              "      <td>0.00</td>\n",
              "      <td>0.00</td>\n",
              "      <td>44.0</td>\n",
              "      <td>73.381424</td>\n",
              "    </tr>\n",
              "    <tr>\n",
              "      <th>17251.0</th>\n",
              "      <td>1.0</td>\n",
              "      <td>5.00</td>\n",
              "      <td>5.00</td>\n",
              "      <td>82.0</td>\n",
              "      <td>97.354260</td>\n",
              "    </tr>\n",
              "    <tr>\n",
              "      <th>18954.0</th>\n",
              "      <td>1.0</td>\n",
              "      <td>5.00</td>\n",
              "      <td>5.00</td>\n",
              "      <td>100.0</td>\n",
              "      <td>97.354260</td>\n",
              "    </tr>\n",
              "    <tr>\n",
              "      <th>19583.0</th>\n",
              "      <td>0.0</td>\n",
              "      <td>0.00</td>\n",
              "      <td>0.00</td>\n",
              "      <td>100.0</td>\n",
              "      <td>73.381424</td>\n",
              "    </tr>\n",
              "    <tr>\n",
              "      <th>19757.0</th>\n",
              "      <td>9.0</td>\n",
              "      <td>4.33</td>\n",
              "      <td>4.44</td>\n",
              "      <td>100.0</td>\n",
              "      <td>94.100432</td>\n",
              "    </tr>\n",
              "    <tr>\n",
              "      <th>19920.0</th>\n",
              "      <td>12.0</td>\n",
              "      <td>4.92</td>\n",
              "      <td>4.92</td>\n",
              "      <td>100.0</td>\n",
              "      <td>96.962003</td>\n",
              "    </tr>\n",
              "    <tr>\n",
              "      <th>20376.0</th>\n",
              "      <td>3.0</td>\n",
              "      <td>5.00</td>\n",
              "      <td>5.00</td>\n",
              "      <td>100.0</td>\n",
              "      <td>97.352682</td>\n",
              "    </tr>\n",
              "    <tr>\n",
              "      <th>20856.0</th>\n",
              "      <td>5.0</td>\n",
              "      <td>4.20</td>\n",
              "      <td>4.60</td>\n",
              "      <td>100.0</td>\n",
              "      <td>93.387868</td>\n",
              "    </tr>\n",
              "    <tr>\n",
              "      <th>20858.0</th>\n",
              "      <td>4.0</td>\n",
              "      <td>4.75</td>\n",
              "      <td>4.50</td>\n",
              "      <td>100.0</td>\n",
              "      <td>96.232872</td>\n",
              "    </tr>\n",
              "    <tr>\n",
              "      <th>20864.0</th>\n",
              "      <td>2.0</td>\n",
              "      <td>5.00</td>\n",
              "      <td>5.00</td>\n",
              "      <td>100.0</td>\n",
              "      <td>97.353471</td>\n",
              "    </tr>\n",
              "    <tr>\n",
              "      <th>22715.0</th>\n",
              "      <td>0.0</td>\n",
              "      <td>0.00</td>\n",
              "      <td>0.00</td>\n",
              "      <td>100.0</td>\n",
              "      <td>73.381424</td>\n",
              "    </tr>\n",
              "  </tbody>\n",
              "</table>\n",
              "</div>\n",
              "      <button class=\"colab-df-convert\" onclick=\"convertToInteractive('df-305ca932-6d5e-4757-9c93-6812d3e939e3')\"\n",
              "              title=\"Convert this dataframe to an interactive table.\"\n",
              "              style=\"display:none;\">\n",
              "        \n",
              "  <svg xmlns=\"http://www.w3.org/2000/svg\" height=\"24px\"viewBox=\"0 0 24 24\"\n",
              "       width=\"24px\">\n",
              "    <path d=\"M0 0h24v24H0V0z\" fill=\"none\"/>\n",
              "    <path d=\"M18.56 5.44l.94 2.06.94-2.06 2.06-.94-2.06-.94-.94-2.06-.94 2.06-2.06.94zm-11 1L8.5 8.5l.94-2.06 2.06-.94-2.06-.94L8.5 2.5l-.94 2.06-2.06.94zm10 10l.94 2.06.94-2.06 2.06-.94-2.06-.94-.94-2.06-.94 2.06-2.06.94z\"/><path d=\"M17.41 7.96l-1.37-1.37c-.4-.4-.92-.59-1.43-.59-.52 0-1.04.2-1.43.59L10.3 9.45l-7.72 7.72c-.78.78-.78 2.05 0 2.83L4 21.41c.39.39.9.59 1.41.59.51 0 1.02-.2 1.41-.59l7.78-7.78 2.81-2.81c.8-.78.8-2.07 0-2.86zM5.41 20L4 18.59l7.72-7.72 1.47 1.35L5.41 20z\"/>\n",
              "  </svg>\n",
              "      </button>\n",
              "      \n",
              "  <style>\n",
              "    .colab-df-container {\n",
              "      display:flex;\n",
              "      flex-wrap:wrap;\n",
              "      gap: 12px;\n",
              "    }\n",
              "\n",
              "    .colab-df-convert {\n",
              "      background-color: #E8F0FE;\n",
              "      border: none;\n",
              "      border-radius: 50%;\n",
              "      cursor: pointer;\n",
              "      display: none;\n",
              "      fill: #1967D2;\n",
              "      height: 32px;\n",
              "      padding: 0 0 0 0;\n",
              "      width: 32px;\n",
              "    }\n",
              "\n",
              "    .colab-df-convert:hover {\n",
              "      background-color: #E2EBFA;\n",
              "      box-shadow: 0px 1px 2px rgba(60, 64, 67, 0.3), 0px 1px 3px 1px rgba(60, 64, 67, 0.15);\n",
              "      fill: #174EA6;\n",
              "    }\n",
              "\n",
              "    [theme=dark] .colab-df-convert {\n",
              "      background-color: #3B4455;\n",
              "      fill: #D2E3FC;\n",
              "    }\n",
              "\n",
              "    [theme=dark] .colab-df-convert:hover {\n",
              "      background-color: #434B5C;\n",
              "      box-shadow: 0px 1px 3px 1px rgba(0, 0, 0, 0.15);\n",
              "      filter: drop-shadow(0px 1px 2px rgba(0, 0, 0, 0.3));\n",
              "      fill: #FFFFFF;\n",
              "    }\n",
              "  </style>\n",
              "\n",
              "      <script>\n",
              "        const buttonEl =\n",
              "          document.querySelector('#df-305ca932-6d5e-4757-9c93-6812d3e939e3 button.colab-df-convert');\n",
              "        buttonEl.style.display =\n",
              "          google.colab.kernel.accessAllowed ? 'block' : 'none';\n",
              "\n",
              "        async function convertToInteractive(key) {\n",
              "          const element = document.querySelector('#df-305ca932-6d5e-4757-9c93-6812d3e939e3');\n",
              "          const dataTable =\n",
              "            await google.colab.kernel.invokeFunction('convertToInteractive',\n",
              "                                                     [key], {});\n",
              "          if (!dataTable) return;\n",
              "\n",
              "          const docLinkHtml = 'Like what you see? Visit the ' +\n",
              "            '<a target=\"_blank\" href=https://colab.research.google.com/notebooks/data_table.ipynb>data table notebook</a>'\n",
              "            + ' to learn more about interactive tables.';\n",
              "          element.innerHTML = '';\n",
              "          dataTable['output_type'] = 'display_data';\n",
              "          await google.colab.output.renderOutput(dataTable, element);\n",
              "          const docLink = document.createElement('div');\n",
              "          docLink.innerHTML = docLinkHtml;\n",
              "          element.appendChild(docLink);\n",
              "        }\n",
              "      </script>\n",
              "    </div>\n",
              "  </div>\n",
              "  "
            ]
          },
          "metadata": {},
          "execution_count": 190
        }
      ]
    },
    {
      "cell_type": "code",
      "source": [
        "#Visualizamos la gráfica comparativa entre el total real y el total predecido\n",
        "sns.scatterplot(x=x2.columns[0], y=y.columns[0], color=\"lightgreen\", data=data)\n",
        "sns.scatterplot(x=x2.columns[0], y='Predicciones', color=\"purple\", data=data)"
      ],
      "metadata": {
        "colab": {
          "base_uri": "https://localhost:8080/",
          "height": 467
        },
        "outputId": "5301beb2-973c-4a31-db1a-893a433aca46",
        "id": "-9aObdQugBiE"
      },
      "execution_count": 191,
      "outputs": [
        {
          "output_type": "execute_result",
          "data": {
            "text/plain": [
              "<Axes: xlabel='review_scores_cleanliness', ylabel='host_acceptance_rate'>"
            ]
          },
          "metadata": {},
          "execution_count": 191
        },
        {
          "output_type": "display_data",
          "data": {
            "text/plain": [
              "<Figure size 640x480 with 1 Axes>"
            ],
            "image/png": "[encoded data removed]"
          },
          "metadata": {}
        }
      ]
    },
    {
      "cell_type": "code",
      "source": [
        "y_e.append(y.columns[0])\n",
        "x1_e.append(x1.columns[0])\n",
        "x2_e.append(x2.columns[0])\n",
        "x3_e.append(x3.columns[0])\n",
        "x4_e.append(x4)"
      ],
      "metadata": {
        "id": "FLDCyFzngBiF"
      },
      "execution_count": 192,
      "outputs": []
    },
    {
      "cell_type": "code",
      "source": [
        "#Corroboramos cual es el coeficiente de Determinación de nuestro modelo\n",
        "coef_Deter=model.score(X=Vars_Indep, y=Var_Dep)\n",
        "deter_e.append(coef_Deter)\n",
        "coef_Deter"
      ],
      "metadata": {
        "colab": {
          "base_uri": "https://localhost:8080/"
        },
        "outputId": "2a1db616-eeed-4c94-aba9-abaf07e488bc",
        "id": "VN4c54fBgBiF"
      },
      "execution_count": 193,
      "outputs": [
        {
          "output_type": "execute_result",
          "data": {
            "text/plain": [
              "0.19187431790295995"
            ]
          },
          "metadata": {},
          "execution_count": 193
        }
      ]
    },
    {
      "cell_type": "code",
      "source": [
        "#Corroboramos cual es el coeficiente de Correlación de nuestro modelo\n",
        "coef_Correl=np.sqrt(coef_Deter)\n",
        "corr_e.append(coef_Correl)\n",
        "coef_Correl"
      ],
      "metadata": {
        "colab": {
          "base_uri": "https://localhost:8080/"
        },
        "outputId": "486d4745-5f8a-434f-ac76-0929accba83e",
        "id": "R174Kr2UgBiG"
      },
      "execution_count": 194,
      "outputs": [
        {
          "output_type": "execute_result",
          "data": {
            "text/plain": [
              "0.438034608111003"
            ]
          },
          "metadata": {},
          "execution_count": 194
        }
      ]
    },
    {
      "cell_type": "markdown",
      "source": [
        "##**Tabla de Coeficientes**"
      ],
      "metadata": {
        "id": "BoikZnTpgrLV"
      }
    },
    {
      "cell_type": "code",
      "source": [
        "tabla=pd.DataFrame()"
      ],
      "metadata": {
        "id": "a8RlxannGXgA"
      },
      "execution_count": 195,
      "outputs": []
    },
    {
      "cell_type": "code",
      "source": [
        "tipo=['Entire home/apt','Entire home/apt','Entire home/apt','Private Room','Private Room','Private Room']"
      ],
      "metadata": {
        "id": "X-t80cdTGSiL"
      },
      "execution_count": 196,
      "outputs": []
    },
    {
      "cell_type": "code",
      "source": [
        "tabla['Tipo Habitación'] = tipo\n",
        "tabla['X1'] = x1_e\n",
        "tabla['X2'] = x2_e\n",
        "tabla['X3'] = x3_e\n",
        "tabla['X4'] = x4_e\n",
        "tabla['Y'] = y_e  \n",
        "tabla['Coef Determinación'] = deter_e\n",
        "tabla['Coef Correlación'] = corr_e"
      ],
      "metadata": {
        "id": "zSesV5LvGc47"
      },
      "execution_count": 197,
      "outputs": []
    },
    {
      "cell_type": "code",
      "source": [
        "tabla"
      ],
      "metadata": {
        "colab": {
          "base_uri": "https://localhost:8080/",
          "height": 423
        },
        "id": "3j3IHSVlGPrY",
        "outputId": "b92ad59d-bf74-4f40-c0e0-133348cdfd18"
      },
      "execution_count": 198,
      "outputs": [
        {
          "output_type": "execute_result",
          "data": {
            "text/plain": [
              "   Tipo Habitación                  X1                         X2  \\\n",
              "0  Entire home/apt  host_response_rate                      price   \n",
              "1  Entire home/apt    availability_365         host_response_rate   \n",
              "2  Entire home/apt   number_of_reviews  review_scores_cleanliness   \n",
              "3     Private Room  host_response_rate                      price   \n",
              "4     Private Room    availability_365         host_response_rate   \n",
              "5     Private Room   number_of_reviews  review_scores_cleanliness   \n",
              "\n",
              "                            X3                    X4                     Y  \\\n",
              "0            number_of_reviews  review_scores_rating  host_acceptance_rate   \n",
              "1            number_of_reviews          accommodates                 price   \n",
              "2  review_scores_communication                    --  host_acceptance_rate   \n",
              "3            number_of_reviews  review_scores_rating  host_acceptance_rate   \n",
              "4            number_of_reviews          accommodates                 price   \n",
              "5  review_scores_communication                    --  host_acceptance_rate   \n",
              "\n",
              "   Coef Determinación  Coef Correlación  \n",
              "0            0.494557          0.703247  \n",
              "1            0.001610          0.040128  \n",
              "2            0.092389          0.303956  \n",
              "3            0.152333          0.390299  \n",
              "4            0.175464          0.418885  \n",
              "5            0.191874          0.438035  "
            ],
            "text/html": [
              "\n",
              "  <div id=\"df-b791b4b2-3edf-4ae2-a942-bde5fab59f7c\">\n",
              "    <div class=\"colab-df-container\">\n",
              "      <div>\n",
              "<style scoped>\n",
              "    .dataframe tbody tr th:only-of-type {\n",
              "        vertical-align: middle;\n",
              "    }\n",
              "\n",
              "    .dataframe tbody tr th {\n",
              "        vertical-align: top;\n",
              "    }\n",
              "\n",
              "    .dataframe thead th {\n",
              "        text-align: right;\n",
              "    }\n",
              "</style>\n",
              "<table border=\"1\" class=\"dataframe\">\n",
              "  <thead>\n",
              "    <tr style=\"text-align: right;\">\n",
              "      <th></th>\n",
              "      <th>Tipo Habitación</th>\n",
              "      <th>X1</th>\n",
              "      <th>X2</th>\n",
              "      <th>X3</th>\n",
              "      <th>X4</th>\n",
              "      <th>Y</th>\n",
              "      <th>Coef Determinación</th>\n",
              "      <th>Coef Correlación</th>\n",
              "    </tr>\n",
              "  </thead>\n",
              "  <tbody>\n",
              "    <tr>\n",
              "      <th>0</th>\n",
              "      <td>Entire home/apt</td>\n",
              "      <td>host_response_rate</td>\n",
              "      <td>price</td>\n",
              "      <td>number_of_reviews</td>\n",
              "      <td>review_scores_rating</td>\n",
              "      <td>host_acceptance_rate</td>\n",
              "      <td>0.494557</td>\n",
              "      <td>0.703247</td>\n",
              "    </tr>\n",
              "    <tr>\n",
              "      <th>1</th>\n",
              "      <td>Entire home/apt</td>\n",
              "      <td>availability_365</td>\n",
              "      <td>host_response_rate</td>\n",
              "      <td>number_of_reviews</td>\n",
              "      <td>accommodates</td>\n",
              "      <td>price</td>\n",
              "      <td>0.001610</td>\n",
              "      <td>0.040128</td>\n",
              "    </tr>\n",
              "    <tr>\n",
              "      <th>2</th>\n",
              "      <td>Entire home/apt</td>\n",
              "      <td>number_of_reviews</td>\n",
              "      <td>review_scores_cleanliness</td>\n",
              "      <td>review_scores_communication</td>\n",
              "      <td>--</td>\n",
              "      <td>host_acceptance_rate</td>\n",
              "      <td>0.092389</td>\n",
              "      <td>0.303956</td>\n",
              "    </tr>\n",
              "    <tr>\n",
              "      <th>3</th>\n",
              "      <td>Private Room</td>\n",
              "      <td>host_response_rate</td>\n",
              "      <td>price</td>\n",
              "      <td>number_of_reviews</td>\n",
              "      <td>review_scores_rating</td>\n",
              "      <td>host_acceptance_rate</td>\n",
              "      <td>0.152333</td>\n",
              "      <td>0.390299</td>\n",
              "    </tr>\n",
              "    <tr>\n",
              "      <th>4</th>\n",
              "      <td>Private Room</td>\n",
              "      <td>availability_365</td>\n",
              "      <td>host_response_rate</td>\n",
              "      <td>number_of_reviews</td>\n",
              "      <td>accommodates</td>\n",
              "      <td>price</td>\n",
              "      <td>0.175464</td>\n",
              "      <td>0.418885</td>\n",
              "    </tr>\n",
              "    <tr>\n",
              "      <th>5</th>\n",
              "      <td>Private Room</td>\n",
              "      <td>number_of_reviews</td>\n",
              "      <td>review_scores_cleanliness</td>\n",
              "      <td>review_scores_communication</td>\n",
              "      <td>--</td>\n",
              "      <td>host_acceptance_rate</td>\n",
              "      <td>0.191874</td>\n",
              "      <td>0.438035</td>\n",
              "    </tr>\n",
              "  </tbody>\n",
              "</table>\n",
              "</div>\n",
              "      <button class=\"colab-df-convert\" onclick=\"convertToInteractive('df-b791b4b2-3edf-4ae2-a942-bde5fab59f7c')\"\n",
              "              title=\"Convert this dataframe to an interactive table.\"\n",
              "              style=\"display:none;\">\n",
              "        \n",
              "  <svg xmlns=\"http://www.w3.org/2000/svg\" height=\"24px\"viewBox=\"0 0 24 24\"\n",
              "       width=\"24px\">\n",
              "    <path d=\"M0 0h24v24H0V0z\" fill=\"none\"/>\n",
              "    <path d=\"M18.56 5.44l.94 2.06.94-2.06 2.06-.94-2.06-.94-.94-2.06-.94 2.06-2.06.94zm-11 1L8.5 8.5l.94-2.06 2.06-.94-2.06-.94L8.5 2.5l-.94 2.06-2.06.94zm10 10l.94 2.06.94-2.06 2.06-.94-2.06-.94-.94-2.06-.94 2.06-2.06.94z\"/><path d=\"M17.41 7.96l-1.37-1.37c-.4-.4-.92-.59-1.43-.59-.52 0-1.04.2-1.43.59L10.3 9.45l-7.72 7.72c-.78.78-.78 2.05 0 2.83L4 21.41c.39.39.9.59 1.41.59.51 0 1.02-.2 1.41-.59l7.78-7.78 2.81-2.81c.8-.78.8-2.07 0-2.86zM5.41 20L4 18.59l7.72-7.72 1.47 1.35L5.41 20z\"/>\n",
              "  </svg>\n",
              "      </button>\n",
              "      \n",
              "  <style>\n",
              "    .colab-df-container {\n",
              "      display:flex;\n",
              "      flex-wrap:wrap;\n",
              "      gap: 12px;\n",
              "    }\n",
              "\n",
              "    .colab-df-convert {\n",
              "      background-color: #E8F0FE;\n",
              "      border: none;\n",
              "      border-radius: 50%;\n",
              "      cursor: pointer;\n",
              "      display: none;\n",
              "      fill: #1967D2;\n",
              "      height: 32px;\n",
              "      padding: 0 0 0 0;\n",
              "      width: 32px;\n",
              "    }\n",
              "\n",
              "    .colab-df-convert:hover {\n",
              "      background-color: #E2EBFA;\n",
              "      box-shadow: 0px 1px 2px rgba(60, 64, 67, 0.3), 0px 1px 3px 1px rgba(60, 64, 67, 0.15);\n",
              "      fill: #174EA6;\n",
              "    }\n",
              "\n",
              "    [theme=dark] .colab-df-convert {\n",
              "      background-color: #3B4455;\n",
              "      fill: #D2E3FC;\n",
              "    }\n",
              "\n",
              "    [theme=dark] .colab-df-convert:hover {\n",
              "      background-color: #434B5C;\n",
              "      box-shadow: 0px 1px 3px 1px rgba(0, 0, 0, 0.15);\n",
              "      filter: drop-shadow(0px 1px 2px rgba(0, 0, 0, 0.3));\n",
              "      fill: #FFFFFF;\n",
              "    }\n",
              "  </style>\n",
              "\n",
              "      <script>\n",
              "        const buttonEl =\n",
              "          document.querySelector('#df-b791b4b2-3edf-4ae2-a942-bde5fab59f7c button.colab-df-convert');\n",
              "        buttonEl.style.display =\n",
              "          google.colab.kernel.accessAllowed ? 'block' : 'none';\n",
              "\n",
              "        async function convertToInteractive(key) {\n",
              "          const element = document.querySelector('#df-b791b4b2-3edf-4ae2-a942-bde5fab59f7c');\n",
              "          const dataTable =\n",
              "            await google.colab.kernel.invokeFunction('convertToInteractive',\n",
              "                                                     [key], {});\n",
              "          if (!dataTable) return;\n",
              "\n",
              "          const docLinkHtml = 'Like what you see? Visit the ' +\n",
              "            '<a target=\"_blank\" href=https://colab.research.google.com/notebooks/data_table.ipynb>data table notebook</a>'\n",
              "            + ' to learn more about interactive tables.';\n",
              "          element.innerHTML = '';\n",
              "          dataTable['output_type'] = 'display_data';\n",
              "          await google.colab.output.renderOutput(dataTable, element);\n",
              "          const docLink = document.createElement('div');\n",
              "          docLink.innerHTML = docLinkHtml;\n",
              "          element.appendChild(docLink);\n",
              "        }\n",
              "      </script>\n",
              "    </div>\n",
              "  </div>\n",
              "  "
            ]
          },
          "metadata": {},
          "execution_count": 198
        }
      ]
    }
  ]
}